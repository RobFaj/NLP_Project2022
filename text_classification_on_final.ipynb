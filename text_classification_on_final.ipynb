{
  "nbformat": 4,
  "nbformat_minor": 0,
  "metadata": {
    "colab": {
      "provenance": []
    },
    "kernelspec": {
      "name": "python3",
      "display_name": "Python 3"
    },
    "language_info": {
      "name": "python"
    }
  },
  "cells": [
    {
      "cell_type": "code",
      "execution_count": 1,
      "metadata": {
        "colab": {
          "base_uri": "https://localhost:8080/"
        },
        "id": "SQzOrkMXbczY",
        "outputId": "e66a7d7b-75a3-4b63-d9aa-ad7a2352a5e2"
      },
      "outputs": [
        {
          "output_type": "stream",
          "name": "stderr",
          "text": [
            "[nltk_data] Downloading package stopwords to /root/nltk_data...\n",
            "[nltk_data]   Unzipping corpora/stopwords.zip.\n"
          ]
        }
      ],
      "source": [
        "# Import libraries\n",
        "import pandas as pd\n",
        "import numpy as np\n",
        "import json\n",
        "import re\n",
        "import spacy\n",
        "import pandas as pd\n",
        "import zipfile\n",
        "import matplotlib.pyplot as plt\n",
        "import nltk\n",
        "from nltk import FreqDist\n",
        "nltk.download('stopwords')\n",
        "import seaborn as sns\n",
        "%matplotlib inline"
      ]
    },
    {
      "cell_type": "code",
      "source": [
        "zf = zipfile.ZipFile('tripadvisor_hotel_reviews.zip') \n",
        "df = pd.read_csv(zf.open('tripadvisor_hotel_reviews.csv'))"
      ],
      "metadata": {
        "id": "SpFvYEXdbz7h"
      },
      "execution_count": 3,
      "outputs": []
    },
    {
      "cell_type": "code",
      "source": [
        "df.head()"
      ],
      "metadata": {
        "colab": {
          "base_uri": "https://localhost:8080/",
          "height": 206
        },
        "id": "-nwtNfFHb6fM",
        "outputId": "e38c7654-28c0-4f7f-f7a1-a231d633f6b6"
      },
      "execution_count": 4,
      "outputs": [
        {
          "output_type": "execute_result",
          "data": {
            "text/plain": [
              "                                              Review  Rating\n",
              "0  nice hotel expensive parking got good deal sta...       4\n",
              "1  ok nothing special charge diamond member hilto...       2\n",
              "2  nice rooms not 4* experience hotel monaco seat...       3\n",
              "3  unique, great stay, wonderful time hotel monac...       5\n",
              "4  great stay great stay, went seahawk game aweso...       5"
            ],
            "text/html": [
              "\n",
              "  <div id=\"df-bb3c3b88-3cc5-47c4-ac71-34e9e4c7b4e8\">\n",
              "    <div class=\"colab-df-container\">\n",
              "      <div>\n",
              "<style scoped>\n",
              "    .dataframe tbody tr th:only-of-type {\n",
              "        vertical-align: middle;\n",
              "    }\n",
              "\n",
              "    .dataframe tbody tr th {\n",
              "        vertical-align: top;\n",
              "    }\n",
              "\n",
              "    .dataframe thead th {\n",
              "        text-align: right;\n",
              "    }\n",
              "</style>\n",
              "<table border=\"1\" class=\"dataframe\">\n",
              "  <thead>\n",
              "    <tr style=\"text-align: right;\">\n",
              "      <th></th>\n",
              "      <th>Review</th>\n",
              "      <th>Rating</th>\n",
              "    </tr>\n",
              "  </thead>\n",
              "  <tbody>\n",
              "    <tr>\n",
              "      <th>0</th>\n",
              "      <td>nice hotel expensive parking got good deal sta...</td>\n",
              "      <td>4</td>\n",
              "    </tr>\n",
              "    <tr>\n",
              "      <th>1</th>\n",
              "      <td>ok nothing special charge diamond member hilto...</td>\n",
              "      <td>2</td>\n",
              "    </tr>\n",
              "    <tr>\n",
              "      <th>2</th>\n",
              "      <td>nice rooms not 4* experience hotel monaco seat...</td>\n",
              "      <td>3</td>\n",
              "    </tr>\n",
              "    <tr>\n",
              "      <th>3</th>\n",
              "      <td>unique, great stay, wonderful time hotel monac...</td>\n",
              "      <td>5</td>\n",
              "    </tr>\n",
              "    <tr>\n",
              "      <th>4</th>\n",
              "      <td>great stay great stay, went seahawk game aweso...</td>\n",
              "      <td>5</td>\n",
              "    </tr>\n",
              "  </tbody>\n",
              "</table>\n",
              "</div>\n",
              "      <button class=\"colab-df-convert\" onclick=\"convertToInteractive('df-bb3c3b88-3cc5-47c4-ac71-34e9e4c7b4e8')\"\n",
              "              title=\"Convert this dataframe to an interactive table.\"\n",
              "              style=\"display:none;\">\n",
              "        \n",
              "  <svg xmlns=\"http://www.w3.org/2000/svg\" height=\"24px\"viewBox=\"0 0 24 24\"\n",
              "       width=\"24px\">\n",
              "    <path d=\"M0 0h24v24H0V0z\" fill=\"none\"/>\n",
              "    <path d=\"M18.56 5.44l.94 2.06.94-2.06 2.06-.94-2.06-.94-.94-2.06-.94 2.06-2.06.94zm-11 1L8.5 8.5l.94-2.06 2.06-.94-2.06-.94L8.5 2.5l-.94 2.06-2.06.94zm10 10l.94 2.06.94-2.06 2.06-.94-2.06-.94-.94-2.06-.94 2.06-2.06.94z\"/><path d=\"M17.41 7.96l-1.37-1.37c-.4-.4-.92-.59-1.43-.59-.52 0-1.04.2-1.43.59L10.3 9.45l-7.72 7.72c-.78.78-.78 2.05 0 2.83L4 21.41c.39.39.9.59 1.41.59.51 0 1.02-.2 1.41-.59l7.78-7.78 2.81-2.81c.8-.78.8-2.07 0-2.86zM5.41 20L4 18.59l7.72-7.72 1.47 1.35L5.41 20z\"/>\n",
              "  </svg>\n",
              "      </button>\n",
              "      \n",
              "  <style>\n",
              "    .colab-df-container {\n",
              "      display:flex;\n",
              "      flex-wrap:wrap;\n",
              "      gap: 12px;\n",
              "    }\n",
              "\n",
              "    .colab-df-convert {\n",
              "      background-color: #E8F0FE;\n",
              "      border: none;\n",
              "      border-radius: 50%;\n",
              "      cursor: pointer;\n",
              "      display: none;\n",
              "      fill: #1967D2;\n",
              "      height: 32px;\n",
              "      padding: 0 0 0 0;\n",
              "      width: 32px;\n",
              "    }\n",
              "\n",
              "    .colab-df-convert:hover {\n",
              "      background-color: #E2EBFA;\n",
              "      box-shadow: 0px 1px 2px rgba(60, 64, 67, 0.3), 0px 1px 3px 1px rgba(60, 64, 67, 0.15);\n",
              "      fill: #174EA6;\n",
              "    }\n",
              "\n",
              "    [theme=dark] .colab-df-convert {\n",
              "      background-color: #3B4455;\n",
              "      fill: #D2E3FC;\n",
              "    }\n",
              "\n",
              "    [theme=dark] .colab-df-convert:hover {\n",
              "      background-color: #434B5C;\n",
              "      box-shadow: 0px 1px 3px 1px rgba(0, 0, 0, 0.15);\n",
              "      filter: drop-shadow(0px 1px 2px rgba(0, 0, 0, 0.3));\n",
              "      fill: #FFFFFF;\n",
              "    }\n",
              "  </style>\n",
              "\n",
              "      <script>\n",
              "        const buttonEl =\n",
              "          document.querySelector('#df-bb3c3b88-3cc5-47c4-ac71-34e9e4c7b4e8 button.colab-df-convert');\n",
              "        buttonEl.style.display =\n",
              "          google.colab.kernel.accessAllowed ? 'block' : 'none';\n",
              "\n",
              "        async function convertToInteractive(key) {\n",
              "          const element = document.querySelector('#df-bb3c3b88-3cc5-47c4-ac71-34e9e4c7b4e8');\n",
              "          const dataTable =\n",
              "            await google.colab.kernel.invokeFunction('convertToInteractive',\n",
              "                                                     [key], {});\n",
              "          if (!dataTable) return;\n",
              "\n",
              "          const docLinkHtml = 'Like what you see? Visit the ' +\n",
              "            '<a target=\"_blank\" href=https://colab.research.google.com/notebooks/data_table.ipynb>data table notebook</a>'\n",
              "            + ' to learn more about interactive tables.';\n",
              "          element.innerHTML = '';\n",
              "          dataTable['output_type'] = 'display_data';\n",
              "          await google.colab.output.renderOutput(dataTable, element);\n",
              "          const docLink = document.createElement('div');\n",
              "          docLink.innerHTML = docLinkHtml;\n",
              "          element.appendChild(docLink);\n",
              "        }\n",
              "      </script>\n",
              "    </div>\n",
              "  </div>\n",
              "  "
            ]
          },
          "metadata": {},
          "execution_count": 4
        }
      ]
    },
    {
      "cell_type": "code",
      "source": [
        "!pip install transformers"
      ],
      "metadata": {
        "colab": {
          "base_uri": "https://localhost:8080/"
        },
        "id": "C8xzZIbecemC",
        "outputId": "f380a09b-fbcf-435f-dabb-7558b257aac8"
      },
      "execution_count": 5,
      "outputs": [
        {
          "output_type": "stream",
          "name": "stdout",
          "text": [
            "Looking in indexes: https://pypi.org/simple, https://us-python.pkg.dev/colab-wheels/public/simple/\n",
            "Collecting transformers\n",
            "  Downloading transformers-4.24.0-py3-none-any.whl (5.5 MB)\n",
            "\u001b[K     |████████████████████████████████| 5.5 MB 5.3 MB/s \n",
            "\u001b[?25hCollecting tokenizers!=0.11.3,<0.14,>=0.11.1\n",
            "  Downloading tokenizers-0.13.2-cp37-cp37m-manylinux_2_17_x86_64.manylinux2014_x86_64.whl (7.6 MB)\n",
            "\u001b[K     |████████████████████████████████| 7.6 MB 37.8 MB/s \n",
            "\u001b[?25hRequirement already satisfied: filelock in /usr/local/lib/python3.7/dist-packages (from transformers) (3.8.0)\n",
            "Requirement already satisfied: tqdm>=4.27 in /usr/local/lib/python3.7/dist-packages (from transformers) (4.64.1)\n",
            "Collecting huggingface-hub<1.0,>=0.10.0\n",
            "  Downloading huggingface_hub-0.11.0-py3-none-any.whl (182 kB)\n",
            "\u001b[K     |████████████████████████████████| 182 kB 43.5 MB/s \n",
            "\u001b[?25hRequirement already satisfied: packaging>=20.0 in /usr/local/lib/python3.7/dist-packages (from transformers) (21.3)\n",
            "Requirement already satisfied: requests in /usr/local/lib/python3.7/dist-packages (from transformers) (2.23.0)\n",
            "Requirement already satisfied: importlib-metadata in /usr/local/lib/python3.7/dist-packages (from transformers) (4.13.0)\n",
            "Requirement already satisfied: regex!=2019.12.17 in /usr/local/lib/python3.7/dist-packages (from transformers) (2022.6.2)\n",
            "Requirement already satisfied: numpy>=1.17 in /usr/local/lib/python3.7/dist-packages (from transformers) (1.21.6)\n",
            "Requirement already satisfied: pyyaml>=5.1 in /usr/local/lib/python3.7/dist-packages (from transformers) (6.0)\n",
            "Requirement already satisfied: typing-extensions>=3.7.4.3 in /usr/local/lib/python3.7/dist-packages (from huggingface-hub<1.0,>=0.10.0->transformers) (4.1.1)\n",
            "Requirement already satisfied: pyparsing!=3.0.5,>=2.0.2 in /usr/local/lib/python3.7/dist-packages (from packaging>=20.0->transformers) (3.0.9)\n",
            "Requirement already satisfied: zipp>=0.5 in /usr/local/lib/python3.7/dist-packages (from importlib-metadata->transformers) (3.10.0)\n",
            "Requirement already satisfied: chardet<4,>=3.0.2 in /usr/local/lib/python3.7/dist-packages (from requests->transformers) (3.0.4)\n",
            "Requirement already satisfied: idna<3,>=2.5 in /usr/local/lib/python3.7/dist-packages (from requests->transformers) (2.10)\n",
            "Requirement already satisfied: urllib3!=1.25.0,!=1.25.1,<1.26,>=1.21.1 in /usr/local/lib/python3.7/dist-packages (from requests->transformers) (1.24.3)\n",
            "Requirement already satisfied: certifi>=2017.4.17 in /usr/local/lib/python3.7/dist-packages (from requests->transformers) (2022.9.24)\n",
            "Installing collected packages: tokenizers, huggingface-hub, transformers\n",
            "Successfully installed huggingface-hub-0.11.0 tokenizers-0.13.2 transformers-4.24.0\n"
          ]
        }
      ]
    },
    {
      "cell_type": "code",
      "source": [
        "!pip install tensorflow"
      ],
      "metadata": {
        "colab": {
          "base_uri": "https://localhost:8080/"
        },
        "id": "Bq7QWRhOcjqH",
        "outputId": "0bf9191f-f060-41f1-ea8a-04a9c846f66c"
      },
      "execution_count": 6,
      "outputs": [
        {
          "output_type": "stream",
          "name": "stdout",
          "text": [
            "Looking in indexes: https://pypi.org/simple, https://us-python.pkg.dev/colab-wheels/public/simple/\n",
            "Requirement already satisfied: tensorflow in /usr/local/lib/python3.7/dist-packages (2.9.2)\n",
            "Requirement already satisfied: typing-extensions>=3.6.6 in /usr/local/lib/python3.7/dist-packages (from tensorflow) (4.1.1)\n",
            "Requirement already satisfied: flatbuffers<2,>=1.12 in /usr/local/lib/python3.7/dist-packages (from tensorflow) (1.12)\n",
            "Requirement already satisfied: keras-preprocessing>=1.1.1 in /usr/local/lib/python3.7/dist-packages (from tensorflow) (1.1.2)\n",
            "Requirement already satisfied: grpcio<2.0,>=1.24.3 in /usr/local/lib/python3.7/dist-packages (from tensorflow) (1.50.0)\n",
            "Requirement already satisfied: termcolor>=1.1.0 in /usr/local/lib/python3.7/dist-packages (from tensorflow) (2.1.0)\n",
            "Requirement already satisfied: google-pasta>=0.1.1 in /usr/local/lib/python3.7/dist-packages (from tensorflow) (0.2.0)\n",
            "Requirement already satisfied: tensorboard<2.10,>=2.9 in /usr/local/lib/python3.7/dist-packages (from tensorflow) (2.9.1)\n",
            "Requirement already satisfied: tensorflow-estimator<2.10.0,>=2.9.0rc0 in /usr/local/lib/python3.7/dist-packages (from tensorflow) (2.9.0)\n",
            "Requirement already satisfied: astunparse>=1.6.0 in /usr/local/lib/python3.7/dist-packages (from tensorflow) (1.6.3)\n",
            "Requirement already satisfied: h5py>=2.9.0 in /usr/local/lib/python3.7/dist-packages (from tensorflow) (3.1.0)\n",
            "Requirement already satisfied: libclang>=13.0.0 in /usr/local/lib/python3.7/dist-packages (from tensorflow) (14.0.6)\n",
            "Requirement already satisfied: absl-py>=1.0.0 in /usr/local/lib/python3.7/dist-packages (from tensorflow) (1.3.0)\n",
            "Requirement already satisfied: packaging in /usr/local/lib/python3.7/dist-packages (from tensorflow) (21.3)\n",
            "Requirement already satisfied: keras<2.10.0,>=2.9.0rc0 in /usr/local/lib/python3.7/dist-packages (from tensorflow) (2.9.0)\n",
            "Requirement already satisfied: six>=1.12.0 in /usr/local/lib/python3.7/dist-packages (from tensorflow) (1.15.0)\n",
            "Requirement already satisfied: protobuf<3.20,>=3.9.2 in /usr/local/lib/python3.7/dist-packages (from tensorflow) (3.19.6)\n",
            "Requirement already satisfied: opt-einsum>=2.3.2 in /usr/local/lib/python3.7/dist-packages (from tensorflow) (3.3.0)\n",
            "Requirement already satisfied: gast<=0.4.0,>=0.2.1 in /usr/local/lib/python3.7/dist-packages (from tensorflow) (0.4.0)\n",
            "Requirement already satisfied: tensorflow-io-gcs-filesystem>=0.23.1 in /usr/local/lib/python3.7/dist-packages (from tensorflow) (0.27.0)\n",
            "Requirement already satisfied: wrapt>=1.11.0 in /usr/local/lib/python3.7/dist-packages (from tensorflow) (1.14.1)\n",
            "Requirement already satisfied: setuptools in /usr/local/lib/python3.7/dist-packages (from tensorflow) (57.4.0)\n",
            "Requirement already satisfied: numpy>=1.20 in /usr/local/lib/python3.7/dist-packages (from tensorflow) (1.21.6)\n",
            "Requirement already satisfied: wheel<1.0,>=0.23.0 in /usr/local/lib/python3.7/dist-packages (from astunparse>=1.6.0->tensorflow) (0.38.4)\n",
            "Requirement already satisfied: cached-property in /usr/local/lib/python3.7/dist-packages (from h5py>=2.9.0->tensorflow) (1.5.2)\n",
            "Requirement already satisfied: werkzeug>=1.0.1 in /usr/local/lib/python3.7/dist-packages (from tensorboard<2.10,>=2.9->tensorflow) (1.0.1)\n",
            "Requirement already satisfied: requests<3,>=2.21.0 in /usr/local/lib/python3.7/dist-packages (from tensorboard<2.10,>=2.9->tensorflow) (2.23.0)\n",
            "Requirement already satisfied: tensorboard-data-server<0.7.0,>=0.6.0 in /usr/local/lib/python3.7/dist-packages (from tensorboard<2.10,>=2.9->tensorflow) (0.6.1)\n",
            "Requirement already satisfied: tensorboard-plugin-wit>=1.6.0 in /usr/local/lib/python3.7/dist-packages (from tensorboard<2.10,>=2.9->tensorflow) (1.8.1)\n",
            "Requirement already satisfied: markdown>=2.6.8 in /usr/local/lib/python3.7/dist-packages (from tensorboard<2.10,>=2.9->tensorflow) (3.4.1)\n",
            "Requirement already satisfied: google-auth-oauthlib<0.5,>=0.4.1 in /usr/local/lib/python3.7/dist-packages (from tensorboard<2.10,>=2.9->tensorflow) (0.4.6)\n",
            "Requirement already satisfied: google-auth<3,>=1.6.3 in /usr/local/lib/python3.7/dist-packages (from tensorboard<2.10,>=2.9->tensorflow) (2.14.1)\n",
            "Requirement already satisfied: rsa<5,>=3.1.4 in /usr/local/lib/python3.7/dist-packages (from google-auth<3,>=1.6.3->tensorboard<2.10,>=2.9->tensorflow) (4.9)\n",
            "Requirement already satisfied: pyasn1-modules>=0.2.1 in /usr/local/lib/python3.7/dist-packages (from google-auth<3,>=1.6.3->tensorboard<2.10,>=2.9->tensorflow) (0.2.8)\n",
            "Requirement already satisfied: cachetools<6.0,>=2.0.0 in /usr/local/lib/python3.7/dist-packages (from google-auth<3,>=1.6.3->tensorboard<2.10,>=2.9->tensorflow) (5.2.0)\n",
            "Requirement already satisfied: requests-oauthlib>=0.7.0 in /usr/local/lib/python3.7/dist-packages (from google-auth-oauthlib<0.5,>=0.4.1->tensorboard<2.10,>=2.9->tensorflow) (1.3.1)\n",
            "Requirement already satisfied: importlib-metadata>=4.4 in /usr/local/lib/python3.7/dist-packages (from markdown>=2.6.8->tensorboard<2.10,>=2.9->tensorflow) (4.13.0)\n",
            "Requirement already satisfied: zipp>=0.5 in /usr/local/lib/python3.7/dist-packages (from importlib-metadata>=4.4->markdown>=2.6.8->tensorboard<2.10,>=2.9->tensorflow) (3.10.0)\n",
            "Requirement already satisfied: pyasn1<0.5.0,>=0.4.6 in /usr/local/lib/python3.7/dist-packages (from pyasn1-modules>=0.2.1->google-auth<3,>=1.6.3->tensorboard<2.10,>=2.9->tensorflow) (0.4.8)\n",
            "Requirement already satisfied: idna<3,>=2.5 in /usr/local/lib/python3.7/dist-packages (from requests<3,>=2.21.0->tensorboard<2.10,>=2.9->tensorflow) (2.10)\n",
            "Requirement already satisfied: chardet<4,>=3.0.2 in /usr/local/lib/python3.7/dist-packages (from requests<3,>=2.21.0->tensorboard<2.10,>=2.9->tensorflow) (3.0.4)\n",
            "Requirement already satisfied: urllib3!=1.25.0,!=1.25.1,<1.26,>=1.21.1 in /usr/local/lib/python3.7/dist-packages (from requests<3,>=2.21.0->tensorboard<2.10,>=2.9->tensorflow) (1.24.3)\n",
            "Requirement already satisfied: certifi>=2017.4.17 in /usr/local/lib/python3.7/dist-packages (from requests<3,>=2.21.0->tensorboard<2.10,>=2.9->tensorflow) (2022.9.24)\n",
            "Requirement already satisfied: oauthlib>=3.0.0 in /usr/local/lib/python3.7/dist-packages (from requests-oauthlib>=0.7.0->google-auth-oauthlib<0.5,>=0.4.1->tensorboard<2.10,>=2.9->tensorflow) (3.2.2)\n",
            "Requirement already satisfied: pyparsing!=3.0.5,>=2.0.2 in /usr/local/lib/python3.7/dist-packages (from packaging->tensorflow) (3.0.9)\n"
          ]
        }
      ]
    },
    {
      "cell_type": "code",
      "source": [
        "from wordcloud import WordCloud,STOPWORDS\n",
        "from sklearn.metrics import accuracy_score,classification_report\n",
        "from sklearn.model_selection import train_test_split\n",
        "from tensorflow.keras.preprocessing.text import Tokenizer\n",
        "from tensorflow.keras.preprocessing.sequence import pad_sequences\n",
        "from tensorflow.keras.models import Sequential\n",
        "from tensorflow.keras.layers import Dense,LSTM,Flatten,Dropout,Embedding\n",
        "from tensorflow.keras.utils import to_categorical\n",
        "import matplotlib.pyplot as plt\n",
        "import seaborn as sns\n",
        "import plotly.express as px\n",
        "from nltk.stem import WordNetLemmatizer\n",
        "from collections import Counter\n",
        "import re\n",
        "import nltk\n",
        "nltk.download('wordnet')\n",
        "nltk.download('omw-1.4')"
      ],
      "metadata": {
        "colab": {
          "base_uri": "https://localhost:8080/"
        },
        "id": "HRWLwi7qcc0c",
        "outputId": "7ef864d7-10ba-4416-c433-fbc3834f40da"
      },
      "execution_count": 7,
      "outputs": [
        {
          "output_type": "stream",
          "name": "stderr",
          "text": [
            "[nltk_data] Downloading package wordnet to /root/nltk_data...\n",
            "[nltk_data] Downloading package omw-1.4 to /root/nltk_data...\n"
          ]
        },
        {
          "output_type": "execute_result",
          "data": {
            "text/plain": [
              "True"
            ]
          },
          "metadata": {},
          "execution_count": 7
        }
      ]
    },
    {
      "cell_type": "code",
      "source": [
        "def unique_words(word,rating=None):\n",
        "    words=[]\n",
        "    stopwords=set(STOPWORDS)\n",
        "    some_more_common_words=set(['hotel','room','service','rooms','stayed','just','no','not','staff'])\n",
        "    stopwords.update(some_more_common_words)\n",
        "    copy=df['Review']\n",
        "    if rating!=None:\n",
        "        copy=df[df['Rating']==rating]['Review']\n",
        "    for y in copy:\n",
        "        s=y.split(\" \")\n",
        "        for x in s:\n",
        "            if x.isalpha() and x not in stopwords:\n",
        "                words.append(x)\n",
        "    return np.array(Counter(words).most_common(word))"
      ],
      "metadata": {
        "id": "LIDA4VChco_w"
      },
      "execution_count": 8,
      "outputs": []
    },
    {
      "cell_type": "code",
      "source": [
        "fig=plt.figure(figsize=(20,10))\n",
        "counts=Counter(df['Rating'])\n",
        "for rating in range(1,6):\n",
        "    rated=unique_words(word=10,rating=rating)\n",
        "    plt.subplot(2,3,rating)\n",
        "    plt.xlabel('Word Frequency')\n",
        "    plt.xlim([0,1.2])\n",
        "    plt.title('For Rating:'+ str(rating))\n",
        "    sns.barplot(y=rated[:,0],x=rated[:,1].astype(int)/counts[rating])\n",
        "plt.show()"
      ],
      "metadata": {
        "colab": {
          "base_uri": "https://localhost:8080/",
          "height": 607
        },
        "id": "MeOfdQAScxdT",
        "outputId": "20c6d7db-c9c1-498a-afaf-652c37bf1a0d"
      },
      "execution_count": 9,
      "outputs": [
        {
          "output_type": "display_data",
          "data": {
            "text/plain": [
              "<Figure size 1440x720 with 5 Axes>"
            ],
            "image/png": "[encoded data removed]"
          },
          "metadata": {
            "needs_background": "light"
          }
        }
      ]
    },
    {
      "cell_type": "code",
      "source": [
        "s=set()\n",
        "stop=set(STOPWORDS)\n",
        "lemma=WordNetLemmatizer()\n",
        "for x in df['Review']:\n",
        "    x=re.sub('[^A-Za-z]',\" \",x)\n",
        "    x=x.split(\" \")\n",
        "    for w in x:\n",
        "        w=lemma.lemmatize(w)\n",
        "        if w not in stop:\n",
        "            s.add(w)\n",
        "len(s)#number of distinct words"
      ],
      "metadata": {
        "colab": {
          "base_uri": "https://localhost:8080/"
        },
        "id": "p1tvBQvFdA-c",
        "outputId": "d5e90604-c4e5-4330-8cea-f190cc9f065b"
      },
      "execution_count": 10,
      "outputs": [
        {
          "output_type": "execute_result",
          "data": {
            "text/plain": [
              "44740"
            ]
          },
          "metadata": {},
          "execution_count": 10
        }
      ]
    },
    {
      "cell_type": "code",
      "source": [
        "def lemmatizer(x):\n",
        "    x=re.sub('[^A-Za-z]',' ',x)\n",
        "    s=x.split(\" \")\n",
        "    h=[]\n",
        "    for y in s:\n",
        "        y=lemma.lemmatize(y)\n",
        "        if y not in stop:\n",
        "            h.append(y)\n",
        "    return \" \".join(h)  "
      ],
      "metadata": {
        "id": "BY9C-9u6dWc7"
      },
      "execution_count": 11,
      "outputs": []
    },
    {
      "cell_type": "code",
      "source": [
        "df['nlp_text']=df['Review'].apply(lambda x: lemmatizer(x))"
      ],
      "metadata": {
        "id": "kEQKknWNda65"
      },
      "execution_count": 12,
      "outputs": []
    },
    {
      "cell_type": "code",
      "source": [
        "df.head()"
      ],
      "metadata": {
        "colab": {
          "base_uri": "https://localhost:8080/",
          "height": 206
        },
        "id": "4GhSv96Jdd07",
        "outputId": "8394ec70-7538-4154-a9f0-3b77ec5faf5e"
      },
      "execution_count": 13,
      "outputs": [
        {
          "output_type": "execute_result",
          "data": {
            "text/plain": [
              "                                              Review  Rating  \\\n",
              "0  nice hotel expensive parking got good deal sta...       4   \n",
              "1  ok nothing special charge diamond member hilto...       2   \n",
              "2  nice rooms not 4* experience hotel monaco seat...       3   \n",
              "3  unique, great stay, wonderful time hotel monac...       5   \n",
              "4  great stay great stay, went seahawk game aweso...       5   \n",
              "\n",
              "                                            nlp_text  \n",
              "0  nice hotel expensive parking got good deal sta...  \n",
              "1  ok nothing special charge diamond member hilto...  \n",
              "2  nice room    experience hotel monaco seattle g...  \n",
              "3  unique  great stay  wonderful time hotel monac...  \n",
              "4  great stay great stay  went seahawk game aweso...  "
            ],
            "text/html": [
              "\n",
              "  <div id=\"df-3c080f0f-f765-4461-9671-a27e62dac8db\">\n",
              "    <div class=\"colab-df-container\">\n",
              "      <div>\n",
              "<style scoped>\n",
              "    .dataframe tbody tr th:only-of-type {\n",
              "        vertical-align: middle;\n",
              "    }\n",
              "\n",
              "    .dataframe tbody tr th {\n",
              "        vertical-align: top;\n",
              "    }\n",
              "\n",
              "    .dataframe thead th {\n",
              "        text-align: right;\n",
              "    }\n",
              "</style>\n",
              "<table border=\"1\" class=\"dataframe\">\n",
              "  <thead>\n",
              "    <tr style=\"text-align: right;\">\n",
              "      <th></th>\n",
              "      <th>Review</th>\n",
              "      <th>Rating</th>\n",
              "      <th>nlp_text</th>\n",
              "    </tr>\n",
              "  </thead>\n",
              "  <tbody>\n",
              "    <tr>\n",
              "      <th>0</th>\n",
              "      <td>nice hotel expensive parking got good deal sta...</td>\n",
              "      <td>4</td>\n",
              "      <td>nice hotel expensive parking got good deal sta...</td>\n",
              "    </tr>\n",
              "    <tr>\n",
              "      <th>1</th>\n",
              "      <td>ok nothing special charge diamond member hilto...</td>\n",
              "      <td>2</td>\n",
              "      <td>ok nothing special charge diamond member hilto...</td>\n",
              "    </tr>\n",
              "    <tr>\n",
              "      <th>2</th>\n",
              "      <td>nice rooms not 4* experience hotel monaco seat...</td>\n",
              "      <td>3</td>\n",
              "      <td>nice room    experience hotel monaco seattle g...</td>\n",
              "    </tr>\n",
              "    <tr>\n",
              "      <th>3</th>\n",
              "      <td>unique, great stay, wonderful time hotel monac...</td>\n",
              "      <td>5</td>\n",
              "      <td>unique  great stay  wonderful time hotel monac...</td>\n",
              "    </tr>\n",
              "    <tr>\n",
              "      <th>4</th>\n",
              "      <td>great stay great stay, went seahawk game aweso...</td>\n",
              "      <td>5</td>\n",
              "      <td>great stay great stay  went seahawk game aweso...</td>\n",
              "    </tr>\n",
              "  </tbody>\n",
              "</table>\n",
              "</div>\n",
              "      <button class=\"colab-df-convert\" onclick=\"convertToInteractive('df-3c080f0f-f765-4461-9671-a27e62dac8db')\"\n",
              "              title=\"Convert this dataframe to an interactive table.\"\n",
              "              style=\"display:none;\">\n",
              "        \n",
              "  <svg xmlns=\"http://www.w3.org/2000/svg\" height=\"24px\"viewBox=\"0 0 24 24\"\n",
              "       width=\"24px\">\n",
              "    <path d=\"M0 0h24v24H0V0z\" fill=\"none\"/>\n",
              "    <path d=\"M18.56 5.44l.94 2.06.94-2.06 2.06-.94-2.06-.94-.94-2.06-.94 2.06-2.06.94zm-11 1L8.5 8.5l.94-2.06 2.06-.94-2.06-.94L8.5 2.5l-.94 2.06-2.06.94zm10 10l.94 2.06.94-2.06 2.06-.94-2.06-.94-.94-2.06-.94 2.06-2.06.94z\"/><path d=\"M17.41 7.96l-1.37-1.37c-.4-.4-.92-.59-1.43-.59-.52 0-1.04.2-1.43.59L10.3 9.45l-7.72 7.72c-.78.78-.78 2.05 0 2.83L4 21.41c.39.39.9.59 1.41.59.51 0 1.02-.2 1.41-.59l7.78-7.78 2.81-2.81c.8-.78.8-2.07 0-2.86zM5.41 20L4 18.59l7.72-7.72 1.47 1.35L5.41 20z\"/>\n",
              "  </svg>\n",
              "      </button>\n",
              "      \n",
              "  <style>\n",
              "    .colab-df-container {\n",
              "      display:flex;\n",
              "      flex-wrap:wrap;\n",
              "      gap: 12px;\n",
              "    }\n",
              "\n",
              "    .colab-df-convert {\n",
              "      background-color: #E8F0FE;\n",
              "      border: none;\n",
              "      border-radius: 50%;\n",
              "      cursor: pointer;\n",
              "      display: none;\n",
              "      fill: #1967D2;\n",
              "      height: 32px;\n",
              "      padding: 0 0 0 0;\n",
              "      width: 32px;\n",
              "    }\n",
              "\n",
              "    .colab-df-convert:hover {\n",
              "      background-color: #E2EBFA;\n",
              "      box-shadow: 0px 1px 2px rgba(60, 64, 67, 0.3), 0px 1px 3px 1px rgba(60, 64, 67, 0.15);\n",
              "      fill: #174EA6;\n",
              "    }\n",
              "\n",
              "    [theme=dark] .colab-df-convert {\n",
              "      background-color: #3B4455;\n",
              "      fill: #D2E3FC;\n",
              "    }\n",
              "\n",
              "    [theme=dark] .colab-df-convert:hover {\n",
              "      background-color: #434B5C;\n",
              "      box-shadow: 0px 1px 3px 1px rgba(0, 0, 0, 0.15);\n",
              "      filter: drop-shadow(0px 1px 2px rgba(0, 0, 0, 0.3));\n",
              "      fill: #FFFFFF;\n",
              "    }\n",
              "  </style>\n",
              "\n",
              "      <script>\n",
              "        const buttonEl =\n",
              "          document.querySelector('#df-3c080f0f-f765-4461-9671-a27e62dac8db button.colab-df-convert');\n",
              "        buttonEl.style.display =\n",
              "          google.colab.kernel.accessAllowed ? 'block' : 'none';\n",
              "\n",
              "        async function convertToInteractive(key) {\n",
              "          const element = document.querySelector('#df-3c080f0f-f765-4461-9671-a27e62dac8db');\n",
              "          const dataTable =\n",
              "            await google.colab.kernel.invokeFunction('convertToInteractive',\n",
              "                                                     [key], {});\n",
              "          if (!dataTable) return;\n",
              "\n",
              "          const docLinkHtml = 'Like what you see? Visit the ' +\n",
              "            '<a target=\"_blank\" href=https://colab.research.google.com/notebooks/data_table.ipynb>data table notebook</a>'\n",
              "            + ' to learn more about interactive tables.';\n",
              "          element.innerHTML = '';\n",
              "          dataTable['output_type'] = 'display_data';\n",
              "          await google.colab.output.renderOutput(dataTable, element);\n",
              "          const docLink = document.createElement('div');\n",
              "          docLink.innerHTML = docLinkHtml;\n",
              "          element.appendChild(docLink);\n",
              "        }\n",
              "      </script>\n",
              "    </div>\n",
              "  </div>\n",
              "  "
            ]
          },
          "metadata": {},
          "execution_count": 13
        }
      ]
    },
    {
      "cell_type": "code",
      "source": [
        "num_words=20000\n",
        "tokenizer=Tokenizer(num_words=num_words,oov_token='OOV')\n",
        "tokenizer.fit_on_texts(df['nlp_text'])\n",
        "tokenized_text=tokenizer.texts_to_sequences(df['nlp_text'])\n",
        "np.mean([len(x) for x in tokenized_text])"
      ],
      "metadata": {
        "colab": {
          "base_uri": "https://localhost:8080/"
        },
        "id": "2hxUpwqudiTb",
        "outputId": "06a0af3a-c711-4acd-f658-4fb5b2cf3411"
      },
      "execution_count": 14,
      "outputs": [
        {
          "output_type": "execute_result",
          "data": {
            "text/plain": [
              "101.7221707090918"
            ]
          },
          "metadata": {},
          "execution_count": 14
        }
      ]
    },
    {
      "cell_type": "code",
      "source": [
        "length=100\n",
        "tokenized_text=pad_sequences(tokenized_text,length,padding='post',truncating='post')\n",
        "output=to_categorical(df['Rating'])\n",
        "output=output[:,1:]"
      ],
      "metadata": {
        "id": "0UGhXO5mdpv_"
      },
      "execution_count": 15,
      "outputs": []
    },
    {
      "cell_type": "code",
      "source": [
        "train,test,y_train,y_test=train_test_split(tokenized_text,output,test_size=0.2,random_state=21)"
      ],
      "metadata": {
        "id": "S3pCHJOQduRW"
      },
      "execution_count": 16,
      "outputs": []
    },
    {
      "cell_type": "code",
      "source": [
        "vector_space=32\n",
        "model=Sequential()\n",
        "model.add(Embedding(num_words,vector_space,input_length=length))\n",
        "model.add(LSTM(16,return_sequences=True,recurrent_dropout=0.2))\n",
        "model.add(LSTM(16,return_sequences=True,recurrent_dropout=0.2))\n",
        "model.add(LSTM(32))\n",
        "model.add(Flatten())\n",
        "model.add(Dropout(0.5))\n",
        "model.add(Dense(64,activation='relu'))\n",
        "model.add(Dropout(0.25))\n",
        "model.add(Dense(64,activation='relu'))\n",
        "model.add(Dropout(0.25))\n",
        "model.add(Dense(5,activation='softmax'))"
      ],
      "metadata": {
        "id": "MPzJOvHQsA02"
      },
      "execution_count": 17,
      "outputs": []
    },
    {
      "cell_type": "code",
      "source": [
        "model.summary()"
      ],
      "metadata": {
        "colab": {
          "base_uri": "https://localhost:8080/"
        },
        "id": "gkn-6j-wsCdB",
        "outputId": "9754ee9a-f443-4af1-d9ef-43f7f5f8f459"
      },
      "execution_count": 18,
      "outputs": [
        {
          "output_type": "stream",
          "name": "stdout",
          "text": [
            "Model: \"sequential\"\n",
            "_________________________________________________________________\n",
            " Layer (type)                Output Shape              Param #   \n",
            "=================================================================\n",
            " embedding (Embedding)       (None, 100, 32)           640000    \n",
            "                                                                 \n",
            " lstm (LSTM)                 (None, 100, 16)           3136      \n",
            "                                                                 \n",
            " lstm_1 (LSTM)               (None, 100, 16)           2112      \n",
            "                                                                 \n",
            " lstm_2 (LSTM)               (None, 32)                6272      \n",
            "                                                                 \n",
            " flatten (Flatten)           (None, 32)                0         \n",
            "                                                                 \n",
            " dropout (Dropout)           (None, 32)                0         \n",
            "                                                                 \n",
            " dense (Dense)               (None, 64)                2112      \n",
            "                                                                 \n",
            " dropout_1 (Dropout)         (None, 64)                0         \n",
            "                                                                 \n",
            " dense_1 (Dense)             (None, 64)                4160      \n",
            "                                                                 \n",
            " dropout_2 (Dropout)         (None, 64)                0         \n",
            "                                                                 \n",
            " dense_2 (Dense)             (None, 5)                 325       \n",
            "                                                                 \n",
            "=================================================================\n",
            "Total params: 658,117\n",
            "Trainable params: 658,117\n",
            "Non-trainable params: 0\n",
            "_________________________________________________________________\n"
          ]
        }
      ]
    },
    {
      "cell_type": "code",
      "source": [
        "epoch=20\n",
        "model.compile(optimizer='Adam',loss='categorical_crossentropy',metrics=['accuracy'])\n",
        "history=model.fit(train,y_train,validation_split=0.2,epochs=epoch,batch_size=1000)"
      ],
      "metadata": {
        "colab": {
          "base_uri": "https://localhost:8080/"
        },
        "id": "tAH3EV9xsHTc",
        "outputId": "9c7aa5b6-2355-4b20-fbdc-8b52aed7cca8"
      },
      "execution_count": 19,
      "outputs": [
        {
          "output_type": "stream",
          "name": "stdout",
          "text": [
            "Epoch 1/20\n",
            "14/14 [==============================] - 23s 1s/step - loss: 1.5398 - accuracy: 0.4182 - val_loss: 1.3786 - val_accuracy: 0.4440\n",
            "Epoch 2/20\n",
            "14/14 [==============================] - 13s 907ms/step - loss: 1.3808 - accuracy: 0.4345 - val_loss: 1.3687 - val_accuracy: 0.4440\n",
            "Epoch 3/20\n",
            "14/14 [==============================] - 15s 1s/step - loss: 1.3594 - accuracy: 0.4316 - val_loss: 1.3366 - val_accuracy: 0.4440\n",
            "Epoch 4/20\n",
            "14/14 [==============================] - 13s 899ms/step - loss: 1.3331 - accuracy: 0.4393 - val_loss: 1.2903 - val_accuracy: 0.4440\n",
            "Epoch 5/20\n",
            "14/14 [==============================] - 13s 900ms/step - loss: 1.2020 - accuracy: 0.4378 - val_loss: 1.1190 - val_accuracy: 0.4657\n",
            "Epoch 6/20\n",
            "14/14 [==============================] - 13s 900ms/step - loss: 1.0978 - accuracy: 0.4685 - val_loss: 1.0817 - val_accuracy: 0.4971\n",
            "Epoch 7/20\n",
            "14/14 [==============================] - 13s 895ms/step - loss: 1.0399 - accuracy: 0.5093 - val_loss: 1.0563 - val_accuracy: 0.4977\n",
            "Epoch 8/20\n",
            "14/14 [==============================] - 13s 896ms/step - loss: 0.9903 - accuracy: 0.5214 - val_loss: 1.0431 - val_accuracy: 0.5069\n",
            "Epoch 9/20\n",
            "14/14 [==============================] - 13s 903ms/step - loss: 0.9359 - accuracy: 0.5348 - val_loss: 1.0559 - val_accuracy: 0.5099\n",
            "Epoch 10/20\n",
            "14/14 [==============================] - 13s 903ms/step - loss: 0.8993 - accuracy: 0.5444 - val_loss: 1.0663 - val_accuracy: 0.5175\n",
            "Epoch 11/20\n",
            "14/14 [==============================] - 13s 906ms/step - loss: 0.8679 - accuracy: 0.5598 - val_loss: 1.0432 - val_accuracy: 0.5456\n",
            "Epoch 12/20\n",
            "14/14 [==============================] - 13s 902ms/step - loss: 0.8404 - accuracy: 0.5926 - val_loss: 1.1735 - val_accuracy: 0.5416\n",
            "Epoch 13/20\n",
            "14/14 [==============================] - 13s 901ms/step - loss: 0.8193 - accuracy: 0.6151 - val_loss: 1.0791 - val_accuracy: 0.5306\n",
            "Epoch 14/20\n",
            "14/14 [==============================] - 13s 900ms/step - loss: 0.7793 - accuracy: 0.6430 - val_loss: 1.1107 - val_accuracy: 0.5276\n",
            "Epoch 15/20\n",
            "14/14 [==============================] - 13s 905ms/step - loss: 0.7289 - accuracy: 0.6766 - val_loss: 1.1741 - val_accuracy: 0.5258\n",
            "Epoch 16/20\n",
            "14/14 [==============================] - 14s 1s/step - loss: 0.6951 - accuracy: 0.6956 - val_loss: 1.2355 - val_accuracy: 0.5361\n",
            "Epoch 17/20\n",
            "14/14 [==============================] - 13s 901ms/step - loss: 0.6729 - accuracy: 0.7101 - val_loss: 1.3443 - val_accuracy: 0.5175\n",
            "Epoch 18/20\n",
            "14/14 [==============================] - 13s 892ms/step - loss: 0.6472 - accuracy: 0.7238 - val_loss: 1.2548 - val_accuracy: 0.5303\n",
            "Epoch 19/20\n",
            "14/14 [==============================] - 13s 903ms/step - loss: 0.6228 - accuracy: 0.7380 - val_loss: 1.3054 - val_accuracy: 0.5316\n",
            "Epoch 20/20\n",
            "14/14 [==============================] - 14s 983ms/step - loss: 0.5810 - accuracy: 0.7549 - val_loss: 1.4079 - val_accuracy: 0.5206\n"
          ]
        }
      ]
    },
    {
      "cell_type": "code",
      "source": [
        "h=history.history\n",
        "fig=plt.figure(figsize=(12,5))\n",
        "plt.subplot(1,2,1)\n",
        "plt.title('Accuracy')\n",
        "plt.plot(range(1,epoch+1),h['accuracy'],label='train')\n",
        "plt.plot(range(1,epoch+1),h['val_accuracy'],label='validation')\n",
        "plt.legend()\n",
        "plt.subplot(1,2,2)\n",
        "plt.title('Loss')\n",
        "plt.plot(range(1,epoch+1),h['loss'],label='train')\n",
        "plt.plot(range(1,epoch+1),h['val_loss'],label='validation')\n",
        "plt.legend()\n",
        "plt.show()"
      ],
      "metadata": {
        "colab": {
          "base_uri": "https://localhost:8080/",
          "height": 336
        },
        "id": "gFAPVwsjtKoG",
        "outputId": "eee47539-e877-4ad6-8a07-ec9328069efd"
      },
      "execution_count": 20,
      "outputs": [
        {
          "output_type": "display_data",
          "data": {
            "text/plain": [
              "<Figure size 864x360 with 2 Axes>"
            ],
            "image/png": "[encoded data removed]"
          },
          "metadata": {
            "needs_background": "light"
          }
        }
      ]
    },
    {
      "cell_type": "code",
      "source": [
        "train,test,y_train,y_test=train_test_split(tokenized_text,df['Rating'],test_size=0.2,random_state=21)"
      ],
      "metadata": {
        "id": "iJwMzixatS9d"
      },
      "execution_count": 21,
      "outputs": []
    },
    {
      "cell_type": "code",
      "source": [
        "model=Sequential()\n",
        "model.add(Embedding(num_words,vector_space,input_length=length))\n",
        "model.add(LSTM(32))\n",
        "model.add(Flatten())\n",
        "model.add(Dense(256,activation='relu'))\n",
        "model.add(Dense(1,activation='relu'))"
      ],
      "metadata": {
        "id": "RFd4XVdctd07"
      },
      "execution_count": 22,
      "outputs": []
    },
    {
      "cell_type": "code",
      "source": [
        "model.summary()"
      ],
      "metadata": {
        "colab": {
          "base_uri": "https://localhost:8080/"
        },
        "id": "uQUrOEPptgJu",
        "outputId": "b1227ff8-7699-4ef0-c5c6-3c4c745f3709"
      },
      "execution_count": 23,
      "outputs": [
        {
          "output_type": "stream",
          "name": "stdout",
          "text": [
            "Model: \"sequential_1\"\n",
            "_________________________________________________________________\n",
            " Layer (type)                Output Shape              Param #   \n",
            "=================================================================\n",
            " embedding_1 (Embedding)     (None, 100, 32)           640000    \n",
            "                                                                 \n",
            " lstm_3 (LSTM)               (None, 32)                8320      \n",
            "                                                                 \n",
            " flatten_1 (Flatten)         (None, 32)                0         \n",
            "                                                                 \n",
            " dense_3 (Dense)             (None, 256)               8448      \n",
            "                                                                 \n",
            " dense_4 (Dense)             (None, 1)                 257       \n",
            "                                                                 \n",
            "=================================================================\n",
            "Total params: 657,025\n",
            "Trainable params: 657,025\n",
            "Non-trainable params: 0\n",
            "_________________________________________________________________\n"
          ]
        }
      ]
    },
    {
      "cell_type": "code",
      "source": [
        "epoch=20\n",
        "model.compile(optimizer='Adam',loss='mse',metrics='mae')\n",
        "history=model.fit(train,y_train,epochs=epoch,batch_size=250,validation_split=0.2)"
      ],
      "metadata": {
        "colab": {
          "base_uri": "https://localhost:8080/"
        },
        "id": "SxYcf4qFth04",
        "outputId": "5bb6f151-bcc8-406a-fa5f-1bd9ca04adf6"
      },
      "execution_count": 24,
      "outputs": [
        {
          "output_type": "stream",
          "name": "stdout",
          "text": [
            "Epoch 1/20\n",
            "53/53 [==============================] - 10s 136ms/step - loss: 6.8142 - mae: 2.1003 - val_loss: 1.4909 - val_mae: 0.9418\n",
            "Epoch 2/20\n",
            "53/53 [==============================] - 8s 153ms/step - loss: 1.4865 - mae: 0.9594 - val_loss: 1.4356 - val_mae: 0.9511\n",
            "Epoch 3/20\n",
            "53/53 [==============================] - 6s 123ms/step - loss: 1.4367 - mae: 0.9461 - val_loss: 1.4047 - val_mae: 0.9440\n",
            "Epoch 4/20\n",
            "53/53 [==============================] - 7s 124ms/step - loss: 1.3403 - mae: 0.9101 - val_loss: 1.3083 - val_mae: 0.9053\n",
            "Epoch 5/20\n",
            "53/53 [==============================] - 7s 135ms/step - loss: 1.1347 - mae: 0.8175 - val_loss: 1.1292 - val_mae: 0.8264\n",
            "Epoch 6/20\n",
            "53/53 [==============================] - 7s 125ms/step - loss: 0.6954 - mae: 0.6543 - val_loss: 0.6769 - val_mae: 0.6654\n",
            "Epoch 7/20\n",
            "53/53 [==============================] - 7s 124ms/step - loss: 0.4537 - mae: 0.5364 - val_loss: 0.6682 - val_mae: 0.6457\n",
            "Epoch 8/20\n",
            "53/53 [==============================] - 7s 124ms/step - loss: 0.3390 - mae: 0.4648 - val_loss: 0.6303 - val_mae: 0.6184\n",
            "Epoch 9/20\n",
            "53/53 [==============================] - 7s 124ms/step - loss: 0.2789 - mae: 0.4218 - val_loss: 0.6842 - val_mae: 0.6049\n",
            "Epoch 10/20\n",
            "53/53 [==============================] - 7s 124ms/step - loss: 0.2300 - mae: 0.3796 - val_loss: 0.6554 - val_mae: 0.6133\n",
            "Epoch 11/20\n",
            "53/53 [==============================] - 7s 124ms/step - loss: 0.2072 - mae: 0.3567 - val_loss: 0.6875 - val_mae: 0.6109\n",
            "Epoch 12/20\n",
            "53/53 [==============================] - 8s 144ms/step - loss: 0.1816 - mae: 0.3335 - val_loss: 0.7258 - val_mae: 0.6078\n",
            "Epoch 13/20\n",
            "53/53 [==============================] - 7s 126ms/step - loss: 0.1603 - mae: 0.3080 - val_loss: 0.6989 - val_mae: 0.6219\n",
            "Epoch 14/20\n",
            "53/53 [==============================] - 7s 123ms/step - loss: 0.1377 - mae: 0.2804 - val_loss: 0.7343 - val_mae: 0.6485\n",
            "Epoch 15/20\n",
            "53/53 [==============================] - 7s 123ms/step - loss: 0.1338 - mae: 0.2748 - val_loss: 0.7650 - val_mae: 0.6473\n",
            "Epoch 16/20\n",
            "53/53 [==============================] - 7s 124ms/step - loss: 0.1230 - mae: 0.2642 - val_loss: 0.7708 - val_mae: 0.6273\n",
            "Epoch 17/20\n",
            "53/53 [==============================] - 6s 123ms/step - loss: 0.1096 - mae: 0.2441 - val_loss: 0.7751 - val_mae: 0.6407\n",
            "Epoch 18/20\n",
            "53/53 [==============================] - 7s 123ms/step - loss: 0.0995 - mae: 0.2287 - val_loss: 0.7574 - val_mae: 0.6418\n",
            "Epoch 19/20\n",
            "53/53 [==============================] - 7s 124ms/step - loss: 0.0922 - mae: 0.2197 - val_loss: 0.7948 - val_mae: 0.6398\n",
            "Epoch 20/20\n",
            "53/53 [==============================] - 7s 125ms/step - loss: 0.0832 - mae: 0.2053 - val_loss: 0.8199 - val_mae: 0.6440\n"
          ]
        }
      ]
    },
    {
      "cell_type": "code",
      "source": [
        "h=history.history\n",
        "fig=plt.figure(figsize=(12,5))\n",
        "plt.subplot(1,2,1)\n",
        "plt.title('Mean Absolute Error')\n",
        "plt.plot(range(1,epoch+1),h['mae'],label='train')\n",
        "plt.plot(range(1,epoch+1),h['val_mae'],label='validation')\n",
        "plt.legend()\n",
        "plt.subplot(1,2,2)\n",
        "plt.title('Loss')\n",
        "plt.plot(range(1,epoch+1),h['loss'],label='train')\n",
        "plt.plot(range(1,epoch+1),h['val_loss'],label='validation')\n",
        "plt.legend()\n",
        "plt.show()"
      ],
      "metadata": {
        "colab": {
          "base_uri": "https://localhost:8080/",
          "height": 336
        },
        "id": "4iBBEF3SuLwd",
        "outputId": "b8fae89a-db95-43ef-b81c-c523e027b18b"
      },
      "execution_count": 25,
      "outputs": [
        {
          "output_type": "display_data",
          "data": {
            "text/plain": [
              "<Figure size 864x360 with 2 Axes>"
            ],
            "image/png": "[encoded data removed]"
          },
          "metadata": {
            "needs_background": "light"
          }
        }
      ]
    },
    {
      "cell_type": "code",
      "source": [
        "def get_preds(data,true_labels):\n",
        "    pred=model.predict(data)\n",
        "    h=[]\n",
        "    for x in pred:\n",
        "        if x-int(x)>=0.5:\n",
        "            h.append(np.ceil(x))\n",
        "        else :\n",
        "            h.append(np.floor(x))\n",
        "    print(pred[0:5])\n",
        "    print(true_labels[:5])\n",
        "    return accuracy_score(h,true_labels)"
      ],
      "metadata": {
        "id": "Zc3FvAubuN8C"
      },
      "execution_count": 26,
      "outputs": []
    },
    {
      "cell_type": "code",
      "source": [
        "get_preds(train,y_train)"
      ],
      "metadata": {
        "colab": {
          "base_uri": "https://localhost:8080/"
        },
        "id": "s7MS2MeFuRyf",
        "outputId": "2920a022-2e71-4dc8-b137-462d7c593cdf"
      },
      "execution_count": 27,
      "outputs": [
        {
          "output_type": "stream",
          "name": "stdout",
          "text": [
            "513/513 [==============================] - 7s 12ms/step\n",
            "[[4.246996]\n",
            " [4.807761]\n",
            " [2.067995]\n",
            " [3.99785 ]\n",
            " [4.11705 ]]\n",
            "10294    4\n",
            "11753    5\n",
            "16362    2\n",
            "7074     4\n",
            "14058    4\n",
            "Name: Rating, dtype: int64\n"
          ]
        },
        {
          "output_type": "execute_result",
          "data": {
            "text/plain": [
              "0.849194729136164"
            ]
          },
          "metadata": {},
          "execution_count": 27
        }
      ]
    },
    {
      "cell_type": "code",
      "source": [
        "get_preds(test,y_test)"
      ],
      "metadata": {
        "colab": {
          "base_uri": "https://localhost:8080/"
        },
        "id": "11tO_5FmuYfq",
        "outputId": "0b3c5510-e726-4def-c149-844bebac529c"
      },
      "execution_count": 28,
      "outputs": [
        {
          "output_type": "stream",
          "name": "stdout",
          "text": [
            "129/129 [==============================] - 2s 16ms/step\n",
            "[[3.9417994]\n",
            " [4.030727 ]\n",
            " [5.0107613]\n",
            " [4.645547 ]\n",
            " [4.454839 ]]\n",
            "955      3\n",
            "19500    5\n",
            "19157    5\n",
            "17671    5\n",
            "17723    5\n",
            "Name: Rating, dtype: int64\n"
          ]
        },
        {
          "output_type": "execute_result",
          "data": {
            "text/plain": [
              "0.5186630885581849"
            ]
          },
          "metadata": {},
          "execution_count": 28
        }
      ]
    }
  ]
}