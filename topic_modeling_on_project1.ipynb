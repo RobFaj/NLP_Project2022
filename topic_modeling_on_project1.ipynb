{
  "nbformat": 4,
  "nbformat_minor": 0,
  "metadata": {
    "colab": {
      "provenance": []
    },
    "kernelspec": {
      "name": "python3",
      "display_name": "Python 3"
    },
    "language_info": {
      "name": "python"
    }
  },
  "cells": [
    {
      "cell_type": "code",
      "execution_count": 1,
      "metadata": {
        "colab": {
          "base_uri": "https://localhost:8080/"
        },
        "id": "Cz_6-3hhMV3c",
        "outputId": "a6b66734-c7aa-4feb-c3a2-e783e6ab519d"
      },
      "outputs": [
        {
          "output_type": "stream",
          "name": "stderr",
          "text": [
            "[nltk_data] Downloading package stopwords to /root/nltk_data...\n",
            "[nltk_data]   Unzipping corpora/stopwords.zip.\n"
          ]
        }
      ],
      "source": [
        "# Import libraries\n",
        "import pandas as pd\n",
        "import numpy as np\n",
        "import json\n",
        "import re\n",
        "import spacy\n",
        "import pandas as pd\n",
        "import zipfile\n",
        "import matplotlib.pyplot as plt\n",
        "import nltk\n",
        "from nltk import FreqDist\n",
        "nltk.download('stopwords')\n",
        "import seaborn as sns\n",
        "%matplotlib inline"
      ]
    },
    {
      "cell_type": "code",
      "source": [
        "zf = zipfile.ZipFile('tripadvisor_hotel_reviews.zip') \n",
        "df = pd.read_csv(zf.open('tripadvisor_hotel_reviews.csv'))"
      ],
      "metadata": {
        "id": "zjUpWxsFMbDe"
      },
      "execution_count": 2,
      "outputs": []
    },
    {
      "cell_type": "code",
      "source": [
        "df.shape"
      ],
      "metadata": {
        "colab": {
          "base_uri": "https://localhost:8080/"
        },
        "id": "I-WHI0o9Miqv",
        "outputId": "d681fd73-af56-4047-ee7e-6663787dff17"
      },
      "execution_count": 3,
      "outputs": [
        {
          "output_type": "execute_result",
          "data": {
            "text/plain": [
              "(20491, 2)"
            ]
          },
          "metadata": {},
          "execution_count": 3
        }
      ]
    },
    {
      "cell_type": "code",
      "source": [
        "df.describe()"
      ],
      "metadata": {
        "colab": {
          "base_uri": "https://localhost:8080/",
          "height": 300
        },
        "id": "-5VDTa_CMkkg",
        "outputId": "b7ac54ef-163b-4fd4-bc0e-55492beb6388"
      },
      "execution_count": 4,
      "outputs": [
        {
          "output_type": "execute_result",
          "data": {
            "text/plain": [
              "             Rating\n",
              "count  20491.000000\n",
              "mean       3.952223\n",
              "std        1.233030\n",
              "min        1.000000\n",
              "25%        3.000000\n",
              "50%        4.000000\n",
              "75%        5.000000\n",
              "max        5.000000"
            ],
            "text/html": [
              "\n",
              "  <div id=\"df-3ad3f7ef-07d3-40a4-9090-d209d0de52eb\">\n",
              "    <div class=\"colab-df-container\">\n",
              "      <div>\n",
              "<style scoped>\n",
              "    .dataframe tbody tr th:only-of-type {\n",
              "        vertical-align: middle;\n",
              "    }\n",
              "\n",
              "    .dataframe tbody tr th {\n",
              "        vertical-align: top;\n",
              "    }\n",
              "\n",
              "    .dataframe thead th {\n",
              "        text-align: right;\n",
              "    }\n",
              "</style>\n",
              "<table border=\"1\" class=\"dataframe\">\n",
              "  <thead>\n",
              "    <tr style=\"text-align: right;\">\n",
              "      <th></th>\n",
              "      <th>Rating</th>\n",
              "    </tr>\n",
              "  </thead>\n",
              "  <tbody>\n",
              "    <tr>\n",
              "      <th>count</th>\n",
              "      <td>20491.000000</td>\n",
              "    </tr>\n",
              "    <tr>\n",
              "      <th>mean</th>\n",
              "      <td>3.952223</td>\n",
              "    </tr>\n",
              "    <tr>\n",
              "      <th>std</th>\n",
              "      <td>1.233030</td>\n",
              "    </tr>\n",
              "    <tr>\n",
              "      <th>min</th>\n",
              "      <td>1.000000</td>\n",
              "    </tr>\n",
              "    <tr>\n",
              "      <th>25%</th>\n",
              "      <td>3.000000</td>\n",
              "    </tr>\n",
              "    <tr>\n",
              "      <th>50%</th>\n",
              "      <td>4.000000</td>\n",
              "    </tr>\n",
              "    <tr>\n",
              "      <th>75%</th>\n",
              "      <td>5.000000</td>\n",
              "    </tr>\n",
              "    <tr>\n",
              "      <th>max</th>\n",
              "      <td>5.000000</td>\n",
              "    </tr>\n",
              "  </tbody>\n",
              "</table>\n",
              "</div>\n",
              "      <button class=\"colab-df-convert\" onclick=\"convertToInteractive('df-3ad3f7ef-07d3-40a4-9090-d209d0de52eb')\"\n",
              "              title=\"Convert this dataframe to an interactive table.\"\n",
              "              style=\"display:none;\">\n",
              "        \n",
              "  <svg xmlns=\"http://www.w3.org/2000/svg\" height=\"24px\"viewBox=\"0 0 24 24\"\n",
              "       width=\"24px\">\n",
              "    <path d=\"M0 0h24v24H0V0z\" fill=\"none\"/>\n",
              "    <path d=\"M18.56 5.44l.94 2.06.94-2.06 2.06-.94-2.06-.94-.94-2.06-.94 2.06-2.06.94zm-11 1L8.5 8.5l.94-2.06 2.06-.94-2.06-.94L8.5 2.5l-.94 2.06-2.06.94zm10 10l.94 2.06.94-2.06 2.06-.94-2.06-.94-.94-2.06-.94 2.06-2.06.94z\"/><path d=\"M17.41 7.96l-1.37-1.37c-.4-.4-.92-.59-1.43-.59-.52 0-1.04.2-1.43.59L10.3 9.45l-7.72 7.72c-.78.78-.78 2.05 0 2.83L4 21.41c.39.39.9.59 1.41.59.51 0 1.02-.2 1.41-.59l7.78-7.78 2.81-2.81c.8-.78.8-2.07 0-2.86zM5.41 20L4 18.59l7.72-7.72 1.47 1.35L5.41 20z\"/>\n",
              "  </svg>\n",
              "      </button>\n",
              "      \n",
              "  <style>\n",
              "    .colab-df-container {\n",
              "      display:flex;\n",
              "      flex-wrap:wrap;\n",
              "      gap: 12px;\n",
              "    }\n",
              "\n",
              "    .colab-df-convert {\n",
              "      background-color: #E8F0FE;\n",
              "      border: none;\n",
              "      border-radius: 50%;\n",
              "      cursor: pointer;\n",
              "      display: none;\n",
              "      fill: #1967D2;\n",
              "      height: 32px;\n",
              "      padding: 0 0 0 0;\n",
              "      width: 32px;\n",
              "    }\n",
              "\n",
              "    .colab-df-convert:hover {\n",
              "      background-color: #E2EBFA;\n",
              "      box-shadow: 0px 1px 2px rgba(60, 64, 67, 0.3), 0px 1px 3px 1px rgba(60, 64, 67, 0.15);\n",
              "      fill: #174EA6;\n",
              "    }\n",
              "\n",
              "    [theme=dark] .colab-df-convert {\n",
              "      background-color: #3B4455;\n",
              "      fill: #D2E3FC;\n",
              "    }\n",
              "\n",
              "    [theme=dark] .colab-df-convert:hover {\n",
              "      background-color: #434B5C;\n",
              "      box-shadow: 0px 1px 3px 1px rgba(0, 0, 0, 0.15);\n",
              "      filter: drop-shadow(0px 1px 2px rgba(0, 0, 0, 0.3));\n",
              "      fill: #FFFFFF;\n",
              "    }\n",
              "  </style>\n",
              "\n",
              "      <script>\n",
              "        const buttonEl =\n",
              "          document.querySelector('#df-3ad3f7ef-07d3-40a4-9090-d209d0de52eb button.colab-df-convert');\n",
              "        buttonEl.style.display =\n",
              "          google.colab.kernel.accessAllowed ? 'block' : 'none';\n",
              "\n",
              "        async function convertToInteractive(key) {\n",
              "          const element = document.querySelector('#df-3ad3f7ef-07d3-40a4-9090-d209d0de52eb');\n",
              "          const dataTable =\n",
              "            await google.colab.kernel.invokeFunction('convertToInteractive',\n",
              "                                                     [key], {});\n",
              "          if (!dataTable) return;\n",
              "\n",
              "          const docLinkHtml = 'Like what you see? Visit the ' +\n",
              "            '<a target=\"_blank\" href=https://colab.research.google.com/notebooks/data_table.ipynb>data table notebook</a>'\n",
              "            + ' to learn more about interactive tables.';\n",
              "          element.innerHTML = '';\n",
              "          dataTable['output_type'] = 'display_data';\n",
              "          await google.colab.output.renderOutput(dataTable, element);\n",
              "          const docLink = document.createElement('div');\n",
              "          docLink.innerHTML = docLinkHtml;\n",
              "          element.appendChild(docLink);\n",
              "        }\n",
              "      </script>\n",
              "    </div>\n",
              "  </div>\n",
              "  "
            ]
          },
          "metadata": {},
          "execution_count": 4
        }
      ]
    },
    {
      "cell_type": "code",
      "source": [
        "df.info()"
      ],
      "metadata": {
        "colab": {
          "base_uri": "https://localhost:8080/"
        },
        "id": "ezNTvG4HMmME",
        "outputId": "669539c1-adaa-469d-abf8-f775440cec18"
      },
      "execution_count": 5,
      "outputs": [
        {
          "output_type": "stream",
          "name": "stdout",
          "text": [
            "<class 'pandas.core.frame.DataFrame'>\n",
            "RangeIndex: 20491 entries, 0 to 20490\n",
            "Data columns (total 2 columns):\n",
            " #   Column  Non-Null Count  Dtype \n",
            "---  ------  --------------  ----- \n",
            " 0   Review  20491 non-null  object\n",
            " 1   Rating  20491 non-null  int64 \n",
            "dtypes: int64(1), object(1)\n",
            "memory usage: 320.3+ KB\n"
          ]
        }
      ]
    },
    {
      "cell_type": "code",
      "source": [
        "from nltk.corpus import stopwords\n",
        "stop_words = stopwords.words('english')\n",
        "from string import punctuation"
      ],
      "metadata": {
        "id": "CO9yw5CcMyud"
      },
      "execution_count": 6,
      "outputs": []
    },
    {
      "cell_type": "code",
      "source": [
        "def frequent_words(words, terms = 20):\n",
        "  words_all = ' '.join([text for text in words])\n",
        "  words_all = words_all.split()\n",
        "  \n",
        "  fdist = FreqDist(words_all)\n",
        "  df_words = pd.DataFrame({'word':list(fdist.keys()), 'total':list(fdist.values())})\n",
        "  \n",
        "  # selecting top 30 most frequent words\n",
        "  dfreq = df_words.nlargest(columns=\"total\", n = terms) \n",
        "  plt.figure(figsize=(20,5))\n",
        "  ax = sns.barplot(data=dfreq, x= \"word\", y = \"total\")\n",
        "  ax.set(ylabel = 'Count')\n",
        "  plt.show()"
      ],
      "metadata": {
        "id": "4Mx4rBCpMtfW"
      },
      "execution_count": 7,
      "outputs": []
    },
    {
      "cell_type": "code",
      "source": [
        "# function to remove stopwords\n",
        "def stopwords_rem(rev):\n",
        "  rev_new = \" \".join([i for i in rev if i not in (stop_words+list(punctuation))])\n",
        "  return rev_new"
      ],
      "metadata": {
        "id": "PlTx0r-nM0oi"
      },
      "execution_count": 8,
      "outputs": []
    },
    {
      "cell_type": "code",
      "source": [
        "nlp = spacy.load('en_core_web_sm')"
      ],
      "metadata": {
        "id": "Srrb9mnBM47i"
      },
      "execution_count": 10,
      "outputs": []
    },
    {
      "cell_type": "code",
      "source": [
        "def lemmatization(texts, tags=['NOUN', 'ADJ']):\n",
        "    output = []\n",
        "    for sent in texts:\n",
        "        doc = nlp(\" \".join(sent)) \n",
        "        output.append([token.lemma_ for token in doc if token.pos_ in tags])\n",
        "    return output"
      ],
      "metadata": {
        "id": "OohXL9epM_Xl"
      },
      "execution_count": 11,
      "outputs": []
    },
    {
      "cell_type": "code",
      "source": [
        "# remove short words (length < 3)\n",
        "df['Review'] = df['Review'].apply(lambda x: ' '.join([w for w in x.split() if len(w)>2]))\n",
        "\n",
        "# remove stopwords from the text\n",
        "reviews = [stopwords_rem(r.split()) for r in df['Review']]\n",
        "\n",
        "# remove punctuation from the text\n",
        "#reviews = [punctuation_rem(r.split()) for r in df['Review']]\n",
        "\n",
        "# make entire text lowercase\n",
        "reviews = [r.lower() for r in reviews]"
      ],
      "metadata": {
        "id": "Lhk6ExhENWoa"
      },
      "execution_count": 12,
      "outputs": []
    },
    {
      "cell_type": "code",
      "source": [
        "tokenized_reviews = pd.Series(reviews).apply(lambda x: x.split())"
      ],
      "metadata": {
        "id": "NUVLvJFoNYDP"
      },
      "execution_count": 13,
      "outputs": []
    },
    {
      "cell_type": "code",
      "source": [
        "print(tokenized_reviews[1])\n",
        "len(tokenized_reviews[1])"
      ],
      "metadata": {
        "colab": {
          "base_uri": "https://localhost:8080/"
        },
        "id": "9lMM0IifNeIC",
        "outputId": "8f15b749-b125-4762-a3ce-adda65fbf2d9"
      },
      "execution_count": 14,
      "outputs": [
        {
          "output_type": "stream",
          "name": "stdout",
          "text": [
            "['nothing', 'special', 'charge', 'diamond', 'member', 'hilton', 'decided', 'chain', 'shot', '20th', 'anniversary', 'seattle,', 'start', 'booked', 'suite', 'paid', 'extra', 'website', 'description', 'not,', 'suite', 'bedroom', 'bathroom', 'standard', 'hotel', 'room,', 'took', 'printed', 'reservation', 'desk', 'showed', 'said', 'things', 'like', 'couch', 'ect', 'desk', 'clerk', 'told', 'mixed', 'suites', 'description', 'kimpton', 'website', 'sorry', 'free', 'breakfast,', 'got', 'kidding,', 'embassy', 'suits', 'sitting', 'room', 'bathroom', 'bedroom', 'unlike', 'kimpton', 'calls', 'suite,', 'day', 'stay', 'offer', 'correct', 'false', 'advertising,', 'send', 'kimpton', 'preferred', 'guest', 'website', 'email', 'asking', 'failure', 'provide', 'suite', 'advertised', 'website', 'reservation', 'description', 'furnished', 'hard', 'copy', 'reservation', 'printout', 'website', 'desk', 'manager', 'duty', 'crime', 'reply', 'solution,', 'send', 'email', 'trip', 'guest', 'survey', 'crime', 'follow', 'email', 'mail,', 'guess', 'tell', 'concerned', 'guest.the', 'staff', 'ranged', 'indifferent', 'helpful,', 'asked', 'desk', 'good', 'breakfast', 'spots', 'neighborhood', 'hood', 'told', 'police', 'hotels,', 'gee', 'best', 'breakfast', 'spots', 'seattle', '1/2', 'block', 'away', 'convenient', 'hotel', 'know', 'exist,', 'arrived', 'late', 'night', 'inside', 'run', 'bellman', 'busy', 'chating', 'cell', 'phone', 'help', 'bags.prior', 'arrival', 'emailed', 'hotel', 'inform', '20th', 'anniversary', 'half', 'really', 'picky', 'wanted', 'make', 'sure', 'good,', 'got', 'nice', 'email', 'saying', 'like', 'deliver', 'bottle', 'champagne', 'chocolate', 'covered', 'strawberries', 'room', 'arrival', 'celebrate,', 'told', 'needed', 'foam', 'pillows,', 'arrival', 'police', 'champagne', 'strawberries', 'police', 'foam', 'pillows', 'great', 'room', 'view', 'alley', 'high', 'rise', 'building', 'good', 'better', 'housekeeping', 'staff', 'cleaner', 'room', 'property,', 'impressed', 'left', 'morning', 'shopping', 'room', 'got', 'short', 'trips', 'hours,', 'beds', 'comfortable.not', 'good', 'ac-heat', 'control', 'inch', 'screen', 'bring', 'green', 'shine', 'directly', 'eyes', 'night,', 'light', 'sensitive', 'tape', 'controls.this', 'start', 'hotel', 'clean', 'business', 'hotel', 'super', 'high', 'rates,', 'better', 'chain', 'hotels', 'seattle,']\n"
          ]
        },
        {
          "output_type": "execute_result",
          "data": {
            "text/plain": [
              "232"
            ]
          },
          "metadata": {},
          "execution_count": 14
        }
      ]
    },
    {
      "cell_type": "code",
      "source": [
        "reviews_2 = lemmatization(tokenized_reviews)\n",
        "print(reviews_2[1])"
      ],
      "metadata": {
        "colab": {
          "base_uri": "https://localhost:8080/"
        },
        "id": "MYcNFKWGNhxk",
        "outputId": "fa9bd566-3705-45fc-fa9f-c16d6e4b037f"
      },
      "execution_count": 15,
      "outputs": [
        {
          "output_type": "stream",
          "name": "stdout",
          "text": [
            "['special', 'charge', 'diamond', 'member', 'chain', '20th', 'anniversary', 'seattle', 'suite', 'extra', 'website', 'description', 'bedroom', 'bathroom', 'standard', 'hotel', 'room', 'reservation', 'desk', 'thing', 'couch', 'ect', 'desk', 'clerk', 'mixed', 'suite', 'website', 'free', 'breakfast', 'embassy', 'suit', 'room', 'bathroom', 'bedroom', 'call', 'suite', 'day', 'stay', 'offer', 'false', 'advertising', 'guest', 'website', 'email', 'failure', 'suite', 'advertised', 'website', 'reservation', 'description', 'hard', 'copy', 'reservation', 'printout', 'website', 'desk', 'manager', 'duty', 'crime', 'reply', 'solution', 'email', 'trip', 'guest', 'survey', 'crime', 'follow', 'email', 'mail', 'staff', 'helpful', 'desk', 'good', 'breakfast', 'spot', 'neighborhood', 'hood', 'police', 'hotel', 'good', 'breakfast', 'spot', 'seattle', 'block', 'convenient', 'hotel', 'know', 'late', 'night', 'run', 'bellman', 'busy', 'cell', 'phone', 'help', 'arrival', 'hotel', 'inform', '20th', 'anniversary', 'half', 'picky', 'sure', 'good', 'nice', 'email', 'bottle', 'champagne', 'chocolate', 'strawberry', 'room', 'arrival', 'celebrate', 'needed', 'foam', 'pillow', 'arrival', 'police', 'champagne', 'strawberry', 'police', 'foam', 'great', 'room', 'view', 'alley', 'high', 'rise', 'good', 'well', 'housekeeping', 'staff', 'clean', 'room', 'property', 'impressed', 'left', 'morning', 'shopping', 'room', 'short', 'trip', 'hour', 'bed', 'good', 'ac', 'heat', 'control', 'inch', 'screen', 'green', 'shine', 'eye', 'night', 'light', 'sensitive', 'tape', 'controls.this', 'hotel', 'clean', 'business', 'hotel', 'super', 'high', 'rate', 'well', 'chain', 'hotel', 'seattle']\n"
          ]
        }
      ]
    },
    {
      "cell_type": "code",
      "source": [
        "set(tokenized_reviews[1]) - set(reviews_2[1])"
      ],
      "metadata": {
        "colab": {
          "base_uri": "https://localhost:8080/"
        },
        "id": "ruHbzNc0NlC7",
        "outputId": "f51d0536-2b6c-4d25-b1dc-a4d8b83afcd1"
      },
      "execution_count": 16,
      "outputs": [
        {
          "output_type": "execute_result",
          "data": {
            "text/plain": [
              "{'1/2',\n",
              " 'ac-heat',\n",
              " 'advertising,',\n",
              " 'arrived',\n",
              " 'asked',\n",
              " 'asking',\n",
              " 'away',\n",
              " 'bags.prior',\n",
              " 'beds',\n",
              " 'best',\n",
              " 'better',\n",
              " 'booked',\n",
              " 'breakfast,',\n",
              " 'bring',\n",
              " 'building',\n",
              " 'calls',\n",
              " 'celebrate,',\n",
              " 'chating',\n",
              " 'cleaner',\n",
              " 'comfortable.not',\n",
              " 'concerned',\n",
              " 'correct',\n",
              " 'covered',\n",
              " 'decided',\n",
              " 'deliver',\n",
              " 'directly',\n",
              " 'emailed',\n",
              " 'exist,',\n",
              " 'eyes',\n",
              " 'furnished',\n",
              " 'gee',\n",
              " 'good,',\n",
              " 'got',\n",
              " 'guess',\n",
              " 'guest.the',\n",
              " 'helpful,',\n",
              " 'hilton',\n",
              " 'hotels',\n",
              " 'hotels,',\n",
              " 'hours,',\n",
              " 'indifferent',\n",
              " 'inside',\n",
              " 'kidding,',\n",
              " 'kimpton',\n",
              " 'like',\n",
              " 'mail,',\n",
              " 'make',\n",
              " 'night,',\n",
              " 'not,',\n",
              " 'nothing',\n",
              " 'paid',\n",
              " 'pillows',\n",
              " 'pillows,',\n",
              " 'preferred',\n",
              " 'printed',\n",
              " 'property,',\n",
              " 'provide',\n",
              " 'ranged',\n",
              " 'rates,',\n",
              " 'really',\n",
              " 'room,',\n",
              " 'said',\n",
              " 'saying',\n",
              " 'seattle,',\n",
              " 'send',\n",
              " 'shot',\n",
              " 'showed',\n",
              " 'sitting',\n",
              " 'solution,',\n",
              " 'sorry',\n",
              " 'spots',\n",
              " 'start',\n",
              " 'strawberries',\n",
              " 'suite,',\n",
              " 'suites',\n",
              " 'suits',\n",
              " 'tell',\n",
              " 'things',\n",
              " 'told',\n",
              " 'took',\n",
              " 'trips',\n",
              " 'unlike',\n",
              " 'wanted'}"
            ]
          },
          "metadata": {},
          "execution_count": 16
        }
      ]
    },
    {
      "cell_type": "code",
      "source": [
        "reviews_3 = []\n",
        "for i in range(len(reviews_2)):\n",
        "    reviews_3.append(' '.join(reviews_2[i]))\n",
        "    \n",
        "df['reviews'] = reviews_3"
      ],
      "metadata": {
        "id": "ziEa65PUNq_x"
      },
      "execution_count": 17,
      "outputs": []
    },
    {
      "cell_type": "code",
      "source": [
        "import nltk\n",
        "nltk.download('punkt')\n",
        "import seaborn as sns\n",
        "nltk.download('tagsets')"
      ],
      "metadata": {
        "colab": {
          "base_uri": "https://localhost:8080/"
        },
        "id": "SUSp3BBoRm2J",
        "outputId": "dad36e94-12c1-431a-f783-be2c752a54c8"
      },
      "execution_count": 24,
      "outputs": [
        {
          "output_type": "stream",
          "name": "stderr",
          "text": [
            "[nltk_data] Downloading package punkt to /root/nltk_data...\n",
            "[nltk_data]   Unzipping tokenizers/punkt.zip.\n",
            "[nltk_data] Downloading package tagsets to /root/nltk_data...\n",
            "[nltk_data]   Unzipping help/tagsets.zip.\n"
          ]
        },
        {
          "output_type": "execute_result",
          "data": {
            "text/plain": [
              "True"
            ]
          },
          "metadata": {},
          "execution_count": 24
        }
      ]
    },
    {
      "cell_type": "code",
      "source": [
        "reviews = list(df['reviews'].values)\n",
        "review_tokens = [nltk.word_tokenize(review) for review in reviews]"
      ],
      "metadata": {
        "id": "Gb3QptggRQEc"
      },
      "execution_count": 25,
      "outputs": []
    },
    {
      "cell_type": "code",
      "source": [
        "review_tokens[0]"
      ],
      "metadata": {
        "colab": {
          "base_uri": "https://localhost:8080/"
        },
        "id": "XEN8iYSgRzop",
        "outputId": "98197b19-a04b-4c9d-818f-a860898773a1"
      },
      "execution_count": 26,
      "outputs": [
        {
          "output_type": "execute_result",
          "data": {
            "text/plain": [
              "['nice',\n",
              " 'hotel',\n",
              " 'expensive',\n",
              " 'parking',\n",
              " 'good',\n",
              " 'deal',\n",
              " 'hotel',\n",
              " 'anniversary',\n",
              " 'late',\n",
              " 'evening',\n",
              " 'advice',\n",
              " 'previous',\n",
              " 'review',\n",
              " 'crime',\n",
              " 'valet',\n",
              " 'parking',\n",
              " 'quick',\n",
              " 'easy',\n",
              " 'little',\n",
              " 'disappointed',\n",
              " 'non',\n",
              " '-',\n",
              " 'existent',\n",
              " 'view',\n",
              " 'room',\n",
              " 'room',\n",
              " 'clean',\n",
              " 'nice',\n",
              " 'size',\n",
              " 'bed',\n",
              " 'comfortable',\n",
              " 'stiff',\n",
              " 'neck',\n",
              " 'high',\n",
              " 'pillow',\n",
              " 'soundproof',\n",
              " 'music',\n",
              " 'room',\n",
              " 'night',\n",
              " 'morning',\n",
              " 'loud',\n",
              " 'bang',\n",
              " 'door',\n",
              " 'closing',\n",
              " 'people',\n",
              " 'hallway',\n",
              " 'drug',\n",
              " 'noisy',\n",
              " 'neighbor',\n",
              " 'aveda',\n",
              " 'bath',\n",
              " 'product',\n",
              " 'nice',\n",
              " 'crime',\n",
              " 'nice',\n",
              " 'touch',\n",
              " 'advantage',\n",
              " 'location',\n",
              " 'great',\n",
              " 'walking',\n",
              " 'distance',\n",
              " 'shopping',\n",
              " 'overall',\n",
              " 'nice',\n",
              " 'experience',\n",
              " 'parking',\n",
              " 'night']"
            ]
          },
          "metadata": {},
          "execution_count": 26
        }
      ]
    },
    {
      "cell_type": "code",
      "source": [
        "nltk.download('averaged_perceptron_tagger')\n",
        "pos_tagged = [nltk.pos_tag(review) for review in review_tokens]\n",
        "print (\" Parts of speech applied on each sentence. Please preview:\") \n",
        "pos_tagged[0]"
      ],
      "metadata": {
        "colab": {
          "base_uri": "https://localhost:8080/"
        },
        "id": "Rc2oNi2LN8pW",
        "outputId": "b948fca3-f76b-42ea-c9b9-dbcbf2402b37"
      },
      "execution_count": 28,
      "outputs": [
        {
          "output_type": "stream",
          "name": "stderr",
          "text": [
            "[nltk_data] Downloading package averaged_perceptron_tagger to\n",
            "[nltk_data]     /root/nltk_data...\n",
            "[nltk_data]   Package averaged_perceptron_tagger is already up-to-\n",
            "[nltk_data]       date!\n"
          ]
        },
        {
          "output_type": "stream",
          "name": "stdout",
          "text": [
            " Parts of speech applied on each sentence. Please preview:\n"
          ]
        },
        {
          "output_type": "execute_result",
          "data": {
            "text/plain": [
              "[('nice', 'JJ'),\n",
              " ('hotel', 'NN'),\n",
              " ('expensive', 'JJ'),\n",
              " ('parking', 'NN'),\n",
              " ('good', 'JJ'),\n",
              " ('deal', 'NN'),\n",
              " ('hotel', 'NN'),\n",
              " ('anniversary', 'NN'),\n",
              " ('late', 'JJ'),\n",
              " ('evening', 'NN'),\n",
              " ('advice', 'NN'),\n",
              " ('previous', 'JJ'),\n",
              " ('review', 'NN'),\n",
              " ('crime', 'NN'),\n",
              " ('valet', 'NN'),\n",
              " ('parking', 'VBG'),\n",
              " ('quick', 'JJ'),\n",
              " ('easy', 'JJ'),\n",
              " ('little', 'JJ'),\n",
              " ('disappointed', 'JJ'),\n",
              " ('non', 'SYM'),\n",
              " ('-', ':'),\n",
              " ('existent', 'JJ'),\n",
              " ('view', 'NN'),\n",
              " ('room', 'NN'),\n",
              " ('room', 'NN'),\n",
              " ('clean', 'JJ'),\n",
              " ('nice', 'JJ'),\n",
              " ('size', 'NN'),\n",
              " ('bed', 'VBD'),\n",
              " ('comfortable', 'JJ'),\n",
              " ('stiff', 'JJ'),\n",
              " ('neck', 'NN'),\n",
              " ('high', 'JJ'),\n",
              " ('pillow', 'NN'),\n",
              " ('soundproof', 'NN'),\n",
              " ('music', 'NN'),\n",
              " ('room', 'NN'),\n",
              " ('night', 'NN'),\n",
              " ('morning', 'NN'),\n",
              " ('loud', 'NN'),\n",
              " ('bang', 'NN'),\n",
              " ('door', 'NN'),\n",
              " ('closing', 'NN'),\n",
              " ('people', 'NNS'),\n",
              " ('hallway', 'VBP'),\n",
              " ('drug', 'NN'),\n",
              " ('noisy', 'NNS'),\n",
              " ('neighbor', 'VBP'),\n",
              " ('aveda', 'JJ'),\n",
              " ('bath', 'NN'),\n",
              " ('product', 'NN'),\n",
              " ('nice', 'JJ'),\n",
              " ('crime', 'NN'),\n",
              " ('nice', 'JJ'),\n",
              " ('touch', 'JJ'),\n",
              " ('advantage', 'NN'),\n",
              " ('location', 'NN'),\n",
              " ('great', 'JJ'),\n",
              " ('walking', 'VBG'),\n",
              " ('distance', 'NN'),\n",
              " ('shopping', 'VBG'),\n",
              " ('overall', 'JJ'),\n",
              " ('nice', 'JJ'),\n",
              " ('experience', 'NN'),\n",
              " ('parking', 'NN'),\n",
              " ('night', 'NN')]"
            ]
          },
          "metadata": {},
          "execution_count": 28
        }
      ]
    },
    {
      "cell_type": "code",
      "source": [
        "reviews_noun = []\n",
        "\n",
        "for review in pos_tagged:\n",
        "    reviews_noun.append([postag for postag in review if postag[1].startswith('NN')])"
      ],
      "metadata": {
        "id": "wX4RLaV6SGuc"
      },
      "execution_count": 29,
      "outputs": []
    },
    {
      "cell_type": "code",
      "source": [
        "df.head()\n",
        "df['length'] = df['reviews'].apply(len)\n",
        "sns.displot(df.length)"
      ],
      "metadata": {
        "colab": {
          "base_uri": "https://localhost:8080/",
          "height": 386
        },
        "id": "TMNAwdC1TVfU",
        "outputId": "28b3770e-55dd-4466-a86c-c1cd4f9bc42a"
      },
      "execution_count": 33,
      "outputs": [
        {
          "output_type": "execute_result",
          "data": {
            "text/plain": [
              "<seaborn.axisgrid.FacetGrid at 0x7fe17fac9a50>"
            ]
          },
          "metadata": {},
          "execution_count": 33
        },
        {
          "output_type": "display_data",
          "data": {
            "text/plain": [
              "<Figure size 360x360 with 1 Axes>"
            ],
            "image/png": "[encoded data removed]"
          },
          "metadata": {
            "needs_background": "light"
          }
        }
      ]
    },
    {
      "cell_type": "code",
      "source": [
        "frequent_words(df['reviews'],20)"
      ],
      "metadata": {
        "colab": {
          "base_uri": "https://localhost:8080/",
          "height": 328
        },
        "id": "sW5VdU3nOOIt",
        "outputId": "6deecbce-afb6-42a0-f507-4a984ee59f4c"
      },
      "execution_count": 34,
      "outputs": [
        {
          "output_type": "display_data",
          "data": {
            "text/plain": [
              "<Figure size 1440x360 with 1 Axes>"
            ],
            "image/png": "[encoded data removed]"
          },
          "metadata": {
            "needs_background": "light"
          }
        }
      ]
    },
    {
      "cell_type": "code",
      "source": [
        "# Import the wordcloud library\n",
        "from wordcloud import WordCloud\n",
        "# Join the different processed titles together.\n",
        "long_string = ','.join(list(df['reviews'].values))\n",
        "# Create a WordCloud object\n",
        "wordcloud = WordCloud(background_color=\"white\", max_words=100000, contour_width=3, contour_color='steelblue')\n",
        "# Generate a word cloud\n",
        "wordcloud.generate(long_string)\n",
        "# Visualize the word cloud\n",
        "wordcloud.to_image()"
      ],
      "metadata": {
        "colab": {
          "base_uri": "https://localhost:8080/",
          "height": 217
        },
        "id": "JybTjKK6OQl4",
        "outputId": "4530ed87-f89c-49c3-b322-c128747f2d12"
      },
      "execution_count": 32,
      "outputs": [
        {
          "output_type": "execute_result",
          "data": {
            "text/plain": [
              "<PIL.Image.Image image mode=RGB size=400x200 at 0x7FE17FA34C10>"
            ],
            "image/png": "[encoded data removed]"
          },
          "metadata": {},
          "execution_count": 32
        }
      ]
    },
    {
      "cell_type": "code",
      "source": [
        "df.head()"
      ],
      "metadata": {
        "colab": {
          "base_uri": "https://localhost:8080/",
          "height": 206
        },
        "id": "imq1cvs_TjFH",
        "outputId": "f6506d24-3b83-4c41-8069-7ee41f1e868e"
      },
      "execution_count": 35,
      "outputs": [
        {
          "output_type": "execute_result",
          "data": {
            "text/plain": [
              "                                              Review  Rating  \\\n",
              "0  nice hotel expensive parking got good deal sta...       4   \n",
              "1  nothing special charge diamond member hilton d...       2   \n",
              "2  nice rooms not experience hotel monaco seattle...       3   \n",
              "3  unique, great stay, wonderful time hotel monac...       5   \n",
              "4  great stay great stay, went seahawk game aweso...       5   \n",
              "\n",
              "                                             reviews  length  \n",
              "0  nice hotel expensive parking good deal hotel a...     452  \n",
              "1  special charge diamond member chain 20th anniv...    1154  \n",
              "2  nice room hotel hotel room space large bathroo...     839  \n",
              "3  unique great stay wonderful time hotel locatio...     476  \n",
              "4  great great stay awesome downfall crime room s...     816  "
            ],
            "text/html": [
              "\n",
              "  <div id=\"df-2561b88d-ad42-4bba-bf95-9ac692bb0fde\">\n",
              "    <div class=\"colab-df-container\">\n",
              "      <div>\n",
              "<style scoped>\n",
              "    .dataframe tbody tr th:only-of-type {\n",
              "        vertical-align: middle;\n",
              "    }\n",
              "\n",
              "    .dataframe tbody tr th {\n",
              "        vertical-align: top;\n",
              "    }\n",
              "\n",
              "    .dataframe thead th {\n",
              "        text-align: right;\n",
              "    }\n",
              "</style>\n",
              "<table border=\"1\" class=\"dataframe\">\n",
              "  <thead>\n",
              "    <tr style=\"text-align: right;\">\n",
              "      <th></th>\n",
              "      <th>Review</th>\n",
              "      <th>Rating</th>\n",
              "      <th>reviews</th>\n",
              "      <th>length</th>\n",
              "    </tr>\n",
              "  </thead>\n",
              "  <tbody>\n",
              "    <tr>\n",
              "      <th>0</th>\n",
              "      <td>nice hotel expensive parking got good deal sta...</td>\n",
              "      <td>4</td>\n",
              "      <td>nice hotel expensive parking good deal hotel a...</td>\n",
              "      <td>452</td>\n",
              "    </tr>\n",
              "    <tr>\n",
              "      <th>1</th>\n",
              "      <td>nothing special charge diamond member hilton d...</td>\n",
              "      <td>2</td>\n",
              "      <td>special charge diamond member chain 20th anniv...</td>\n",
              "      <td>1154</td>\n",
              "    </tr>\n",
              "    <tr>\n",
              "      <th>2</th>\n",
              "      <td>nice rooms not experience hotel monaco seattle...</td>\n",
              "      <td>3</td>\n",
              "      <td>nice room hotel hotel room space large bathroo...</td>\n",
              "      <td>839</td>\n",
              "    </tr>\n",
              "    <tr>\n",
              "      <th>3</th>\n",
              "      <td>unique, great stay, wonderful time hotel monac...</td>\n",
              "      <td>5</td>\n",
              "      <td>unique great stay wonderful time hotel locatio...</td>\n",
              "      <td>476</td>\n",
              "    </tr>\n",
              "    <tr>\n",
              "      <th>4</th>\n",
              "      <td>great stay great stay, went seahawk game aweso...</td>\n",
              "      <td>5</td>\n",
              "      <td>great great stay awesome downfall crime room s...</td>\n",
              "      <td>816</td>\n",
              "    </tr>\n",
              "  </tbody>\n",
              "</table>\n",
              "</div>\n",
              "      <button class=\"colab-df-convert\" onclick=\"convertToInteractive('df-2561b88d-ad42-4bba-bf95-9ac692bb0fde')\"\n",
              "              title=\"Convert this dataframe to an interactive table.\"\n",
              "              style=\"display:none;\">\n",
              "        \n",
              "  <svg xmlns=\"http://www.w3.org/2000/svg\" height=\"24px\"viewBox=\"0 0 24 24\"\n",
              "       width=\"24px\">\n",
              "    <path d=\"M0 0h24v24H0V0z\" fill=\"none\"/>\n",
              "    <path d=\"M18.56 5.44l.94 2.06.94-2.06 2.06-.94-2.06-.94-.94-2.06-.94 2.06-2.06.94zm-11 1L8.5 8.5l.94-2.06 2.06-.94-2.06-.94L8.5 2.5l-.94 2.06-2.06.94zm10 10l.94 2.06.94-2.06 2.06-.94-2.06-.94-.94-2.06-.94 2.06-2.06.94z\"/><path d=\"M17.41 7.96l-1.37-1.37c-.4-.4-.92-.59-1.43-.59-.52 0-1.04.2-1.43.59L10.3 9.45l-7.72 7.72c-.78.78-.78 2.05 0 2.83L4 21.41c.39.39.9.59 1.41.59.51 0 1.02-.2 1.41-.59l7.78-7.78 2.81-2.81c.8-.78.8-2.07 0-2.86zM5.41 20L4 18.59l7.72-7.72 1.47 1.35L5.41 20z\"/>\n",
              "  </svg>\n",
              "      </button>\n",
              "      \n",
              "  <style>\n",
              "    .colab-df-container {\n",
              "      display:flex;\n",
              "      flex-wrap:wrap;\n",
              "      gap: 12px;\n",
              "    }\n",
              "\n",
              "    .colab-df-convert {\n",
              "      background-color: #E8F0FE;\n",
              "      border: none;\n",
              "      border-radius: 50%;\n",
              "      cursor: pointer;\n",
              "      display: none;\n",
              "      fill: #1967D2;\n",
              "      height: 32px;\n",
              "      padding: 0 0 0 0;\n",
              "      width: 32px;\n",
              "    }\n",
              "\n",
              "    .colab-df-convert:hover {\n",
              "      background-color: #E2EBFA;\n",
              "      box-shadow: 0px 1px 2px rgba(60, 64, 67, 0.3), 0px 1px 3px 1px rgba(60, 64, 67, 0.15);\n",
              "      fill: #174EA6;\n",
              "    }\n",
              "\n",
              "    [theme=dark] .colab-df-convert {\n",
              "      background-color: #3B4455;\n",
              "      fill: #D2E3FC;\n",
              "    }\n",
              "\n",
              "    [theme=dark] .colab-df-convert:hover {\n",
              "      background-color: #434B5C;\n",
              "      box-shadow: 0px 1px 3px 1px rgba(0, 0, 0, 0.15);\n",
              "      filter: drop-shadow(0px 1px 2px rgba(0, 0, 0, 0.3));\n",
              "      fill: #FFFFFF;\n",
              "    }\n",
              "  </style>\n",
              "\n",
              "      <script>\n",
              "        const buttonEl =\n",
              "          document.querySelector('#df-2561b88d-ad42-4bba-bf95-9ac692bb0fde button.colab-df-convert');\n",
              "        buttonEl.style.display =\n",
              "          google.colab.kernel.accessAllowed ? 'block' : 'none';\n",
              "\n",
              "        async function convertToInteractive(key) {\n",
              "          const element = document.querySelector('#df-2561b88d-ad42-4bba-bf95-9ac692bb0fde');\n",
              "          const dataTable =\n",
              "            await google.colab.kernel.invokeFunction('convertToInteractive',\n",
              "                                                     [key], {});\n",
              "          if (!dataTable) return;\n",
              "\n",
              "          const docLinkHtml = 'Like what you see? Visit the ' +\n",
              "            '<a target=\"_blank\" href=https://colab.research.google.com/notebooks/data_table.ipynb>data table notebook</a>'\n",
              "            + ' to learn more about interactive tables.';\n",
              "          element.innerHTML = '';\n",
              "          dataTable['output_type'] = 'display_data';\n",
              "          await google.colab.output.renderOutput(dataTable, element);\n",
              "          const docLink = document.createElement('div');\n",
              "          docLink.innerHTML = docLinkHtml;\n",
              "          element.appendChild(docLink);\n",
              "        }\n",
              "      </script>\n",
              "    </div>\n",
              "  </div>\n",
              "  "
            ]
          },
          "metadata": {},
          "execution_count": 35
        }
      ]
    }
  ]
}