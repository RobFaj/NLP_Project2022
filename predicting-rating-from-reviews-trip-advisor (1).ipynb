{
 "cells": [
  {
   "cell_type": "code",
   "execution_count": 1,
   "metadata": {
    "_cell_guid": "b1076dfc-b9ad-4769-8c92-a6c4dae69d19",
    "_uuid": "8f2839f25d086af736a60e9eeb907d3b93b6e0e5",
    "execution": {
     "iopub.execute_input": "2022-06-29T00:54:51.615191Z",
     "iopub.status.busy": "2022-06-29T00:54:51.614182Z",
     "iopub.status.idle": "2022-06-29T00:54:51.629264Z",
     "shell.execute_reply": "2022-06-29T00:54:51.628378Z",
     "shell.execute_reply.started": "2022-06-29T00:47:53.988794Z"
    },
    "papermill": {
     "duration": 0.044663,
     "end_time": "2022-06-29T00:54:51.629441",
     "exception": false,
     "start_time": "2022-06-29T00:54:51.584778",
     "status": "completed"
    },
    "tags": []
   },
   "outputs": [
    {
     "name": "stdout",
     "output_type": "stream",
     "text": [
      "/kaggle/input/trip-advisor-hotel-reviews/tripadvisor_hotel_reviews.csv\n"
     ]
    }
   ],
   "source": [
    "# This Python 3 environment comes with many helpful analytics libraries installed\n",
    "# It is defined by the kaggle/python Docker image: https://github.com/kaggle/docker-python\n",
    "# For example, here's several helpful packages to load\n",
    "\n",
    "import numpy as np # linear algebra\n",
    "import pandas as pd # data processing, CSV file I/O (e.g. pd.read_csv)\n",
    "\n",
    "# Input data files are available in the read-only \"../input/\" directory\n",
    "# For example, running this (by clicking run or pressing Shift+Enter) will list all files under the input directory\n",
    "\n",
    "import os\n",
    "for dirname, _, filenames in os.walk('/kaggle/input'):\n",
    "    for filename in filenames:\n",
    "        print(os.path.join(dirname, filename))\n",
    "\n",
    "# You can write up to 20GB to the current directory (/kaggle/working/) that gets preserved as output when you create a version using \"Save & Run All\" \n",
    "# You can also write temporary files to /kaggle/temp/, but they won't be saved outside of the current session"
   ]
  },
  {
   "cell_type": "code",
   "execution_count": 2,
   "metadata": {
    "_cell_guid": "79c7e3d0-c299-4dcb-8224-4455121ee9b0",
    "_uuid": "d629ff2d2480ee46fbb7e2d37f6b5fab8052498a",
    "execution": {
     "iopub.execute_input": "2022-06-29T00:54:51.674040Z",
     "iopub.status.busy": "2022-06-29T00:54:51.673406Z",
     "iopub.status.idle": "2022-06-29T00:54:51.964550Z",
     "shell.execute_reply": "2022-06-29T00:54:51.965055Z",
     "shell.execute_reply.started": "2022-06-29T00:47:54.004772Z"
    },
    "papermill": {
     "duration": 0.314615,
     "end_time": "2022-06-29T00:54:51.965224",
     "exception": false,
     "start_time": "2022-06-29T00:54:51.650609",
     "status": "completed"
    },
    "tags": []
   },
   "outputs": [
    {
     "data": {
      "text/html": [
       "<div>\n",
       "<style scoped>\n",
       "    .dataframe tbody tr th:only-of-type {\n",
       "        vertical-align: middle;\n",
       "    }\n",
       "\n",
       "    .dataframe tbody tr th {\n",
       "        vertical-align: top;\n",
       "    }\n",
       "\n",
       "    .dataframe thead th {\n",
       "        text-align: right;\n",
       "    }\n",
       "</style>\n",
       "<table border=\"1\" class=\"dataframe\">\n",
       "  <thead>\n",
       "    <tr style=\"text-align: right;\">\n",
       "      <th></th>\n",
       "      <th>Review</th>\n",
       "      <th>Rating</th>\n",
       "    </tr>\n",
       "  </thead>\n",
       "  <tbody>\n",
       "    <tr>\n",
       "      <th>0</th>\n",
       "      <td>nice hotel expensive parking got good deal sta...</td>\n",
       "      <td>4</td>\n",
       "    </tr>\n",
       "    <tr>\n",
       "      <th>1</th>\n",
       "      <td>ok nothing special charge diamond member hilto...</td>\n",
       "      <td>2</td>\n",
       "    </tr>\n",
       "    <tr>\n",
       "      <th>2</th>\n",
       "      <td>nice rooms not 4* experience hotel monaco seat...</td>\n",
       "      <td>3</td>\n",
       "    </tr>\n",
       "    <tr>\n",
       "      <th>3</th>\n",
       "      <td>unique, great stay, wonderful time hotel monac...</td>\n",
       "      <td>5</td>\n",
       "    </tr>\n",
       "    <tr>\n",
       "      <th>4</th>\n",
       "      <td>great stay great stay, went seahawk game aweso...</td>\n",
       "      <td>5</td>\n",
       "    </tr>\n",
       "  </tbody>\n",
       "</table>\n",
       "</div>"
      ],
      "text/plain": [
       "                                              Review  Rating\n",
       "0  nice hotel expensive parking got good deal sta...       4\n",
       "1  ok nothing special charge diamond member hilto...       2\n",
       "2  nice rooms not 4* experience hotel monaco seat...       3\n",
       "3  unique, great stay, wonderful time hotel monac...       5\n",
       "4  great stay great stay, went seahawk game aweso...       5"
      ]
     },
     "execution_count": 2,
     "metadata": {},
     "output_type": "execute_result"
    }
   ],
   "source": [
    "df=pd.read_csv(\"/kaggle/input/trip-advisor-hotel-reviews/tripadvisor_hotel_reviews.csv\")\n",
    "df.head()"
   ]
  },
  {
   "cell_type": "code",
   "execution_count": 3,
   "metadata": {
    "execution": {
     "iopub.execute_input": "2022-06-29T00:54:52.015985Z",
     "iopub.status.busy": "2022-06-29T00:54:52.015178Z",
     "iopub.status.idle": "2022-06-29T00:54:59.438185Z",
     "shell.execute_reply": "2022-06-29T00:54:59.437064Z",
     "shell.execute_reply.started": "2022-06-29T00:47:55.344234Z"
    },
    "papermill": {
     "duration": 7.451711,
     "end_time": "2022-06-29T00:54:59.438372",
     "exception": false,
     "start_time": "2022-06-29T00:54:51.986661",
     "status": "completed"
    },
    "tags": []
   },
   "outputs": [],
   "source": [
    "from wordcloud import WordCloud,STOPWORDS\n",
    "from sklearn.metrics import accuracy_score,classification_report\n",
    "from sklearn.model_selection import train_test_split\n",
    "from tensorflow.keras.preprocessing.text import Tokenizer\n",
    "from tensorflow.keras.preprocessing.sequence import pad_sequences\n",
    "from tensorflow.keras.models import Sequential\n",
    "from tensorflow.keras.layers import Dense,LSTM,Flatten,Dropout,Embedding\n",
    "from tensorflow.keras.utils import to_categorical\n",
    "import matplotlib.pyplot as plt\n",
    "import seaborn as sns\n",
    "import plotly.express as px\n",
    "from nltk.stem import WordNetLemmatizer\n",
    "from collections import Counter\n",
    "import re"
   ]
  },
  {
   "cell_type": "code",
   "execution_count": 4,
   "metadata": {
    "execution": {
     "iopub.execute_input": "2022-06-29T00:54:59.496000Z",
     "iopub.status.busy": "2022-06-29T00:54:59.494971Z",
     "iopub.status.idle": "2022-06-29T00:54:59.497561Z",
     "shell.execute_reply": "2022-06-29T00:54:59.498076Z",
     "shell.execute_reply.started": "2022-06-29T00:48:03.452827Z"
    },
    "papermill": {
     "duration": 0.038639,
     "end_time": "2022-06-29T00:54:59.498235",
     "exception": false,
     "start_time": "2022-06-29T00:54:59.459596",
     "status": "completed"
    },
    "tags": []
   },
   "outputs": [],
   "source": [
    "def unique_words(word,rating=None):\n",
    "    words=[]\n",
    "    stopwords=set(STOPWORDS)\n",
    "    some_more_common_words=set(['hotel','room','service','rooms','stayed','just','no','not','staff'])\n",
    "    stopwords.update(some_more_common_words)\n",
    "    copy=df['Review']\n",
    "    if rating!=None:\n",
    "        copy=df[df['Rating']==rating]['Review']\n",
    "    for y in copy:\n",
    "        s=y.split(\" \")\n",
    "        for x in s:\n",
    "            if x.isalpha() and x not in stopwords:\n",
    "                words.append(x)\n",
    "    return np.array(Counter(words).most_common(word))"
   ]
  },
  {
   "cell_type": "code",
   "execution_count": 5,
   "metadata": {
    "execution": {
     "iopub.execute_input": "2022-06-29T00:54:59.543585Z",
     "iopub.status.busy": "2022-06-29T00:54:59.542598Z",
     "iopub.status.idle": "2022-06-29T00:55:01.591978Z",
     "shell.execute_reply": "2022-06-29T00:55:01.592443Z",
     "shell.execute_reply.started": "2022-06-29T00:48:03.471942Z"
    },
    "papermill": {
     "duration": 2.073658,
     "end_time": "2022-06-29T00:55:01.592599",
     "exception": false,
     "start_time": "2022-06-29T00:54:59.518941",
     "status": "completed"
    },
    "tags": []
   },
   "outputs": [
    {
     "data": {
      "image/png": "[encoded data removed]",
      "text/plain": [
       "<Figure size 1440x720 with 5 Axes>"
      ]
     },
     "metadata": {
      "needs_background": "light"
     },
     "output_type": "display_data"
    }
   ],
   "source": [
    "fig=plt.figure(figsize=(20,10))\n",
    "counts=Counter(df['Rating'])\n",
    "for rating in range(1,6):\n",
    "    rated=unique_words(word=10,rating=rating)\n",
    "    plt.subplot(2,3,rating)\n",
    "    plt.xlabel('Word Frequency')\n",
    "    plt.xlim([0,1.2])\n",
    "    sns.barplot(y=rated[:,0],x=rated[:,1].astype(int)/counts[rating])\n",
    "plt.show()"
   ]
  },
  {
   "cell_type": "code",
   "execution_count": 6,
   "metadata": {
    "execution": {
     "iopub.execute_input": "2022-06-29T00:55:01.639751Z",
     "iopub.status.busy": "2022-06-29T00:55:01.639107Z",
     "iopub.status.idle": "2022-06-29T00:55:21.002338Z",
     "shell.execute_reply": "2022-06-29T00:55:21.001640Z",
     "shell.execute_reply.started": "2022-06-29T00:48:05.646819Z"
    },
    "papermill": {
     "duration": 19.387906,
     "end_time": "2022-06-29T00:55:21.002461",
     "exception": false,
     "start_time": "2022-06-29T00:55:01.614555",
     "status": "completed"
    },
    "tags": []
   },
   "outputs": [
    {
     "data": {
      "text/plain": [
       "44760"
      ]
     },
     "execution_count": 6,
     "metadata": {},
     "output_type": "execute_result"
    }
   ],
   "source": [
    "s=set()\n",
    "stop=set(STOPWORDS)\n",
    "lemma=WordNetLemmatizer()\n",
    "for x in df['Review']:\n",
    "    x=re.sub('[^A-Za-z]',\" \",x)\n",
    "    x=x.split(\" \")\n",
    "    for w in x:\n",
    "        w=lemma.lemmatize(w)\n",
    "        if w not in stop:\n",
    "            s.add(w)\n",
    "len(s)#number of distinct words"
   ]
  },
  {
   "cell_type": "code",
   "execution_count": 7,
   "metadata": {
    "execution": {
     "iopub.execute_input": "2022-06-29T00:55:21.052010Z",
     "iopub.status.busy": "2022-06-29T00:55:21.050952Z",
     "iopub.status.idle": "2022-06-29T00:55:21.057776Z",
     "shell.execute_reply": "2022-06-29T00:55:21.058270Z",
     "shell.execute_reply.started": "2022-06-29T00:48:25.251606Z"
    },
    "papermill": {
     "duration": 0.03306,
     "end_time": "2022-06-29T00:55:21.058428",
     "exception": false,
     "start_time": "2022-06-29T00:55:21.025368",
     "status": "completed"
    },
    "tags": []
   },
   "outputs": [],
   "source": [
    "def lemmatizer(x):\n",
    "    x=re.sub('[^A-Za-z]',' ',x)\n",
    "    s=x.split(\" \")\n",
    "    h=[]\n",
    "    for y in s:\n",
    "        y=lemma.lemmatize(y)\n",
    "        if y not in stop:\n",
    "            h.append(y)\n",
    "    return \" \".join(h)      "
   ]
  },
  {
   "cell_type": "code",
   "execution_count": 8,
   "metadata": {
    "execution": {
     "iopub.execute_input": "2022-06-29T00:55:21.108847Z",
     "iopub.status.busy": "2022-06-29T00:55:21.107843Z",
     "iopub.status.idle": "2022-06-29T00:55:37.620857Z",
     "shell.execute_reply": "2022-06-29T00:55:37.620235Z",
     "shell.execute_reply.started": "2022-06-29T00:48:25.260857Z"
    },
    "papermill": {
     "duration": 16.539846,
     "end_time": "2022-06-29T00:55:37.620976",
     "exception": false,
     "start_time": "2022-06-29T00:55:21.081130",
     "status": "completed"
    },
    "tags": []
   },
   "outputs": [],
   "source": [
    "df['nlp_text']=df['Review'].apply(lambda x: lemmatizer(x))"
   ]
  },
  {
   "cell_type": "code",
   "execution_count": 9,
   "metadata": {
    "execution": {
     "iopub.execute_input": "2022-06-29T00:55:37.669647Z",
     "iopub.status.busy": "2022-06-29T00:55:37.668907Z",
     "iopub.status.idle": "2022-06-29T00:55:37.679178Z",
     "shell.execute_reply": "2022-06-29T00:55:37.679691Z",
     "shell.execute_reply.started": "2022-06-29T00:48:41.861240Z"
    },
    "papermill": {
     "duration": 0.03631,
     "end_time": "2022-06-29T00:55:37.679851",
     "exception": false,
     "start_time": "2022-06-29T00:55:37.643541",
     "status": "completed"
    },
    "tags": []
   },
   "outputs": [
    {
     "data": {
      "text/html": [
       "<div>\n",
       "<style scoped>\n",
       "    .dataframe tbody tr th:only-of-type {\n",
       "        vertical-align: middle;\n",
       "    }\n",
       "\n",
       "    .dataframe tbody tr th {\n",
       "        vertical-align: top;\n",
       "    }\n",
       "\n",
       "    .dataframe thead th {\n",
       "        text-align: right;\n",
       "    }\n",
       "</style>\n",
       "<table border=\"1\" class=\"dataframe\">\n",
       "  <thead>\n",
       "    <tr style=\"text-align: right;\">\n",
       "      <th></th>\n",
       "      <th>Review</th>\n",
       "      <th>Rating</th>\n",
       "      <th>nlp_text</th>\n",
       "    </tr>\n",
       "  </thead>\n",
       "  <tbody>\n",
       "    <tr>\n",
       "      <th>0</th>\n",
       "      <td>nice hotel expensive parking got good deal sta...</td>\n",
       "      <td>4</td>\n",
       "      <td>nice hotel expensive parking got good deal sta...</td>\n",
       "    </tr>\n",
       "    <tr>\n",
       "      <th>1</th>\n",
       "      <td>ok nothing special charge diamond member hilto...</td>\n",
       "      <td>2</td>\n",
       "      <td>ok nothing special charge diamond member hilto...</td>\n",
       "    </tr>\n",
       "    <tr>\n",
       "      <th>2</th>\n",
       "      <td>nice rooms not 4* experience hotel monaco seat...</td>\n",
       "      <td>3</td>\n",
       "      <td>nice room    experience hotel monaco seattle g...</td>\n",
       "    </tr>\n",
       "    <tr>\n",
       "      <th>3</th>\n",
       "      <td>unique, great stay, wonderful time hotel monac...</td>\n",
       "      <td>5</td>\n",
       "      <td>unique  great stay  wonderful time hotel monac...</td>\n",
       "    </tr>\n",
       "    <tr>\n",
       "      <th>4</th>\n",
       "      <td>great stay great stay, went seahawk game aweso...</td>\n",
       "      <td>5</td>\n",
       "      <td>great stay great stay  went seahawk game aweso...</td>\n",
       "    </tr>\n",
       "  </tbody>\n",
       "</table>\n",
       "</div>"
      ],
      "text/plain": [
       "                                              Review  Rating  \\\n",
       "0  nice hotel expensive parking got good deal sta...       4   \n",
       "1  ok nothing special charge diamond member hilto...       2   \n",
       "2  nice rooms not 4* experience hotel monaco seat...       3   \n",
       "3  unique, great stay, wonderful time hotel monac...       5   \n",
       "4  great stay great stay, went seahawk game aweso...       5   \n",
       "\n",
       "                                            nlp_text  \n",
       "0  nice hotel expensive parking got good deal sta...  \n",
       "1  ok nothing special charge diamond member hilto...  \n",
       "2  nice room    experience hotel monaco seattle g...  \n",
       "3  unique  great stay  wonderful time hotel monac...  \n",
       "4  great stay great stay  went seahawk game aweso...  "
      ]
     },
     "execution_count": 9,
     "metadata": {},
     "output_type": "execute_result"
    }
   ],
   "source": [
    "df.head()"
   ]
  },
  {
   "cell_type": "code",
   "execution_count": 10,
   "metadata": {
    "execution": {
     "iopub.execute_input": "2022-06-29T00:55:37.729068Z",
     "iopub.status.busy": "2022-06-29T00:55:37.728353Z",
     "iopub.status.idle": "2022-06-29T00:55:41.217377Z",
     "shell.execute_reply": "2022-06-29T00:55:41.217866Z",
     "shell.execute_reply.started": "2022-06-29T00:48:41.876535Z"
    },
    "papermill": {
     "duration": 3.515364,
     "end_time": "2022-06-29T00:55:41.218031",
     "exception": false,
     "start_time": "2022-06-29T00:55:37.702667",
     "status": "completed"
    },
    "tags": []
   },
   "outputs": [
    {
     "data": {
      "text/plain": [
       "99.82797325655166"
      ]
     },
     "execution_count": 10,
     "metadata": {},
     "output_type": "execute_result"
    }
   ],
   "source": [
    "num_words=20000\n",
    "tokenizer=Tokenizer(num_words=num_words,oov_token='OOV')\n",
    "tokenizer.fit_on_texts(df['nlp_text'])\n",
    "tokenized_text=tokenizer.texts_to_sequences(df['nlp_text'])\n",
    "np.mean([len(x) for x in tokenized_text])"
   ]
  },
  {
   "cell_type": "code",
   "execution_count": 11,
   "metadata": {
    "execution": {
     "iopub.execute_input": "2022-06-29T00:55:41.268790Z",
     "iopub.status.busy": "2022-06-29T00:55:41.267738Z",
     "iopub.status.idle": "2022-06-29T00:55:41.736565Z",
     "shell.execute_reply": "2022-06-29T00:55:41.735739Z",
     "shell.execute_reply.started": "2022-06-29T00:48:45.311204Z"
    },
    "papermill": {
     "duration": 0.495326,
     "end_time": "2022-06-29T00:55:41.736696",
     "exception": false,
     "start_time": "2022-06-29T00:55:41.241370",
     "status": "completed"
    },
    "tags": []
   },
   "outputs": [],
   "source": [
    "length=100\n",
    "tokenized_text=pad_sequences(tokenized_text,length,padding='post',truncating='post')\n",
    "output=to_categorical(df['Rating'])\n",
    "output=output[:,1:]"
   ]
  },
  {
   "cell_type": "code",
   "execution_count": 12,
   "metadata": {
    "execution": {
     "iopub.execute_input": "2022-06-29T00:55:41.788536Z",
     "iopub.status.busy": "2022-06-29T00:55:41.787853Z",
     "iopub.status.idle": "2022-06-29T00:55:41.799043Z",
     "shell.execute_reply": "2022-06-29T00:55:41.799558Z",
     "shell.execute_reply.started": "2022-06-29T00:48:45.714494Z"
    },
    "papermill": {
     "duration": 0.03911,
     "end_time": "2022-06-29T00:55:41.799719",
     "exception": false,
     "start_time": "2022-06-29T00:55:41.760609",
     "status": "completed"
    },
    "tags": []
   },
   "outputs": [],
   "source": [
    "train,test,y_train,y_test=train_test_split(tokenized_text,output,test_size=0.2,random_state=21)"
   ]
  },
  {
   "cell_type": "code",
   "execution_count": 13,
   "metadata": {
    "execution": {
     "iopub.execute_input": "2022-06-29T00:55:41.850109Z",
     "iopub.status.busy": "2022-06-29T00:55:41.849406Z",
     "iopub.status.idle": "2022-06-29T00:55:42.617032Z",
     "shell.execute_reply": "2022-06-29T00:55:42.615588Z",
     "shell.execute_reply.started": "2022-06-29T00:48:45.731468Z"
    },
    "papermill": {
     "duration": 0.793729,
     "end_time": "2022-06-29T00:55:42.617166",
     "exception": false,
     "start_time": "2022-06-29T00:55:41.823437",
     "status": "completed"
    },
    "tags": []
   },
   "outputs": [],
   "source": [
    "vector_space=32\n",
    "model=Sequential()\n",
    "model.add(Embedding(num_words,vector_space,input_length=length))\n",
    "model.add(LSTM(16,return_sequences=True,recurrent_dropout=0.2))\n",
    "model.add(LSTM(16,return_sequences=True,recurrent_dropout=0.2))\n",
    "model.add(LSTM(32))\n",
    "model.add(Flatten())\n",
    "model.add(Dropout(0.5))\n",
    "model.add(Dense(64,activation='relu'))\n",
    "model.add(Dropout(0.25))\n",
    "model.add(Dense(64,activation='relu'))\n",
    "model.add(Dropout(0.25))\n",
    "model.add(Dense(5,activation='softmax'))"
   ]
  },
  {
   "cell_type": "code",
   "execution_count": 14,
   "metadata": {
    "execution": {
     "iopub.execute_input": "2022-06-29T00:55:42.675500Z",
     "iopub.status.busy": "2022-06-29T00:55:42.673639Z",
     "iopub.status.idle": "2022-06-29T00:55:42.681174Z",
     "shell.execute_reply": "2022-06-29T00:55:42.680203Z",
     "shell.execute_reply.started": "2022-06-29T00:48:46.560742Z"
    },
    "papermill": {
     "duration": 0.040675,
     "end_time": "2022-06-29T00:55:42.681415",
     "exception": false,
     "start_time": "2022-06-29T00:55:42.640740",
     "status": "completed"
    },
    "tags": []
   },
   "outputs": [
    {
     "name": "stdout",
     "output_type": "stream",
     "text": [
      "Model: \"sequential\"\n",
      "_________________________________________________________________\n",
      "Layer (type)                 Output Shape              Param #   \n",
      "=================================================================\n",
      "embedding (Embedding)        (None, 100, 32)           640000    \n",
      "_________________________________________________________________\n",
      "lstm (LSTM)                  (None, 100, 16)           3136      \n",
      "_________________________________________________________________\n",
      "lstm_1 (LSTM)                (None, 100, 16)           2112      \n",
      "_________________________________________________________________\n",
      "lstm_2 (LSTM)                (None, 32)                6272      \n",
      "_________________________________________________________________\n",
      "flatten (Flatten)            (None, 32)                0         \n",
      "_________________________________________________________________\n",
      "dropout (Dropout)            (None, 32)                0         \n",
      "_________________________________________________________________\n",
      "dense (Dense)                (None, 64)                2112      \n",
      "_________________________________________________________________\n",
      "dropout_1 (Dropout)          (None, 64)                0         \n",
      "_________________________________________________________________\n",
      "dense_1 (Dense)              (None, 64)                4160      \n",
      "_________________________________________________________________\n",
      "dropout_2 (Dropout)          (None, 64)                0         \n",
      "_________________________________________________________________\n",
      "dense_2 (Dense)              (None, 5)                 325       \n",
      "=================================================================\n",
      "Total params: 658,117\n",
      "Trainable params: 658,117\n",
      "Non-trainable params: 0\n",
      "_________________________________________________________________\n"
     ]
    }
   ],
   "source": [
    "model.summary()"
   ]
  },
  {
   "cell_type": "code",
   "execution_count": 15,
   "metadata": {
    "execution": {
     "iopub.execute_input": "2022-06-29T00:55:42.748305Z",
     "iopub.status.busy": "2022-06-29T00:55:42.743554Z",
     "iopub.status.idle": "2022-06-29T00:58:30.379762Z",
     "shell.execute_reply": "2022-06-29T00:58:30.379090Z",
     "shell.execute_reply.started": "2022-06-29T00:48:46.571098Z"
    },
    "papermill": {
     "duration": 167.673066,
     "end_time": "2022-06-29T00:58:30.379889",
     "exception": false,
     "start_time": "2022-06-29T00:55:42.706823",
     "status": "completed"
    },
    "tags": []
   },
   "outputs": [
    {
     "name": "stdout",
     "output_type": "stream",
     "text": [
      "Epoch 1/20\n",
      "14/14 [==============================] - 8s 603ms/step - loss: 1.5789 - accuracy: 0.4088 - val_loss: 1.4952 - val_accuracy: 0.4440\n",
      "Epoch 2/20\n",
      "14/14 [==============================] - 8s 576ms/step - loss: 1.4225 - accuracy: 0.4367 - val_loss: 1.3658 - val_accuracy: 0.4440\n",
      "Epoch 3/20\n",
      "14/14 [==============================] - 7s 530ms/step - loss: 1.3711 - accuracy: 0.4240 - val_loss: 1.3451 - val_accuracy: 0.4440\n",
      "Epoch 4/20\n",
      "14/14 [==============================] - 8s 544ms/step - loss: 1.3570 - accuracy: 0.4390 - val_loss: 1.3317 - val_accuracy: 0.4440\n",
      "Epoch 5/20\n",
      "14/14 [==============================] - 7s 533ms/step - loss: 1.3123 - accuracy: 0.4386 - val_loss: 1.2261 - val_accuracy: 0.4440\n",
      "Epoch 6/20\n",
      "14/14 [==============================] - 8s 537ms/step - loss: 1.1614 - accuracy: 0.4317 - val_loss: 1.1026 - val_accuracy: 0.4831\n",
      "Epoch 7/20\n",
      "14/14 [==============================] - 7s 523ms/step - loss: 1.0816 - accuracy: 0.4860 - val_loss: 1.0721 - val_accuracy: 0.4983\n",
      "Epoch 8/20\n",
      "14/14 [==============================] - 7s 526ms/step - loss: 1.0117 - accuracy: 0.5141 - val_loss: 1.0542 - val_accuracy: 0.4989\n",
      "Epoch 9/20\n",
      "14/14 [==============================] - 7s 519ms/step - loss: 0.9576 - accuracy: 0.5248 - val_loss: 1.0450 - val_accuracy: 0.5020\n",
      "Epoch 10/20\n",
      "14/14 [==============================] - 7s 532ms/step - loss: 0.9235 - accuracy: 0.5270 - val_loss: 1.0368 - val_accuracy: 0.5200\n",
      "Epoch 11/20\n",
      "14/14 [==============================] - 7s 532ms/step - loss: 0.8882 - accuracy: 0.5462 - val_loss: 1.0451 - val_accuracy: 0.5258\n",
      "Epoch 12/20\n",
      "14/14 [==============================] - 8s 547ms/step - loss: 0.8493 - accuracy: 0.5888 - val_loss: 1.0860 - val_accuracy: 0.5285\n",
      "Epoch 13/20\n",
      "14/14 [==============================] - 7s 530ms/step - loss: 0.8076 - accuracy: 0.6353 - val_loss: 1.0966 - val_accuracy: 0.5282\n",
      "Epoch 14/20\n",
      "14/14 [==============================] - 8s 557ms/step - loss: 0.7609 - accuracy: 0.6627 - val_loss: 1.1231 - val_accuracy: 0.5325\n",
      "Epoch 15/20\n",
      "14/14 [==============================] - 8s 542ms/step - loss: 0.7235 - accuracy: 0.6873 - val_loss: 1.2020 - val_accuracy: 0.5371\n",
      "Epoch 16/20\n",
      "14/14 [==============================] - 7s 522ms/step - loss: 0.6901 - accuracy: 0.7068 - val_loss: 1.2442 - val_accuracy: 0.5313\n",
      "Epoch 17/20\n",
      "14/14 [==============================] - 7s 517ms/step - loss: 0.6817 - accuracy: 0.7134 - val_loss: 1.3053 - val_accuracy: 0.5325\n",
      "Epoch 18/20\n",
      "14/14 [==============================] - 7s 522ms/step - loss: 0.6719 - accuracy: 0.7191 - val_loss: 1.2495 - val_accuracy: 0.5364\n",
      "Epoch 19/20\n",
      "14/14 [==============================] - 7s 507ms/step - loss: 0.6037 - accuracy: 0.7579 - val_loss: 1.3041 - val_accuracy: 0.5306\n",
      "Epoch 20/20\n",
      "14/14 [==============================] - 7s 511ms/step - loss: 0.5738 - accuracy: 0.7685 - val_loss: 1.3777 - val_accuracy: 0.5236\n"
     ]
    }
   ],
   "source": [
    "epoch=20\n",
    "model.compile(optimizer='Adam',loss='categorical_crossentropy',metrics=['accuracy'])\n",
    "history=model.fit(train,y_train,validation_split=0.2,epochs=epoch,batch_size=1000)"
   ]
  },
  {
   "cell_type": "code",
   "execution_count": 16,
   "metadata": {
    "execution": {
     "iopub.execute_input": "2022-06-29T00:58:30.639336Z",
     "iopub.status.busy": "2022-06-29T00:58:30.638469Z",
     "iopub.status.idle": "2022-06-29T00:58:30.983293Z",
     "shell.execute_reply": "2022-06-29T00:58:30.982718Z",
     "shell.execute_reply.started": "2022-06-29T00:51:37.185469Z"
    },
    "papermill": {
     "duration": 0.475037,
     "end_time": "2022-06-29T00:58:30.983426",
     "exception": false,
     "start_time": "2022-06-29T00:58:30.508389",
     "status": "completed"
    },
    "tags": []
   },
   "outputs": [
    {
     "data": {
      "image/png": "[encoded data removed]",
      "text/plain": [
       "<Figure size 864x360 with 2 Axes>"
      ]
     },
     "metadata": {
      "needs_background": "light"
     },
     "output_type": "display_data"
    }
   ],
   "source": [
    "h=history.history\n",
    "fig=plt.figure(figsize=(12,5))\n",
    "plt.subplot(1,2,1)\n",
    "plt.title('Accuracy')\n",
    "plt.plot(range(1,epoch+1),h['accuracy'],label='train')\n",
    "plt.plot(range(1,epoch+1),h['val_accuracy'],label='validation')\n",
    "plt.legend()\n",
    "plt.subplot(1,2,2)\n",
    "plt.title('Loss')\n",
    "plt.plot(range(1,epoch+1),h['loss'],label='train')\n",
    "plt.plot(range(1,epoch+1),h['val_loss'],label='validation')\n",
    "plt.legend()\n",
    "plt.show()"
   ]
  },
  {
   "cell_type": "code",
   "execution_count": 17,
   "metadata": {
    "execution": {
     "iopub.execute_input": "2022-06-29T00:58:31.251605Z",
     "iopub.status.busy": "2022-06-29T00:58:31.250899Z",
     "iopub.status.idle": "2022-06-29T00:58:31.258597Z",
     "shell.execute_reply": "2022-06-29T00:58:31.259081Z",
     "shell.execute_reply.started": "2022-06-29T00:51:37.595768Z"
    },
    "papermill": {
     "duration": 0.14615,
     "end_time": "2022-06-29T00:58:31.259267",
     "exception": false,
     "start_time": "2022-06-29T00:58:31.113117",
     "status": "completed"
    },
    "tags": []
   },
   "outputs": [],
   "source": [
    "train,test,y_train,y_test=train_test_split(tokenized_text,df['Rating'],test_size=0.2,random_state=21)"
   ]
  },
  {
   "cell_type": "code",
   "execution_count": 18,
   "metadata": {
    "execution": {
     "iopub.execute_input": "2022-06-29T00:58:31.524885Z",
     "iopub.status.busy": "2022-06-29T00:58:31.524131Z",
     "iopub.status.idle": "2022-06-29T00:58:31.780481Z",
     "shell.execute_reply": "2022-06-29T00:58:31.779527Z",
     "shell.execute_reply.started": "2022-06-29T00:51:37.609688Z"
    },
    "papermill": {
     "duration": 0.393578,
     "end_time": "2022-06-29T00:58:31.780618",
     "exception": false,
     "start_time": "2022-06-29T00:58:31.387040",
     "status": "completed"
    },
    "tags": []
   },
   "outputs": [],
   "source": [
    "model=Sequential()\n",
    "model.add(Embedding(num_words,vector_space,input_length=length))\n",
    "model.add(LSTM(32))\n",
    "model.add(Flatten())\n",
    "model.add(Dense(256,activation='relu'))\n",
    "model.add(Dense(1,activation='relu'))"
   ]
  },
  {
   "cell_type": "code",
   "execution_count": 19,
   "metadata": {
    "execution": {
     "iopub.execute_input": "2022-06-29T00:58:32.041723Z",
     "iopub.status.busy": "2022-06-29T00:58:32.041071Z",
     "iopub.status.idle": "2022-06-29T00:58:32.049626Z",
     "shell.execute_reply": "2022-06-29T00:58:32.050176Z",
     "shell.execute_reply.started": "2022-06-29T00:51:37.914204Z"
    },
    "papermill": {
     "duration": 0.14147,
     "end_time": "2022-06-29T00:58:32.050339",
     "exception": false,
     "start_time": "2022-06-29T00:58:31.908869",
     "status": "completed"
    },
    "tags": []
   },
   "outputs": [
    {
     "name": "stdout",
     "output_type": "stream",
     "text": [
      "Model: \"sequential_1\"\n",
      "_________________________________________________________________\n",
      "Layer (type)                 Output Shape              Param #   \n",
      "=================================================================\n",
      "embedding_1 (Embedding)      (None, 100, 32)           640000    \n",
      "_________________________________________________________________\n",
      "lstm_3 (LSTM)                (None, 32)                8320      \n",
      "_________________________________________________________________\n",
      "flatten_1 (Flatten)          (None, 32)                0         \n",
      "_________________________________________________________________\n",
      "dense_3 (Dense)              (None, 256)               8448      \n",
      "_________________________________________________________________\n",
      "dense_4 (Dense)              (None, 1)                 257       \n",
      "=================================================================\n",
      "Total params: 657,025\n",
      "Trainable params: 657,025\n",
      "Non-trainable params: 0\n",
      "_________________________________________________________________\n"
     ]
    }
   ],
   "source": [
    "model.summary()"
   ]
  },
  {
   "cell_type": "code",
   "execution_count": 20,
   "metadata": {
    "execution": {
     "iopub.execute_input": "2022-06-29T00:58:32.316425Z",
     "iopub.status.busy": "2022-06-29T00:58:32.315761Z",
     "iopub.status.idle": "2022-06-29T01:00:04.763134Z",
     "shell.execute_reply": "2022-06-29T01:00:04.761994Z",
     "shell.execute_reply.started": "2022-06-29T00:51:37.924668Z"
    },
    "papermill": {
     "duration": 92.583643,
     "end_time": "2022-06-29T01:00:04.763323",
     "exception": false,
     "start_time": "2022-06-29T00:58:32.179680",
     "status": "completed"
    },
    "tags": []
   },
   "outputs": [
    {
     "name": "stdout",
     "output_type": "stream",
     "text": [
      "Epoch 1/20\n",
      "53/53 [==============================] - 5s 89ms/step - loss: 5.9855 - mae: 1.9224 - val_loss: 1.4907 - val_mae: 0.9350\n",
      "Epoch 2/20\n",
      "53/53 [==============================] - 4s 81ms/step - loss: 1.4904 - mae: 0.9583 - val_loss: 1.4454 - val_mae: 0.9458\n",
      "Epoch 3/20\n",
      "53/53 [==============================] - 4s 85ms/step - loss: 1.4565 - mae: 0.9510 - val_loss: 1.4264 - val_mae: 0.9471\n",
      "Epoch 4/20\n",
      "53/53 [==============================] - 4s 82ms/step - loss: 1.4001 - mae: 0.9302 - val_loss: 1.3860 - val_mae: 0.9412\n",
      "Epoch 5/20\n",
      "53/53 [==============================] - 4s 81ms/step - loss: 1.2483 - mae: 0.8677 - val_loss: 1.2679 - val_mae: 0.8779\n",
      "Epoch 6/20\n",
      "53/53 [==============================] - 4s 85ms/step - loss: 1.0257 - mae: 0.7708 - val_loss: 0.9687 - val_mae: 0.7729\n",
      "Epoch 7/20\n",
      "53/53 [==============================] - 5s 87ms/step - loss: 0.5837 - mae: 0.6059 - val_loss: 0.6701 - val_mae: 0.6408\n",
      "Epoch 8/20\n",
      "53/53 [==============================] - 4s 82ms/step - loss: 0.3794 - mae: 0.4930 - val_loss: 0.6699 - val_mae: 0.6140\n",
      "Epoch 9/20\n",
      "53/53 [==============================] - 4s 82ms/step - loss: 0.2923 - mae: 0.4336 - val_loss: 0.6354 - val_mae: 0.6280\n",
      "Epoch 10/20\n",
      "53/53 [==============================] - 5s 85ms/step - loss: 0.2400 - mae: 0.3898 - val_loss: 0.6467 - val_mae: 0.6120\n",
      "Epoch 11/20\n",
      "53/53 [==============================] - 4s 84ms/step - loss: 0.2091 - mae: 0.3599 - val_loss: 0.6709 - val_mae: 0.6078\n",
      "Epoch 12/20\n",
      "53/53 [==============================] - 4s 83ms/step - loss: 0.1838 - mae: 0.3341 - val_loss: 0.6742 - val_mae: 0.6130\n",
      "Epoch 13/20\n",
      "53/53 [==============================] - 4s 84ms/step - loss: 0.1602 - mae: 0.3068 - val_loss: 0.7137 - val_mae: 0.6456\n",
      "Epoch 14/20\n",
      "53/53 [==============================] - 4s 83ms/step - loss: 0.1453 - mae: 0.2878 - val_loss: 0.7097 - val_mae: 0.6403\n",
      "Epoch 15/20\n",
      "53/53 [==============================] - 4s 82ms/step - loss: 0.1417 - mae: 0.2871 - val_loss: 0.7285 - val_mae: 0.6285\n",
      "Epoch 16/20\n",
      "53/53 [==============================] - 4s 84ms/step - loss: 0.1214 - mae: 0.2613 - val_loss: 0.7358 - val_mae: 0.6361\n",
      "Epoch 17/20\n",
      "53/53 [==============================] - 4s 83ms/step - loss: 0.1062 - mae: 0.2380 - val_loss: 0.7855 - val_mae: 0.6734\n",
      "Epoch 18/20\n",
      "53/53 [==============================] - 5s 88ms/step - loss: 0.1044 - mae: 0.2393 - val_loss: 0.7999 - val_mae: 0.6311\n",
      "Epoch 19/20\n",
      "53/53 [==============================] - 4s 84ms/step - loss: 0.0953 - mae: 0.2237 - val_loss: 0.7607 - val_mae: 0.6360\n",
      "Epoch 20/20\n",
      "53/53 [==============================] - 5s 87ms/step - loss: 0.0825 - mae: 0.2051 - val_loss: 0.8063 - val_mae: 0.6481\n"
     ]
    }
   ],
   "source": [
    "epoch=20\n",
    "model.compile(optimizer='Adam',loss='mse',metrics='mae')\n",
    "history=model.fit(train,y_train,epochs=epoch,batch_size=250,validation_split=0.2)"
   ]
  },
  {
   "cell_type": "code",
   "execution_count": 21,
   "metadata": {
    "execution": {
     "iopub.execute_input": "2022-06-29T01:00:05.793767Z",
     "iopub.status.busy": "2022-06-29T01:00:05.792949Z",
     "iopub.status.idle": "2022-06-29T01:00:06.147983Z",
     "shell.execute_reply": "2022-06-29T01:00:06.148555Z",
     "shell.execute_reply.started": "2022-06-29T00:53:13.617402Z"
    },
    "papermill": {
     "duration": 0.884181,
     "end_time": "2022-06-29T01:00:06.148710",
     "exception": false,
     "start_time": "2022-06-29T01:00:05.264529",
     "status": "completed"
    },
    "tags": []
   },
   "outputs": [
    {
     "data": {
      "image/png": "[encoded data removed]",
      "text/plain": [
       "<Figure size 864x360 with 2 Axes>"
      ]
     },
     "metadata": {
      "needs_background": "light"
     },
     "output_type": "display_data"
    }
   ],
   "source": [
    "h=history.history\n",
    "fig=plt.figure(figsize=(12,5))\n",
    "plt.subplot(1,2,1)\n",
    "plt.title('Mean Absolute Error')\n",
    "plt.plot(range(1,epoch+1),h['mae'],label='train')\n",
    "plt.plot(range(1,epoch+1),h['val_mae'],label='validation')\n",
    "plt.legend()\n",
    "plt.subplot(1,2,2)\n",
    "plt.title('Loss')\n",
    "plt.plot(range(1,epoch+1),h['loss'],label='train')\n",
    "plt.plot(range(1,epoch+1),h['val_loss'],label='validation')\n",
    "plt.legend()\n",
    "plt.show()"
   ]
  },
  {
   "cell_type": "code",
   "execution_count": 22,
   "metadata": {
    "execution": {
     "iopub.execute_input": "2022-06-29T01:00:07.186294Z",
     "iopub.status.busy": "2022-06-29T01:00:07.185532Z",
     "iopub.status.idle": "2022-06-29T01:00:07.193571Z",
     "shell.execute_reply": "2022-06-29T01:00:07.194122Z",
     "shell.execute_reply.started": "2022-06-29T00:53:14.022105Z"
    },
    "papermill": {
     "duration": 0.556194,
     "end_time": "2022-06-29T01:00:07.194294",
     "exception": false,
     "start_time": "2022-06-29T01:00:06.638100",
     "status": "completed"
    },
    "tags": []
   },
   "outputs": [],
   "source": [
    "def get_preds(data,true_labels):\n",
    "    pred=model.predict(data)\n",
    "    h=[]\n",
    "    for x in pred:\n",
    "        if x-int(x)>=0.5:\n",
    "            h.append(np.ceil(x))\n",
    "        else :\n",
    "            h.append(np.floor(x))\n",
    "    print(pred[0:5])\n",
    "    print(true_labels[:5])\n",
    "    return accuracy_score(h,true_labels)"
   ]
  },
  {
   "cell_type": "code",
   "execution_count": 23,
   "metadata": {
    "execution": {
     "iopub.execute_input": "2022-06-29T01:00:08.168150Z",
     "iopub.status.busy": "2022-06-29T01:00:08.167451Z",
     "iopub.status.idle": "2022-06-29T01:00:13.267860Z",
     "shell.execute_reply": "2022-06-29T01:00:13.267131Z",
     "shell.execute_reply.started": "2022-06-29T00:53:14.031979Z"
    },
    "papermill": {
     "duration": 5.589041,
     "end_time": "2022-06-29T01:00:13.267997",
     "exception": false,
     "start_time": "2022-06-29T01:00:07.678956",
     "status": "completed"
    },
    "tags": []
   },
   "outputs": [
    {
     "name": "stdout",
     "output_type": "stream",
     "text": [
      "[[3.9303894]\n",
      " [4.7599854]\n",
      " [1.7428509]\n",
      " [3.8599377]\n",
      " [4.040611 ]]\n",
      "10294    4\n",
      "11753    5\n",
      "16362    2\n",
      "7074     4\n",
      "14058    4\n",
      "Name: Rating, dtype: int64\n"
     ]
    },
    {
     "data": {
      "text/plain": [
       "0.8448633479746218"
      ]
     },
     "execution_count": 23,
     "metadata": {},
     "output_type": "execute_result"
    }
   ],
   "source": [
    "get_preds(train,y_train)"
   ]
  },
  {
   "cell_type": "code",
   "execution_count": 24,
   "metadata": {
    "execution": {
     "iopub.execute_input": "2022-06-29T01:00:14.248590Z",
     "iopub.status.busy": "2022-06-29T01:00:14.246524Z",
     "iopub.status.idle": "2022-06-29T01:00:15.443649Z",
     "shell.execute_reply": "2022-06-29T01:00:15.444190Z",
     "shell.execute_reply.started": "2022-06-29T00:53:19.166805Z"
    },
    "papermill": {
     "duration": 1.689104,
     "end_time": "2022-06-29T01:00:15.444354",
     "exception": false,
     "start_time": "2022-06-29T01:00:13.755250",
     "status": "completed"
    },
    "tags": []
   },
   "outputs": [
    {
     "name": "stdout",
     "output_type": "stream",
     "text": [
      "[[3.7541776]\n",
      " [3.9464543]\n",
      " [4.977345 ]\n",
      " [4.78295  ]\n",
      " [4.086298 ]]\n",
      "955      3\n",
      "19500    5\n",
      "19157    5\n",
      "17671    5\n",
      "17723    5\n",
      "Name: Rating, dtype: int64\n"
     ]
    },
    {
     "data": {
      "text/plain": [
       "0.5125640400097585"
      ]
     },
     "execution_count": 24,
     "metadata": {},
     "output_type": "execute_result"
    }
   ],
   "source": [
    "get_preds(test,y_test)"
   ]
  },
  {
   "cell_type": "code",
   "execution_count": null,
   "metadata": {
    "papermill": {
     "duration": 0.507818,
     "end_time": "2022-06-29T01:00:16.440999",
     "exception": false,
     "start_time": "2022-06-29T01:00:15.933181",
     "status": "completed"
    },
    "tags": []
   },
   "outputs": [],
   "source": []
  }
 ],
 "metadata": {
  "kernelspec": {
   "display_name": "Python 3",
   "language": "python",
   "name": "python3"
  },
  "language_info": {
   "codemirror_mode": {
    "name": "ipython",
    "version": 3
   },
   "file_extension": ".py",
   "mimetype": "text/x-python",
   "name": "python",
   "nbconvert_exporter": "python",
   "pygments_lexer": "ipython3",
   "version": "3.7.6"
  },
  "papermill": {
   "duration": 329.739315,
   "end_time": "2022-06-29T01:00:17.030430",
   "environment_variables": {},
   "exception": null,
   "input_path": "__notebook__.ipynb",
   "output_path": "__notebook__.ipynb",
   "parameters": {},
   "start_time": "2022-06-29T00:54:47.291115",
   "version": "2.1.0"
  }
 },
 "nbformat": 4,
 "nbformat_minor": 4
}
