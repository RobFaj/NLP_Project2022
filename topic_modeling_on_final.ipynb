{
  "cells": [
    {
      "cell_type": "code",
      "execution_count": 1,
      "metadata": {
        "colab": {
          "base_uri": "https://localhost:8080/"
        },
        "id": "aBVJZDNoWWRX",
        "outputId": "ba48b348-4cb9-488c-efa9-df8a775f591c"
      },
      "outputs": [
        {
          "output_type": "stream",
          "name": "stdout",
          "text": [
            "Looking in indexes: https://pypi.org/simple, https://us-python.pkg.dev/colab-wheels/public/simple/\n",
            "Requirement already satisfied: PyDrive in /usr/local/lib/python3.7/dist-packages (1.3.1)\n",
            "Requirement already satisfied: PyYAML>=3.0 in /usr/local/lib/python3.7/dist-packages (from PyDrive) (6.0)\n",
            "Requirement already satisfied: google-api-python-client>=1.2 in /usr/local/lib/python3.7/dist-packages (from PyDrive) (1.12.11)\n",
            "Requirement already satisfied: oauth2client>=4.0.0 in /usr/local/lib/python3.7/dist-packages (from PyDrive) (4.1.3)\n",
            "Requirement already satisfied: google-auth<3dev,>=1.16.0 in /usr/local/lib/python3.7/dist-packages (from google-api-python-client>=1.2->PyDrive) (2.14.1)\n",
            "Requirement already satisfied: uritemplate<4dev,>=3.0.0 in /usr/local/lib/python3.7/dist-packages (from google-api-python-client>=1.2->PyDrive) (3.0.1)\n",
            "Requirement already satisfied: google-auth-httplib2>=0.0.3 in /usr/local/lib/python3.7/dist-packages (from google-api-python-client>=1.2->PyDrive) (0.0.4)\n",
            "Requirement already satisfied: google-api-core<3dev,>=1.21.0 in /usr/local/lib/python3.7/dist-packages (from google-api-python-client>=1.2->PyDrive) (2.8.2)\n",
            "Requirement already satisfied: six<2dev,>=1.13.0 in /usr/local/lib/python3.7/dist-packages (from google-api-python-client>=1.2->PyDrive) (1.15.0)\n",
            "Requirement already satisfied: httplib2<1dev,>=0.15.0 in /usr/local/lib/python3.7/dist-packages (from google-api-python-client>=1.2->PyDrive) (0.17.4)\n",
            "Requirement already satisfied: protobuf<5.0.0dev,>=3.15.0 in /usr/local/lib/python3.7/dist-packages (from google-api-core<3dev,>=1.21.0->google-api-python-client>=1.2->PyDrive) (3.19.6)\n",
            "Requirement already satisfied: requests<3.0.0dev,>=2.18.0 in /usr/local/lib/python3.7/dist-packages (from google-api-core<3dev,>=1.21.0->google-api-python-client>=1.2->PyDrive) (2.23.0)\n",
            "Requirement already satisfied: googleapis-common-protos<2.0dev,>=1.56.2 in /usr/local/lib/python3.7/dist-packages (from google-api-core<3dev,>=1.21.0->google-api-python-client>=1.2->PyDrive) (1.57.0)\n",
            "Requirement already satisfied: pyasn1-modules>=0.2.1 in /usr/local/lib/python3.7/dist-packages (from google-auth<3dev,>=1.16.0->google-api-python-client>=1.2->PyDrive) (0.2.8)\n",
            "Requirement already satisfied: rsa<5,>=3.1.4 in /usr/local/lib/python3.7/dist-packages (from google-auth<3dev,>=1.16.0->google-api-python-client>=1.2->PyDrive) (4.9)\n",
            "Requirement already satisfied: cachetools<6.0,>=2.0.0 in /usr/local/lib/python3.7/dist-packages (from google-auth<3dev,>=1.16.0->google-api-python-client>=1.2->PyDrive) (5.2.0)\n",
            "Requirement already satisfied: pyasn1>=0.1.7 in /usr/local/lib/python3.7/dist-packages (from oauth2client>=4.0.0->PyDrive) (0.4.8)\n",
            "Requirement already satisfied: chardet<4,>=3.0.2 in /usr/local/lib/python3.7/dist-packages (from requests<3.0.0dev,>=2.18.0->google-api-core<3dev,>=1.21.0->google-api-python-client>=1.2->PyDrive) (3.0.4)\n",
            "Requirement already satisfied: certifi>=2017.4.17 in /usr/local/lib/python3.7/dist-packages (from requests<3.0.0dev,>=2.18.0->google-api-core<3dev,>=1.21.0->google-api-python-client>=1.2->PyDrive) (2022.9.24)\n",
            "Requirement already satisfied: idna<3,>=2.5 in /usr/local/lib/python3.7/dist-packages (from requests<3.0.0dev,>=2.18.0->google-api-core<3dev,>=1.21.0->google-api-python-client>=1.2->PyDrive) (2.10)\n",
            "Requirement already satisfied: urllib3!=1.25.0,!=1.25.1,<1.26,>=1.21.1 in /usr/local/lib/python3.7/dist-packages (from requests<3.0.0dev,>=2.18.0->google-api-core<3dev,>=1.21.0->google-api-python-client>=1.2->PyDrive) (1.24.3)\n",
            "Looking in indexes: https://pypi.org/simple, https://us-python.pkg.dev/colab-wheels/public/simple/\n",
            "Requirement already satisfied: gensim in /usr/local/lib/python3.7/dist-packages (3.6.0)\n",
            "Requirement already satisfied: smart-open>=1.2.1 in /usr/local/lib/python3.7/dist-packages (from gensim) (5.2.1)\n",
            "Requirement already satisfied: scipy>=0.18.1 in /usr/local/lib/python3.7/dist-packages (from gensim) (1.7.3)\n",
            "Requirement already satisfied: six>=1.5.0 in /usr/local/lib/python3.7/dist-packages (from gensim) (1.15.0)\n",
            "Requirement already satisfied: numpy>=1.11.3 in /usr/local/lib/python3.7/dist-packages (from gensim) (1.21.6)\n",
            "Looking in indexes: https://pypi.org/simple, https://us-python.pkg.dev/colab-wheels/public/simple/\n",
            "Collecting pyldavis\n",
            "  Downloading pyLDAvis-3.3.1.tar.gz (1.7 MB)\n",
            "\u001b[K     |████████████████████████████████| 1.7 MB 4.2 MB/s \n",
            "\u001b[?25h  Installing build dependencies ... \u001b[?25l\u001b[?25hdone\n",
            "  Getting requirements to build wheel ... \u001b[?25l\u001b[?25hdone\n",
            "  Installing backend dependencies ... \u001b[?25l\u001b[?25hdone\n",
            "    Preparing wheel metadata ... \u001b[?25l\u001b[?25hdone\n",
            "Requirement already satisfied: scipy in /usr/local/lib/python3.7/dist-packages (from pyldavis) (1.7.3)\n",
            "Requirement already satisfied: joblib in /usr/local/lib/python3.7/dist-packages (from pyldavis) (1.2.0)\n",
            "Requirement already satisfied: scikit-learn in /usr/local/lib/python3.7/dist-packages (from pyldavis) (1.0.2)\n",
            "Requirement already satisfied: numpy>=1.20.0 in /usr/local/lib/python3.7/dist-packages (from pyldavis) (1.21.6)\n",
            "Requirement already satisfied: pandas>=1.2.0 in /usr/local/lib/python3.7/dist-packages (from pyldavis) (1.3.5)\n",
            "Requirement already satisfied: setuptools in /usr/local/lib/python3.7/dist-packages (from pyldavis) (57.4.0)\n",
            "Requirement already satisfied: future in /usr/local/lib/python3.7/dist-packages (from pyldavis) (0.16.0)\n",
            "Collecting funcy\n",
            "  Downloading funcy-1.17-py2.py3-none-any.whl (33 kB)\n",
            "Requirement already satisfied: gensim in /usr/local/lib/python3.7/dist-packages (from pyldavis) (3.6.0)\n",
            "Requirement already satisfied: jinja2 in /usr/local/lib/python3.7/dist-packages (from pyldavis) (2.11.3)\n",
            "Collecting sklearn\n",
            "  Downloading sklearn-0.0.post1.tar.gz (3.6 kB)\n",
            "Requirement already satisfied: numexpr in /usr/local/lib/python3.7/dist-packages (from pyldavis) (2.8.4)\n",
            "Requirement already satisfied: python-dateutil>=2.7.3 in /usr/local/lib/python3.7/dist-packages (from pandas>=1.2.0->pyldavis) (2.8.2)\n",
            "Requirement already satisfied: pytz>=2017.3 in /usr/local/lib/python3.7/dist-packages (from pandas>=1.2.0->pyldavis) (2022.6)\n",
            "Requirement already satisfied: six>=1.5 in /usr/local/lib/python3.7/dist-packages (from python-dateutil>=2.7.3->pandas>=1.2.0->pyldavis) (1.15.0)\n",
            "Requirement already satisfied: smart-open>=1.2.1 in /usr/local/lib/python3.7/dist-packages (from gensim->pyldavis) (5.2.1)\n",
            "Requirement already satisfied: MarkupSafe>=0.23 in /usr/local/lib/python3.7/dist-packages (from jinja2->pyldavis) (2.0.1)\n",
            "Requirement already satisfied: threadpoolctl>=2.0.0 in /usr/local/lib/python3.7/dist-packages (from scikit-learn->pyldavis) (3.1.0)\n",
            "Building wheels for collected packages: pyldavis, sklearn\n",
            "  Building wheel for pyldavis (PEP 517) ... \u001b[?25l\u001b[?25hdone\n",
            "  Created wheel for pyldavis: filename=pyLDAvis-3.3.1-py2.py3-none-any.whl size=136898 sha256=c9a8c72500dd3034a6a2e15171e1d2fa4a6df74fbfb9b36a35b2b12ff1828999\n",
            "  Stored in directory: /root/.cache/pip/wheels/c9/21/f6/17bcf2667e8a68532ba2fbf6d5c72fdf4c7f7d9abfa4852d2f\n",
            "  Building wheel for sklearn (setup.py) ... \u001b[?25l\u001b[?25hdone\n",
            "  Created wheel for sklearn: filename=sklearn-0.0.post1-py3-none-any.whl size=2344 sha256=20961179eef3e03f1f4d930e10bdebc03eac7c60c2de9094ad5509a92b8af2b8\n",
            "  Stored in directory: /root/.cache/pip/wheels/42/56/cc/4a8bf86613aafd5b7f1b310477667c1fca5c51c3ae4124a003\n",
            "Successfully built pyldavis sklearn\n",
            "Installing collected packages: sklearn, funcy, pyldavis\n",
            "Successfully installed funcy-1.17 pyldavis-3.3.1 sklearn-0.0.post1\n",
            "2022-11-25 00:36:00.886249: E tensorflow/stream_executor/cuda/cuda_driver.cc:271] failed call to cuInit: CUDA_ERROR_NO_DEVICE: no CUDA-capable device is detected\n",
            "\u001b[38;5;3m⚠ As of spaCy v3.0, shortcuts like 'en' are deprecated. Please use the\n",
            "full pipeline package name 'en_core_web_sm' instead.\u001b[0m\n",
            "Looking in indexes: https://pypi.org/simple, https://us-python.pkg.dev/colab-wheels/public/simple/\n",
            "Collecting en-core-web-sm==3.4.1\n",
            "  Downloading https://github.com/explosion/spacy-models/releases/download/en_core_web_sm-3.4.1/en_core_web_sm-3.4.1-py3-none-any.whl (12.8 MB)\n",
            "\u001b[K     |████████████████████████████████| 12.8 MB 1.6 MB/s \n",
            "\u001b[?25hRequirement already satisfied: spacy<3.5.0,>=3.4.0 in /usr/local/lib/python3.7/dist-packages (from en-core-web-sm==3.4.1) (3.4.3)\n",
            "Requirement already satisfied: typer<0.8.0,>=0.3.0 in /usr/local/lib/python3.7/dist-packages (from spacy<3.5.0,>=3.4.0->en-core-web-sm==3.4.1) (0.7.0)\n",
            "Requirement already satisfied: murmurhash<1.1.0,>=0.28.0 in /usr/local/lib/python3.7/dist-packages (from spacy<3.5.0,>=3.4.0->en-core-web-sm==3.4.1) (1.0.9)\n",
            "Requirement already satisfied: jinja2 in /usr/local/lib/python3.7/dist-packages (from spacy<3.5.0,>=3.4.0->en-core-web-sm==3.4.1) (2.11.3)\n",
            "Requirement already satisfied: catalogue<2.1.0,>=2.0.6 in /usr/local/lib/python3.7/dist-packages (from spacy<3.5.0,>=3.4.0->en-core-web-sm==3.4.1) (2.0.8)\n",
            "Requirement already satisfied: spacy-legacy<3.1.0,>=3.0.10 in /usr/local/lib/python3.7/dist-packages (from spacy<3.5.0,>=3.4.0->en-core-web-sm==3.4.1) (3.0.10)\n",
            "Requirement already satisfied: packaging>=20.0 in /usr/local/lib/python3.7/dist-packages (from spacy<3.5.0,>=3.4.0->en-core-web-sm==3.4.1) (21.3)\n",
            "Requirement already satisfied: spacy-loggers<2.0.0,>=1.0.0 in /usr/local/lib/python3.7/dist-packages (from spacy<3.5.0,>=3.4.0->en-core-web-sm==3.4.1) (1.0.3)\n",
            "Requirement already satisfied: langcodes<4.0.0,>=3.2.0 in /usr/local/lib/python3.7/dist-packages (from spacy<3.5.0,>=3.4.0->en-core-web-sm==3.4.1) (3.3.0)\n",
            "Requirement already satisfied: requests<3.0.0,>=2.13.0 in /usr/local/lib/python3.7/dist-packages (from spacy<3.5.0,>=3.4.0->en-core-web-sm==3.4.1) (2.23.0)\n",
            "Requirement already satisfied: wasabi<1.1.0,>=0.9.1 in /usr/local/lib/python3.7/dist-packages (from spacy<3.5.0,>=3.4.0->en-core-web-sm==3.4.1) (0.10.1)\n",
            "Requirement already satisfied: srsly<3.0.0,>=2.4.3 in /usr/local/lib/python3.7/dist-packages (from spacy<3.5.0,>=3.4.0->en-core-web-sm==3.4.1) (2.4.5)\n",
            "Requirement already satisfied: pathy>=0.3.5 in /usr/local/lib/python3.7/dist-packages (from spacy<3.5.0,>=3.4.0->en-core-web-sm==3.4.1) (0.8.1)\n",
            "Requirement already satisfied: tqdm<5.0.0,>=4.38.0 in /usr/local/lib/python3.7/dist-packages (from spacy<3.5.0,>=3.4.0->en-core-web-sm==3.4.1) (4.64.1)\n",
            "Requirement already satisfied: typing-extensions<4.2.0,>=3.7.4 in /usr/local/lib/python3.7/dist-packages (from spacy<3.5.0,>=3.4.0->en-core-web-sm==3.4.1) (4.1.1)\n",
            "Requirement already satisfied: thinc<8.2.0,>=8.1.0 in /usr/local/lib/python3.7/dist-packages (from spacy<3.5.0,>=3.4.0->en-core-web-sm==3.4.1) (8.1.5)\n",
            "Requirement already satisfied: cymem<2.1.0,>=2.0.2 in /usr/local/lib/python3.7/dist-packages (from spacy<3.5.0,>=3.4.0->en-core-web-sm==3.4.1) (2.0.7)\n",
            "Requirement already satisfied: setuptools in /usr/local/lib/python3.7/dist-packages (from spacy<3.5.0,>=3.4.0->en-core-web-sm==3.4.1) (57.4.0)\n",
            "Requirement already satisfied: preshed<3.1.0,>=3.0.2 in /usr/local/lib/python3.7/dist-packages (from spacy<3.5.0,>=3.4.0->en-core-web-sm==3.4.1) (3.0.8)\n",
            "Requirement already satisfied: pydantic!=1.8,!=1.8.1,<1.11.0,>=1.7.4 in /usr/local/lib/python3.7/dist-packages (from spacy<3.5.0,>=3.4.0->en-core-web-sm==3.4.1) (1.10.2)\n",
            "Requirement already satisfied: numpy>=1.15.0 in /usr/local/lib/python3.7/dist-packages (from spacy<3.5.0,>=3.4.0->en-core-web-sm==3.4.1) (1.21.6)\n",
            "Requirement already satisfied: zipp>=0.5 in /usr/local/lib/python3.7/dist-packages (from catalogue<2.1.0,>=2.0.6->spacy<3.5.0,>=3.4.0->en-core-web-sm==3.4.1) (3.10.0)\n",
            "Requirement already satisfied: pyparsing!=3.0.5,>=2.0.2 in /usr/local/lib/python3.7/dist-packages (from packaging>=20.0->spacy<3.5.0,>=3.4.0->en-core-web-sm==3.4.1) (3.0.9)\n",
            "Requirement already satisfied: smart-open<6.0.0,>=5.2.1 in /usr/local/lib/python3.7/dist-packages (from pathy>=0.3.5->spacy<3.5.0,>=3.4.0->en-core-web-sm==3.4.1) (5.2.1)\n",
            "Requirement already satisfied: urllib3!=1.25.0,!=1.25.1,<1.26,>=1.21.1 in /usr/local/lib/python3.7/dist-packages (from requests<3.0.0,>=2.13.0->spacy<3.5.0,>=3.4.0->en-core-web-sm==3.4.1) (1.24.3)\n",
            "Requirement already satisfied: certifi>=2017.4.17 in /usr/local/lib/python3.7/dist-packages (from requests<3.0.0,>=2.13.0->spacy<3.5.0,>=3.4.0->en-core-web-sm==3.4.1) (2022.9.24)\n",
            "Requirement already satisfied: chardet<4,>=3.0.2 in /usr/local/lib/python3.7/dist-packages (from requests<3.0.0,>=2.13.0->spacy<3.5.0,>=3.4.0->en-core-web-sm==3.4.1) (3.0.4)\n",
            "Requirement already satisfied: idna<3,>=2.5 in /usr/local/lib/python3.7/dist-packages (from requests<3.0.0,>=2.13.0->spacy<3.5.0,>=3.4.0->en-core-web-sm==3.4.1) (2.10)\n",
            "Requirement already satisfied: confection<1.0.0,>=0.0.1 in /usr/local/lib/python3.7/dist-packages (from thinc<8.2.0,>=8.1.0->spacy<3.5.0,>=3.4.0->en-core-web-sm==3.4.1) (0.0.3)\n",
            "Requirement already satisfied: blis<0.8.0,>=0.7.8 in /usr/local/lib/python3.7/dist-packages (from thinc<8.2.0,>=8.1.0->spacy<3.5.0,>=3.4.0->en-core-web-sm==3.4.1) (0.7.9)\n",
            "Requirement already satisfied: click<9.0.0,>=7.1.1 in /usr/local/lib/python3.7/dist-packages (from typer<0.8.0,>=0.3.0->spacy<3.5.0,>=3.4.0->en-core-web-sm==3.4.1) (7.1.2)\n",
            "Requirement already satisfied: MarkupSafe>=0.23 in /usr/local/lib/python3.7/dist-packages (from jinja2->spacy<3.5.0,>=3.4.0->en-core-web-sm==3.4.1) (2.0.1)\n",
            "\u001b[38;5;2m✔ Download and installation successful\u001b[0m\n",
            "You can now load the package via spacy.load('en_core_web_sm')\n"
          ]
        }
      ],
      "source": [
        "!pip install PyDrive\n",
        "!pip install gensim\n",
        "!pip install pyldavis\n",
        "!python -m spacy download en"
      ]
    },
    {
      "cell_type": "code",
      "execution_count": 2,
      "metadata": {
        "colab": {
          "base_uri": "https://localhost:8080/"
        },
        "id": "Cz_6-3hhMV3c",
        "outputId": "140cf41a-cf3e-4892-cee7-79067e1380c8"
      },
      "outputs": [
        {
          "output_type": "stream",
          "name": "stderr",
          "text": [
            "[nltk_data] Downloading package stopwords to /root/nltk_data...\n",
            "[nltk_data]   Unzipping corpora/stopwords.zip.\n",
            "/usr/local/lib/python3.7/dist-packages/past/types/oldstr.py:5: DeprecationWarning: Using or importing the ABCs from 'collections' instead of from 'collections.abc' is deprecated since Python 3.3,and in 3.9 it will stop working\n",
            "  from collections import Iterable\n"
          ]
        }
      ],
      "source": [
        "# Import libraries\n",
        "import pandas as pd\n",
        "import numpy as np\n",
        "import json\n",
        "import re\n",
        "import spacy\n",
        "import pandas as pd\n",
        "import zipfile\n",
        "import matplotlib.pyplot as plt\n",
        "import nltk\n",
        "from nltk import FreqDist\n",
        "nltk.download('stopwords')\n",
        "\n",
        "import seaborn as sns\n",
        "import gensim\n",
        "from gensim import corpora\n",
        "\n",
        "import pyLDAvis\n",
        "import pyLDAvis.gensim_models\n",
        "import matplotlib.pyplot as plt\n",
        "import seaborn as sns\n",
        "%matplotlib inline"
      ]
    },
    {
      "cell_type": "code",
      "source": [
        "import warnings\n",
        "warnings.filterwarnings(\"ignore\", category=DeprecationWarning)"
      ],
      "metadata": {
        "id": "xlhy9lECNWbm"
      },
      "execution_count": 3,
      "outputs": []
    },
    {
      "cell_type": "code",
      "execution_count": 5,
      "metadata": {
        "id": "zjUpWxsFMbDe"
      },
      "outputs": [],
      "source": [
        "zf = zipfile.ZipFile('tripadvisor_hotel_reviews.zip') \n",
        "df = pd.read_csv(zf.open('tripadvisor_hotel_reviews.csv'))"
      ]
    },
    {
      "cell_type": "code",
      "execution_count": 6,
      "metadata": {
        "colab": {
          "base_uri": "https://localhost:8080/"
        },
        "id": "I-WHI0o9Miqv",
        "outputId": "7819e775-b3ce-4a14-9a35-c010c15df76e"
      },
      "outputs": [
        {
          "output_type": "execute_result",
          "data": {
            "text/plain": [
              "(20491, 2)"
            ]
          },
          "metadata": {},
          "execution_count": 6
        }
      ],
      "source": [
        "df.shape"
      ]
    },
    {
      "cell_type": "code",
      "execution_count": 7,
      "metadata": {
        "colab": {
          "base_uri": "https://localhost:8080/",
          "height": 300
        },
        "id": "-5VDTa_CMkkg",
        "outputId": "03e36b12-c50f-40b0-fd87-26a547fa9762"
      },
      "outputs": [
        {
          "output_type": "execute_result",
          "data": {
            "text/plain": [
              "             Rating\n",
              "count  20491.000000\n",
              "mean       3.952223\n",
              "std        1.233030\n",
              "min        1.000000\n",
              "25%        3.000000\n",
              "50%        4.000000\n",
              "75%        5.000000\n",
              "max        5.000000"
            ],
            "text/html": [
              "\n",
              "  <div id=\"df-015cadae-4a96-43fc-a17f-ab1acf1df19f\">\n",
              "    <div class=\"colab-df-container\">\n",
              "      <div>\n",
              "<style scoped>\n",
              "    .dataframe tbody tr th:only-of-type {\n",
              "        vertical-align: middle;\n",
              "    }\n",
              "\n",
              "    .dataframe tbody tr th {\n",
              "        vertical-align: top;\n",
              "    }\n",
              "\n",
              "    .dataframe thead th {\n",
              "        text-align: right;\n",
              "    }\n",
              "</style>\n",
              "<table border=\"1\" class=\"dataframe\">\n",
              "  <thead>\n",
              "    <tr style=\"text-align: right;\">\n",
              "      <th></th>\n",
              "      <th>Rating</th>\n",
              "    </tr>\n",
              "  </thead>\n",
              "  <tbody>\n",
              "    <tr>\n",
              "      <th>count</th>\n",
              "      <td>20491.000000</td>\n",
              "    </tr>\n",
              "    <tr>\n",
              "      <th>mean</th>\n",
              "      <td>3.952223</td>\n",
              "    </tr>\n",
              "    <tr>\n",
              "      <th>std</th>\n",
              "      <td>1.233030</td>\n",
              "    </tr>\n",
              "    <tr>\n",
              "      <th>min</th>\n",
              "      <td>1.000000</td>\n",
              "    </tr>\n",
              "    <tr>\n",
              "      <th>25%</th>\n",
              "      <td>3.000000</td>\n",
              "    </tr>\n",
              "    <tr>\n",
              "      <th>50%</th>\n",
              "      <td>4.000000</td>\n",
              "    </tr>\n",
              "    <tr>\n",
              "      <th>75%</th>\n",
              "      <td>5.000000</td>\n",
              "    </tr>\n",
              "    <tr>\n",
              "      <th>max</th>\n",
              "      <td>5.000000</td>\n",
              "    </tr>\n",
              "  </tbody>\n",
              "</table>\n",
              "</div>\n",
              "      <button class=\"colab-df-convert\" onclick=\"convertToInteractive('df-015cadae-4a96-43fc-a17f-ab1acf1df19f')\"\n",
              "              title=\"Convert this dataframe to an interactive table.\"\n",
              "              style=\"display:none;\">\n",
              "        \n",
              "  <svg xmlns=\"http://www.w3.org/2000/svg\" height=\"24px\"viewBox=\"0 0 24 24\"\n",
              "       width=\"24px\">\n",
              "    <path d=\"M0 0h24v24H0V0z\" fill=\"none\"/>\n",
              "    <path d=\"M18.56 5.44l.94 2.06.94-2.06 2.06-.94-2.06-.94-.94-2.06-.94 2.06-2.06.94zm-11 1L8.5 8.5l.94-2.06 2.06-.94-2.06-.94L8.5 2.5l-.94 2.06-2.06.94zm10 10l.94 2.06.94-2.06 2.06-.94-2.06-.94-.94-2.06-.94 2.06-2.06.94z\"/><path d=\"M17.41 7.96l-1.37-1.37c-.4-.4-.92-.59-1.43-.59-.52 0-1.04.2-1.43.59L10.3 9.45l-7.72 7.72c-.78.78-.78 2.05 0 2.83L4 21.41c.39.39.9.59 1.41.59.51 0 1.02-.2 1.41-.59l7.78-7.78 2.81-2.81c.8-.78.8-2.07 0-2.86zM5.41 20L4 18.59l7.72-7.72 1.47 1.35L5.41 20z\"/>\n",
              "  </svg>\n",
              "      </button>\n",
              "      \n",
              "  <style>\n",
              "    .colab-df-container {\n",
              "      display:flex;\n",
              "      flex-wrap:wrap;\n",
              "      gap: 12px;\n",
              "    }\n",
              "\n",
              "    .colab-df-convert {\n",
              "      background-color: #E8F0FE;\n",
              "      border: none;\n",
              "      border-radius: 50%;\n",
              "      cursor: pointer;\n",
              "      display: none;\n",
              "      fill: #1967D2;\n",
              "      height: 32px;\n",
              "      padding: 0 0 0 0;\n",
              "      width: 32px;\n",
              "    }\n",
              "\n",
              "    .colab-df-convert:hover {\n",
              "      background-color: #E2EBFA;\n",
              "      box-shadow: 0px 1px 2px rgba(60, 64, 67, 0.3), 0px 1px 3px 1px rgba(60, 64, 67, 0.15);\n",
              "      fill: #174EA6;\n",
              "    }\n",
              "\n",
              "    [theme=dark] .colab-df-convert {\n",
              "      background-color: #3B4455;\n",
              "      fill: #D2E3FC;\n",
              "    }\n",
              "\n",
              "    [theme=dark] .colab-df-convert:hover {\n",
              "      background-color: #434B5C;\n",
              "      box-shadow: 0px 1px 3px 1px rgba(0, 0, 0, 0.15);\n",
              "      filter: drop-shadow(0px 1px 2px rgba(0, 0, 0, 0.3));\n",
              "      fill: #FFFFFF;\n",
              "    }\n",
              "  </style>\n",
              "\n",
              "      <script>\n",
              "        const buttonEl =\n",
              "          document.querySelector('#df-015cadae-4a96-43fc-a17f-ab1acf1df19f button.colab-df-convert');\n",
              "        buttonEl.style.display =\n",
              "          google.colab.kernel.accessAllowed ? 'block' : 'none';\n",
              "\n",
              "        async function convertToInteractive(key) {\n",
              "          const element = document.querySelector('#df-015cadae-4a96-43fc-a17f-ab1acf1df19f');\n",
              "          const dataTable =\n",
              "            await google.colab.kernel.invokeFunction('convertToInteractive',\n",
              "                                                     [key], {});\n",
              "          if (!dataTable) return;\n",
              "\n",
              "          const docLinkHtml = 'Like what you see? Visit the ' +\n",
              "            '<a target=\"_blank\" href=https://colab.research.google.com/notebooks/data_table.ipynb>data table notebook</a>'\n",
              "            + ' to learn more about interactive tables.';\n",
              "          element.innerHTML = '';\n",
              "          dataTable['output_type'] = 'display_data';\n",
              "          await google.colab.output.renderOutput(dataTable, element);\n",
              "          const docLink = document.createElement('div');\n",
              "          docLink.innerHTML = docLinkHtml;\n",
              "          element.appendChild(docLink);\n",
              "        }\n",
              "      </script>\n",
              "    </div>\n",
              "  </div>\n",
              "  "
            ]
          },
          "metadata": {},
          "execution_count": 7
        }
      ],
      "source": [
        "df.describe()"
      ]
    },
    {
      "cell_type": "code",
      "execution_count": 8,
      "metadata": {
        "colab": {
          "base_uri": "https://localhost:8080/"
        },
        "id": "ezNTvG4HMmME",
        "outputId": "a31fb78e-ca13-45ac-95b1-02b3ed79dccd"
      },
      "outputs": [
        {
          "output_type": "stream",
          "name": "stdout",
          "text": [
            "<class 'pandas.core.frame.DataFrame'>\n",
            "RangeIndex: 20491 entries, 0 to 20490\n",
            "Data columns (total 2 columns):\n",
            " #   Column  Non-Null Count  Dtype \n",
            "---  ------  --------------  ----- \n",
            " 0   Review  20491 non-null  object\n",
            " 1   Rating  20491 non-null  int64 \n",
            "dtypes: int64(1), object(1)\n",
            "memory usage: 320.3+ KB\n"
          ]
        }
      ],
      "source": [
        "df.info()"
      ]
    },
    {
      "cell_type": "code",
      "execution_count": 9,
      "metadata": {
        "id": "CO9yw5CcMyud"
      },
      "outputs": [],
      "source": [
        "from nltk.corpus import stopwords\n",
        "stop_words = stopwords.words('english')\n",
        "from string import punctuation"
      ]
    },
    {
      "cell_type": "code",
      "execution_count": 10,
      "metadata": {
        "id": "4Mx4rBCpMtfW"
      },
      "outputs": [],
      "source": [
        "def frequent_words(words, terms = 20):\n",
        "  words_all = ' '.join([text for text in words])\n",
        "  words_all = words_all.split()\n",
        "  \n",
        "  fdist = FreqDist(words_all)\n",
        "  df_words = pd.DataFrame({'word':list(fdist.keys()), 'total':list(fdist.values())})\n",
        "  \n",
        "  # selecting top 30 most frequent words\n",
        "  dfreq = df_words.nlargest(columns=\"total\", n = terms) \n",
        "  plt.figure(figsize=(20,5))\n",
        "  ax = sns.barplot(data=dfreq, x= \"word\", y = \"total\")\n",
        "  ax.set(ylabel = 'Count')\n",
        "  plt.show()"
      ]
    },
    {
      "cell_type": "code",
      "execution_count": 11,
      "metadata": {
        "id": "PlTx0r-nM0oi"
      },
      "outputs": [],
      "source": [
        "# function to remove stopwords\n",
        "def stopwords_rem(rev):\n",
        "  rev_new = \" \".join([i for i in rev if i not in (stop_words+list(punctuation))])\n",
        "  return rev_new"
      ]
    },
    {
      "cell_type": "code",
      "execution_count": 12,
      "metadata": {
        "id": "Srrb9mnBM47i"
      },
      "outputs": [],
      "source": [
        "nlp = spacy.load('en_core_web_sm')"
      ]
    },
    {
      "cell_type": "code",
      "execution_count": 13,
      "metadata": {
        "id": "OohXL9epM_Xl"
      },
      "outputs": [],
      "source": [
        "def lemmatization(texts, tags=['NOUN', 'ADJ']):\n",
        "    output = []\n",
        "    for sent in texts:\n",
        "        doc = nlp(\" \".join(sent)) \n",
        "        output.append([token.lemma_ for token in doc if token.pos_ in tags])\n",
        "    return output"
      ]
    },
    {
      "cell_type": "code",
      "execution_count": 14,
      "metadata": {
        "id": "Lhk6ExhENWoa"
      },
      "outputs": [],
      "source": [
        "# remove short words (length < 3)\n",
        "df['Review'] = df['Review'].apply(lambda x: ' '.join([w for w in x.split() if len(w)>2]))\n",
        "\n",
        "# remove stopwords from the text\n",
        "reviews = [stopwords_rem(r.split()) for r in df['Review']]\n",
        "\n",
        "# remove punctuation from the text\n",
        "#reviews = [punctuation_rem(r.split()) for r in df['Review']]\n",
        "\n",
        "# make entire text lowercase\n",
        "reviews = [r.lower() for r in reviews]"
      ]
    },
    {
      "cell_type": "code",
      "execution_count": 15,
      "metadata": {
        "id": "NUVLvJFoNYDP"
      },
      "outputs": [],
      "source": [
        "tokenized_reviews = pd.Series(reviews).apply(lambda x: x.split())"
      ]
    },
    {
      "cell_type": "code",
      "execution_count": 16,
      "metadata": {
        "colab": {
          "base_uri": "https://localhost:8080/"
        },
        "id": "9lMM0IifNeIC",
        "outputId": "1da71a06-7b3d-4e2f-b022-982cfb1d5605"
      },
      "outputs": [
        {
          "output_type": "stream",
          "name": "stdout",
          "text": [
            "['nothing', 'special', 'charge', 'diamond', 'member', 'hilton', 'decided', 'chain', 'shot', '20th', 'anniversary', 'seattle,', 'start', 'booked', 'suite', 'paid', 'extra', 'website', 'description', 'not,', 'suite', 'bedroom', 'bathroom', 'standard', 'hotel', 'room,', 'took', 'printed', 'reservation', 'desk', 'showed', 'said', 'things', 'like', 'couch', 'ect', 'desk', 'clerk', 'told', 'mixed', 'suites', 'description', 'kimpton', 'website', 'sorry', 'free', 'breakfast,', 'got', 'kidding,', 'embassy', 'suits', 'sitting', 'room', 'bathroom', 'bedroom', 'unlike', 'kimpton', 'calls', 'suite,', 'day', 'stay', 'offer', 'correct', 'false', 'advertising,', 'send', 'kimpton', 'preferred', 'guest', 'website', 'email', 'asking', 'failure', 'provide', 'suite', 'advertised', 'website', 'reservation', 'description', 'furnished', 'hard', 'copy', 'reservation', 'printout', 'website', 'desk', 'manager', 'duty', 'crime', 'reply', 'solution,', 'send', 'email', 'trip', 'guest', 'survey', 'crime', 'follow', 'email', 'mail,', 'guess', 'tell', 'concerned', 'guest.the', 'staff', 'ranged', 'indifferent', 'helpful,', 'asked', 'desk', 'good', 'breakfast', 'spots', 'neighborhood', 'hood', 'told', 'police', 'hotels,', 'gee', 'best', 'breakfast', 'spots', 'seattle', '1/2', 'block', 'away', 'convenient', 'hotel', 'know', 'exist,', 'arrived', 'late', 'night', 'inside', 'run', 'bellman', 'busy', 'chating', 'cell', 'phone', 'help', 'bags.prior', 'arrival', 'emailed', 'hotel', 'inform', '20th', 'anniversary', 'half', 'really', 'picky', 'wanted', 'make', 'sure', 'good,', 'got', 'nice', 'email', 'saying', 'like', 'deliver', 'bottle', 'champagne', 'chocolate', 'covered', 'strawberries', 'room', 'arrival', 'celebrate,', 'told', 'needed', 'foam', 'pillows,', 'arrival', 'police', 'champagne', 'strawberries', 'police', 'foam', 'pillows', 'great', 'room', 'view', 'alley', 'high', 'rise', 'building', 'good', 'better', 'housekeeping', 'staff', 'cleaner', 'room', 'property,', 'impressed', 'left', 'morning', 'shopping', 'room', 'got', 'short', 'trips', 'hours,', 'beds', 'comfortable.not', 'good', 'ac-heat', 'control', 'inch', 'screen', 'bring', 'green', 'shine', 'directly', 'eyes', 'night,', 'light', 'sensitive', 'tape', 'controls.this', 'start', 'hotel', 'clean', 'business', 'hotel', 'super', 'high', 'rates,', 'better', 'chain', 'hotels', 'seattle,']\n"
          ]
        },
        {
          "output_type": "execute_result",
          "data": {
            "text/plain": [
              "232"
            ]
          },
          "metadata": {},
          "execution_count": 16
        }
      ],
      "source": [
        "print(tokenized_reviews[1])\n",
        "len(tokenized_reviews[1])"
      ]
    },
    {
      "cell_type": "code",
      "execution_count": 17,
      "metadata": {
        "colab": {
          "base_uri": "https://localhost:8080/"
        },
        "id": "MYcNFKWGNhxk",
        "outputId": "c67b5524-44da-4e78-ff24-947049c1bd48"
      },
      "outputs": [
        {
          "output_type": "stream",
          "name": "stdout",
          "text": [
            "['special', 'charge', 'diamond', 'member', 'chain', '20th', 'anniversary', 'seattle', 'suite', 'extra', 'website', 'description', 'bedroom', 'bathroom', 'standard', 'hotel', 'room', 'reservation', 'desk', 'thing', 'couch', 'ect', 'desk', 'clerk', 'mixed', 'suite', 'website', 'free', 'breakfast', 'embassy', 'suit', 'room', 'bathroom', 'bedroom', 'call', 'suite', 'day', 'stay', 'offer', 'false', 'advertising', 'guest', 'website', 'email', 'failure', 'suite', 'advertised', 'website', 'reservation', 'description', 'hard', 'copy', 'reservation', 'printout', 'website', 'desk', 'manager', 'duty', 'crime', 'reply', 'solution', 'email', 'trip', 'guest', 'survey', 'crime', 'follow', 'email', 'mail', 'staff', 'helpful', 'desk', 'good', 'breakfast', 'spot', 'neighborhood', 'hood', 'police', 'hotel', 'good', 'breakfast', 'spot', 'seattle', 'block', 'convenient', 'hotel', 'know', 'late', 'night', 'run', 'bellman', 'busy', 'cell', 'phone', 'help', 'arrival', 'hotel', 'inform', '20th', 'anniversary', 'half', 'picky', 'sure', 'good', 'nice', 'email', 'bottle', 'champagne', 'chocolate', 'strawberry', 'room', 'arrival', 'celebrate', 'needed', 'foam', 'pillow', 'arrival', 'police', 'champagne', 'strawberry', 'police', 'foam', 'great', 'room', 'view', 'alley', 'high', 'rise', 'good', 'well', 'housekeeping', 'staff', 'clean', 'room', 'property', 'impressed', 'left', 'morning', 'shopping', 'room', 'short', 'trip', 'hour', 'bed', 'good', 'ac', 'heat', 'control', 'inch', 'screen', 'green', 'shine', 'eye', 'night', 'light', 'sensitive', 'tape', 'controls.this', 'hotel', 'clean', 'business', 'hotel', 'super', 'high', 'rate', 'well', 'chain', 'hotel', 'seattle']\n"
          ]
        }
      ],
      "source": [
        "reviews_2 = lemmatization(tokenized_reviews)\n",
        "print(reviews_2[1])"
      ]
    },
    {
      "cell_type": "code",
      "execution_count": 18,
      "metadata": {
        "colab": {
          "base_uri": "https://localhost:8080/"
        },
        "id": "ruHbzNc0NlC7",
        "outputId": "7701975c-eb55-45a3-d670-d9ef08588244"
      },
      "outputs": [
        {
          "output_type": "execute_result",
          "data": {
            "text/plain": [
              "{'1/2',\n",
              " 'ac-heat',\n",
              " 'advertising,',\n",
              " 'arrived',\n",
              " 'asked',\n",
              " 'asking',\n",
              " 'away',\n",
              " 'bags.prior',\n",
              " 'beds',\n",
              " 'best',\n",
              " 'better',\n",
              " 'booked',\n",
              " 'breakfast,',\n",
              " 'bring',\n",
              " 'building',\n",
              " 'calls',\n",
              " 'celebrate,',\n",
              " 'chating',\n",
              " 'cleaner',\n",
              " 'comfortable.not',\n",
              " 'concerned',\n",
              " 'correct',\n",
              " 'covered',\n",
              " 'decided',\n",
              " 'deliver',\n",
              " 'directly',\n",
              " 'emailed',\n",
              " 'exist,',\n",
              " 'eyes',\n",
              " 'furnished',\n",
              " 'gee',\n",
              " 'good,',\n",
              " 'got',\n",
              " 'guess',\n",
              " 'guest.the',\n",
              " 'helpful,',\n",
              " 'hilton',\n",
              " 'hotels',\n",
              " 'hotels,',\n",
              " 'hours,',\n",
              " 'indifferent',\n",
              " 'inside',\n",
              " 'kidding,',\n",
              " 'kimpton',\n",
              " 'like',\n",
              " 'mail,',\n",
              " 'make',\n",
              " 'night,',\n",
              " 'not,',\n",
              " 'nothing',\n",
              " 'paid',\n",
              " 'pillows',\n",
              " 'pillows,',\n",
              " 'preferred',\n",
              " 'printed',\n",
              " 'property,',\n",
              " 'provide',\n",
              " 'ranged',\n",
              " 'rates,',\n",
              " 'really',\n",
              " 'room,',\n",
              " 'said',\n",
              " 'saying',\n",
              " 'seattle,',\n",
              " 'send',\n",
              " 'shot',\n",
              " 'showed',\n",
              " 'sitting',\n",
              " 'solution,',\n",
              " 'sorry',\n",
              " 'spots',\n",
              " 'start',\n",
              " 'strawberries',\n",
              " 'suite,',\n",
              " 'suites',\n",
              " 'suits',\n",
              " 'tell',\n",
              " 'things',\n",
              " 'told',\n",
              " 'took',\n",
              " 'trips',\n",
              " 'unlike',\n",
              " 'wanted'}"
            ]
          },
          "metadata": {},
          "execution_count": 18
        }
      ],
      "source": [
        "set(tokenized_reviews[1]) - set(reviews_2[1])"
      ]
    },
    {
      "cell_type": "code",
      "execution_count": 19,
      "metadata": {
        "id": "ziEa65PUNq_x"
      },
      "outputs": [],
      "source": [
        "reviews_3 = []\n",
        "for i in range(len(reviews_2)):\n",
        "    reviews_3.append(' '.join(reviews_2[i]))\n",
        "    \n",
        "df['reviews'] = reviews_3"
      ]
    },
    {
      "cell_type": "code",
      "execution_count": 20,
      "metadata": {
        "colab": {
          "base_uri": "https://localhost:8080/"
        },
        "id": "SUSp3BBoRm2J",
        "outputId": "190b7b3f-d7ab-48b2-d606-3f3ac5df3294"
      },
      "outputs": [
        {
          "output_type": "stream",
          "name": "stderr",
          "text": [
            "[nltk_data] Downloading package punkt to /root/nltk_data...\n",
            "[nltk_data]   Unzipping tokenizers/punkt.zip.\n",
            "[nltk_data] Downloading package tagsets to /root/nltk_data...\n",
            "[nltk_data]   Unzipping help/tagsets.zip.\n"
          ]
        },
        {
          "output_type": "execute_result",
          "data": {
            "text/plain": [
              "True"
            ]
          },
          "metadata": {},
          "execution_count": 20
        }
      ],
      "source": [
        "import nltk\n",
        "nltk.download('punkt')\n",
        "import seaborn as sns\n",
        "nltk.download('tagsets')"
      ]
    },
    {
      "cell_type": "code",
      "execution_count": 21,
      "metadata": {
        "id": "Gb3QptggRQEc"
      },
      "outputs": [],
      "source": [
        "reviews = list(df['reviews'].values)\n",
        "review_tokens = [nltk.word_tokenize(review) for review in reviews]"
      ]
    },
    {
      "cell_type": "code",
      "execution_count": 22,
      "metadata": {
        "colab": {
          "base_uri": "https://localhost:8080/"
        },
        "id": "XEN8iYSgRzop",
        "outputId": "5aab4365-2982-438a-bdd8-6a9bc37b8912"
      },
      "outputs": [
        {
          "output_type": "execute_result",
          "data": {
            "text/plain": [
              "['nice',\n",
              " 'hotel',\n",
              " 'expensive',\n",
              " 'parking',\n",
              " 'good',\n",
              " 'deal',\n",
              " 'hotel',\n",
              " 'anniversary',\n",
              " 'late',\n",
              " 'evening',\n",
              " 'advice',\n",
              " 'previous',\n",
              " 'review',\n",
              " 'crime',\n",
              " 'valet',\n",
              " 'parking',\n",
              " 'quick',\n",
              " 'easy',\n",
              " 'little',\n",
              " 'disappointed',\n",
              " 'non',\n",
              " '-',\n",
              " 'existent',\n",
              " 'view',\n",
              " 'room',\n",
              " 'room',\n",
              " 'clean',\n",
              " 'nice',\n",
              " 'size',\n",
              " 'bed',\n",
              " 'comfortable',\n",
              " 'stiff',\n",
              " 'neck',\n",
              " 'high',\n",
              " 'pillow',\n",
              " 'soundproof',\n",
              " 'music',\n",
              " 'room',\n",
              " 'night',\n",
              " 'morning',\n",
              " 'loud',\n",
              " 'bang',\n",
              " 'door',\n",
              " 'closing',\n",
              " 'people',\n",
              " 'hallway',\n",
              " 'drug',\n",
              " 'noisy',\n",
              " 'neighbor',\n",
              " 'aveda',\n",
              " 'bath',\n",
              " 'product',\n",
              " 'nice',\n",
              " 'crime',\n",
              " 'nice',\n",
              " 'touch',\n",
              " 'advantage',\n",
              " 'location',\n",
              " 'great',\n",
              " 'walking',\n",
              " 'distance',\n",
              " 'shopping',\n",
              " 'overall',\n",
              " 'nice',\n",
              " 'experience',\n",
              " 'parking',\n",
              " 'night']"
            ]
          },
          "metadata": {},
          "execution_count": 22
        }
      ],
      "source": [
        "review_tokens[0]"
      ]
    },
    {
      "cell_type": "code",
      "execution_count": 23,
      "metadata": {
        "colab": {
          "base_uri": "https://localhost:8080/"
        },
        "id": "Rc2oNi2LN8pW",
        "outputId": "a5656343-2a03-481d-87bd-b5e8813d3e03"
      },
      "outputs": [
        {
          "output_type": "stream",
          "name": "stderr",
          "text": [
            "[nltk_data] Downloading package averaged_perceptron_tagger to\n",
            "[nltk_data]     /root/nltk_data...\n",
            "[nltk_data]   Unzipping taggers/averaged_perceptron_tagger.zip.\n"
          ]
        },
        {
          "output_type": "stream",
          "name": "stdout",
          "text": [
            " Parts of speech applied on each sentence. Please preview:\n"
          ]
        },
        {
          "output_type": "execute_result",
          "data": {
            "text/plain": [
              "[('nice', 'JJ'),\n",
              " ('hotel', 'NN'),\n",
              " ('expensive', 'JJ'),\n",
              " ('parking', 'NN'),\n",
              " ('good', 'JJ'),\n",
              " ('deal', 'NN'),\n",
              " ('hotel', 'NN'),\n",
              " ('anniversary', 'NN'),\n",
              " ('late', 'JJ'),\n",
              " ('evening', 'NN'),\n",
              " ('advice', 'NN'),\n",
              " ('previous', 'JJ'),\n",
              " ('review', 'NN'),\n",
              " ('crime', 'NN'),\n",
              " ('valet', 'NN'),\n",
              " ('parking', 'VBG'),\n",
              " ('quick', 'JJ'),\n",
              " ('easy', 'JJ'),\n",
              " ('little', 'JJ'),\n",
              " ('disappointed', 'JJ'),\n",
              " ('non', 'SYM'),\n",
              " ('-', ':'),\n",
              " ('existent', 'JJ'),\n",
              " ('view', 'NN'),\n",
              " ('room', 'NN'),\n",
              " ('room', 'NN'),\n",
              " ('clean', 'JJ'),\n",
              " ('nice', 'JJ'),\n",
              " ('size', 'NN'),\n",
              " ('bed', 'VBD'),\n",
              " ('comfortable', 'JJ'),\n",
              " ('stiff', 'JJ'),\n",
              " ('neck', 'NN'),\n",
              " ('high', 'JJ'),\n",
              " ('pillow', 'NN'),\n",
              " ('soundproof', 'NN'),\n",
              " ('music', 'NN'),\n",
              " ('room', 'NN'),\n",
              " ('night', 'NN'),\n",
              " ('morning', 'NN'),\n",
              " ('loud', 'NN'),\n",
              " ('bang', 'NN'),\n",
              " ('door', 'NN'),\n",
              " ('closing', 'NN'),\n",
              " ('people', 'NNS'),\n",
              " ('hallway', 'VBP'),\n",
              " ('drug', 'NN'),\n",
              " ('noisy', 'NNS'),\n",
              " ('neighbor', 'VBP'),\n",
              " ('aveda', 'JJ'),\n",
              " ('bath', 'NN'),\n",
              " ('product', 'NN'),\n",
              " ('nice', 'JJ'),\n",
              " ('crime', 'NN'),\n",
              " ('nice', 'JJ'),\n",
              " ('touch', 'JJ'),\n",
              " ('advantage', 'NN'),\n",
              " ('location', 'NN'),\n",
              " ('great', 'JJ'),\n",
              " ('walking', 'VBG'),\n",
              " ('distance', 'NN'),\n",
              " ('shopping', 'VBG'),\n",
              " ('overall', 'JJ'),\n",
              " ('nice', 'JJ'),\n",
              " ('experience', 'NN'),\n",
              " ('parking', 'NN'),\n",
              " ('night', 'NN')]"
            ]
          },
          "metadata": {},
          "execution_count": 23
        }
      ],
      "source": [
        "nltk.download('averaged_perceptron_tagger')\n",
        "pos_tagged = [nltk.pos_tag(review) for review in review_tokens]\n",
        "print (\" Parts of speech applied on each sentence. Please preview:\") \n",
        "pos_tagged[0]"
      ]
    },
    {
      "cell_type": "code",
      "execution_count": 24,
      "metadata": {
        "id": "wX4RLaV6SGuc"
      },
      "outputs": [],
      "source": [
        "reviews_noun = []\n",
        "\n",
        "for review in pos_tagged:\n",
        "    reviews_noun.append([postag for postag in review if postag[1].startswith('NN')])"
      ]
    },
    {
      "cell_type": "code",
      "execution_count": 25,
      "metadata": {
        "colab": {
          "base_uri": "https://localhost:8080/",
          "height": 386
        },
        "id": "TMNAwdC1TVfU",
        "outputId": "657504f2-84fe-47b5-9eac-3a0fa44730b1"
      },
      "outputs": [
        {
          "output_type": "execute_result",
          "data": {
            "text/plain": [
              "<seaborn.axisgrid.FacetGrid at 0x7f5038a5be90>"
            ]
          },
          "metadata": {},
          "execution_count": 25
        },
        {
          "output_type": "display_data",
          "data": {
            "text/plain": [
              "<Figure size 360x360 with 1 Axes>"
            ],
            "image/png": "[encoded data removed]"
          },
          "metadata": {
            "needs_background": "light"
          }
        }
      ],
      "source": [
        "df.head()\n",
        "df['length'] = df['reviews'].apply(len)\n",
        "sns.displot(df.length)"
      ]
    },
    {
      "cell_type": "code",
      "execution_count": 26,
      "metadata": {
        "colab": {
          "base_uri": "https://localhost:8080/",
          "height": 328
        },
        "id": "sW5VdU3nOOIt",
        "outputId": "cf25b614-1926-4bdf-de12-92fae8c53065"
      },
      "outputs": [
        {
          "output_type": "display_data",
          "data": {
            "text/plain": [
              "<Figure size 1440x360 with 1 Axes>"
            ],
            "image/png": "[encoded data removed]"
          },
          "metadata": {
            "needs_background": "light"
          }
        }
      ],
      "source": [
        "frequent_words(df['reviews'],20)"
      ]
    },
    {
      "cell_type": "code",
      "execution_count": 27,
      "metadata": {
        "colab": {
          "base_uri": "https://localhost:8080/",
          "height": 217
        },
        "id": "JybTjKK6OQl4",
        "outputId": "25399634-1209-47c7-bee9-e0cd559ae269"
      },
      "outputs": [
        {
          "output_type": "execute_result",
          "data": {
            "text/plain": [
              "<PIL.Image.Image image mode=RGB size=400x200 at 0x7F5028AB5210>"
            ],
            "image/png": "[encoded data removed]"
          },
          "metadata": {},
          "execution_count": 27
        }
      ],
      "source": [
        "# Import the wordcloud library\n",
        "from wordcloud import WordCloud\n",
        "# Join the different processed titles together.\n",
        "long_string = ','.join(list(df['reviews'].values))\n",
        "# Create a WordCloud object\n",
        "wordcloud = WordCloud(background_color=\"white\", max_words=100000, contour_width=3, contour_color='steelblue')\n",
        "# Generate a word cloud\n",
        "wordcloud.generate(long_string)\n",
        "# Visualize the word cloud\n",
        "wordcloud.to_image()"
      ]
    },
    {
      "cell_type": "code",
      "execution_count": 28,
      "metadata": {
        "colab": {
          "base_uri": "https://localhost:8080/",
          "height": 206
        },
        "id": "imq1cvs_TjFH",
        "outputId": "158abe4b-57c1-4721-b256-864d1d07bdd9"
      },
      "outputs": [
        {
          "output_type": "execute_result",
          "data": {
            "text/plain": [
              "                                              Review  Rating  \\\n",
              "0  nice hotel expensive parking got good deal sta...       4   \n",
              "1  nothing special charge diamond member hilton d...       2   \n",
              "2  nice rooms not experience hotel monaco seattle...       3   \n",
              "3  unique, great stay, wonderful time hotel monac...       5   \n",
              "4  great stay great stay, went seahawk game aweso...       5   \n",
              "\n",
              "                                             reviews  length  \n",
              "0  nice hotel expensive parking good deal hotel a...     452  \n",
              "1  special charge diamond member chain 20th anniv...    1154  \n",
              "2  nice room hotel hotel room space large bathroo...     839  \n",
              "3  unique great stay wonderful time hotel locatio...     476  \n",
              "4  great great stay awesome downfall crime room s...     816  "
            ],
            "text/html": [
              "\n",
              "  <div id=\"df-0cc14c82-409a-4250-9e6b-7cceea2bdfbd\">\n",
              "    <div class=\"colab-df-container\">\n",
              "      <div>\n",
              "<style scoped>\n",
              "    .dataframe tbody tr th:only-of-type {\n",
              "        vertical-align: middle;\n",
              "    }\n",
              "\n",
              "    .dataframe tbody tr th {\n",
              "        vertical-align: top;\n",
              "    }\n",
              "\n",
              "    .dataframe thead th {\n",
              "        text-align: right;\n",
              "    }\n",
              "</style>\n",
              "<table border=\"1\" class=\"dataframe\">\n",
              "  <thead>\n",
              "    <tr style=\"text-align: right;\">\n",
              "      <th></th>\n",
              "      <th>Review</th>\n",
              "      <th>Rating</th>\n",
              "      <th>reviews</th>\n",
              "      <th>length</th>\n",
              "    </tr>\n",
              "  </thead>\n",
              "  <tbody>\n",
              "    <tr>\n",
              "      <th>0</th>\n",
              "      <td>nice hotel expensive parking got good deal sta...</td>\n",
              "      <td>4</td>\n",
              "      <td>nice hotel expensive parking good deal hotel a...</td>\n",
              "      <td>452</td>\n",
              "    </tr>\n",
              "    <tr>\n",
              "      <th>1</th>\n",
              "      <td>nothing special charge diamond member hilton d...</td>\n",
              "      <td>2</td>\n",
              "      <td>special charge diamond member chain 20th anniv...</td>\n",
              "      <td>1154</td>\n",
              "    </tr>\n",
              "    <tr>\n",
              "      <th>2</th>\n",
              "      <td>nice rooms not experience hotel monaco seattle...</td>\n",
              "      <td>3</td>\n",
              "      <td>nice room hotel hotel room space large bathroo...</td>\n",
              "      <td>839</td>\n",
              "    </tr>\n",
              "    <tr>\n",
              "      <th>3</th>\n",
              "      <td>unique, great stay, wonderful time hotel monac...</td>\n",
              "      <td>5</td>\n",
              "      <td>unique great stay wonderful time hotel locatio...</td>\n",
              "      <td>476</td>\n",
              "    </tr>\n",
              "    <tr>\n",
              "      <th>4</th>\n",
              "      <td>great stay great stay, went seahawk game aweso...</td>\n",
              "      <td>5</td>\n",
              "      <td>great great stay awesome downfall crime room s...</td>\n",
              "      <td>816</td>\n",
              "    </tr>\n",
              "  </tbody>\n",
              "</table>\n",
              "</div>\n",
              "      <button class=\"colab-df-convert\" onclick=\"convertToInteractive('df-0cc14c82-409a-4250-9e6b-7cceea2bdfbd')\"\n",
              "              title=\"Convert this dataframe to an interactive table.\"\n",
              "              style=\"display:none;\">\n",
              "        \n",
              "  <svg xmlns=\"http://www.w3.org/2000/svg\" height=\"24px\"viewBox=\"0 0 24 24\"\n",
              "       width=\"24px\">\n",
              "    <path d=\"M0 0h24v24H0V0z\" fill=\"none\"/>\n",
              "    <path d=\"M18.56 5.44l.94 2.06.94-2.06 2.06-.94-2.06-.94-.94-2.06-.94 2.06-2.06.94zm-11 1L8.5 8.5l.94-2.06 2.06-.94-2.06-.94L8.5 2.5l-.94 2.06-2.06.94zm10 10l.94 2.06.94-2.06 2.06-.94-2.06-.94-.94-2.06-.94 2.06-2.06.94z\"/><path d=\"M17.41 7.96l-1.37-1.37c-.4-.4-.92-.59-1.43-.59-.52 0-1.04.2-1.43.59L10.3 9.45l-7.72 7.72c-.78.78-.78 2.05 0 2.83L4 21.41c.39.39.9.59 1.41.59.51 0 1.02-.2 1.41-.59l7.78-7.78 2.81-2.81c.8-.78.8-2.07 0-2.86zM5.41 20L4 18.59l7.72-7.72 1.47 1.35L5.41 20z\"/>\n",
              "  </svg>\n",
              "      </button>\n",
              "      \n",
              "  <style>\n",
              "    .colab-df-container {\n",
              "      display:flex;\n",
              "      flex-wrap:wrap;\n",
              "      gap: 12px;\n",
              "    }\n",
              "\n",
              "    .colab-df-convert {\n",
              "      background-color: #E8F0FE;\n",
              "      border: none;\n",
              "      border-radius: 50%;\n",
              "      cursor: pointer;\n",
              "      display: none;\n",
              "      fill: #1967D2;\n",
              "      height: 32px;\n",
              "      padding: 0 0 0 0;\n",
              "      width: 32px;\n",
              "    }\n",
              "\n",
              "    .colab-df-convert:hover {\n",
              "      background-color: #E2EBFA;\n",
              "      box-shadow: 0px 1px 2px rgba(60, 64, 67, 0.3), 0px 1px 3px 1px rgba(60, 64, 67, 0.15);\n",
              "      fill: #174EA6;\n",
              "    }\n",
              "\n",
              "    [theme=dark] .colab-df-convert {\n",
              "      background-color: #3B4455;\n",
              "      fill: #D2E3FC;\n",
              "    }\n",
              "\n",
              "    [theme=dark] .colab-df-convert:hover {\n",
              "      background-color: #434B5C;\n",
              "      box-shadow: 0px 1px 3px 1px rgba(0, 0, 0, 0.15);\n",
              "      filter: drop-shadow(0px 1px 2px rgba(0, 0, 0, 0.3));\n",
              "      fill: #FFFFFF;\n",
              "    }\n",
              "  </style>\n",
              "\n",
              "      <script>\n",
              "        const buttonEl =\n",
              "          document.querySelector('#df-0cc14c82-409a-4250-9e6b-7cceea2bdfbd button.colab-df-convert');\n",
              "        buttonEl.style.display =\n",
              "          google.colab.kernel.accessAllowed ? 'block' : 'none';\n",
              "\n",
              "        async function convertToInteractive(key) {\n",
              "          const element = document.querySelector('#df-0cc14c82-409a-4250-9e6b-7cceea2bdfbd');\n",
              "          const dataTable =\n",
              "            await google.colab.kernel.invokeFunction('convertToInteractive',\n",
              "                                                     [key], {});\n",
              "          if (!dataTable) return;\n",
              "\n",
              "          const docLinkHtml = 'Like what you see? Visit the ' +\n",
              "            '<a target=\"_blank\" href=https://colab.research.google.com/notebooks/data_table.ipynb>data table notebook</a>'\n",
              "            + ' to learn more about interactive tables.';\n",
              "          element.innerHTML = '';\n",
              "          dataTable['output_type'] = 'display_data';\n",
              "          await google.colab.output.renderOutput(dataTable, element);\n",
              "          const docLink = document.createElement('div');\n",
              "          docLink.innerHTML = docLinkHtml;\n",
              "          element.appendChild(docLink);\n",
              "        }\n",
              "      </script>\n",
              "    </div>\n",
              "  </div>\n",
              "  "
            ]
          },
          "metadata": {},
          "execution_count": 28
        }
      ],
      "source": [
        "df.head()"
      ]
    },
    {
      "cell_type": "code",
      "execution_count": 29,
      "metadata": {
        "id": "cb1p0WgFPAFC"
      },
      "outputs": [],
      "source": [
        "# Create the term dictionary of our corpus, where every unique term is assigned an index\n",
        "dictionary = corpora.Dictionary(reviews_2)"
      ]
    },
    {
      "cell_type": "code",
      "execution_count": 30,
      "metadata": {
        "id": "8ZmBP6-2WyH-"
      },
      "outputs": [],
      "source": [
        "# Convert list of reviews (reviews_2) into a Document Term Matrix using the dictionary prepared above.\n",
        "doc_term_matrix = [dictionary.doc2bow(rev) for rev in reviews_2]"
      ]
    },
    {
      "cell_type": "code",
      "execution_count": 31,
      "metadata": {
        "id": "HHXDVwI9WzO1"
      },
      "outputs": [],
      "source": [
        "# Creating the object for LDA model using gensim library\n",
        "LDA = gensim.models.ldamodel.LdaModel"
      ]
    },
    {
      "cell_type": "code",
      "execution_count": 32,
      "metadata": {
        "id": "z1J1YqwVW1kw"
      },
      "outputs": [],
      "source": [
        "# Build LDA model\n",
        "lda_model = LDA(corpus=doc_term_matrix,\n",
        "                id2word=dictionary,\n",
        "                num_topics=7, \n",
        "                random_state=100,\n",
        "                chunksize=1000,\n",
        "                passes=50)"
      ]
    },
    {
      "cell_type": "code",
      "execution_count": null,
      "metadata": {
        "colab": {
          "base_uri": "https://localhost:8080/"
        },
        "id": "akktPKrWW4tE",
        "outputId": "9acafd80-6283-4622-c5b8-fd0cf2e8f29f"
      },
      "outputs": [
        {
          "data": {
            "text/plain": [
              "[(0,\n",
              "  '0.032*\"_\" + 0.020*\"royal\" + 0.013*\"crimen__ç_é\" + 0.007*\"don__ç_é\" + 0.006*\"waitress\" + 0.005*\"it__ç_é\" + 0.004*\"soda\" + 0.004*\"cent\" + 0.004*\"you__ç_éèe\" + 0.004*\"royalty\"'),\n",
              " (1,\n",
              "  '0.009*\"hyatt\" + 0.008*\"orchard\" + 0.007*\"residence\" + 0.007*\"glass\" + 0.007*\"tidy\" + 0.006*\"blind\" + 0.006*\"marble\" + 0.005*\"century\" + 0.004*\"wing\" + 0.004*\"disco\"'),\n",
              " (2,\n",
              "  '0.098*\"room\" + 0.034*\"space\" + 0.027*\"hotel\" + 0.023*\"police\" + 0.021*\"crime\" + 0.014*\"night\" + 0.011*\"bed\" + 0.011*\"day\" + 0.009*\"desk\" + 0.009*\"floor\"'),\n",
              " (3,\n",
              "  '0.036*\"service\" + 0.029*\"hotel\" + 0.019*\"staff\" + 0.012*\"guest\" + 0.010*\"experience\" + 0.009*\"club\" + 0.008*\"year\" + 0.008*\"food\" + 0.007*\"property\" + 0.007*\"restaurant\"'),\n",
              " (4,\n",
              "  '0.024*\"car\" + 0.018*\"parking\" + 0.017*\"bus\" + 0.017*\"airport\" + 0.015*\"free\" + 0.013*\"taxi\" + 0.011*\"shuttle\" + 0.010*\"minute\" + 0.009*\"park\" + 0.008*\"area\"'),\n",
              " (5,\n",
              "  '0.073*\"hotel\" + 0.052*\"room\" + 0.027*\"great\" + 0.023*\"good\" + 0.020*\"location\" + 0.018*\"staff\" + 0.015*\"breakfast\" + 0.014*\"nice\" + 0.013*\"night\" + 0.011*\"clean\"'),\n",
              " (6,\n",
              "  '0.026*\"room\" + 0.024*\"beach\" + 0.023*\"resort\" + 0.022*\"good\" + 0.019*\"pool\" + 0.019*\"food\" + 0.018*\"great\" + 0.016*\"day\" + 0.015*\"time\" + 0.015*\"space\"')]"
            ]
          },
          "execution_count": 34,
          "metadata": {},
          "output_type": "execute_result"
        }
      ],
      "source": [
        "lda_model.print_topics()"
      ]
    },
    {
      "cell_type": "code",
      "execution_count": 33,
      "metadata": {
        "colab": {
          "base_uri": "https://localhost:8080/",
          "height": 916
        },
        "id": "2tlCYE68aX2X",
        "outputId": "985e81c3-dcaa-4df1-8033-a837ee1814c7"
      },
      "outputs": [
        {
          "output_type": "stream",
          "name": "stderr",
          "text": [
            "/usr/local/lib/python3.7/dist-packages/pyLDAvis/_prepare.py:247: FutureWarning: In a future version of pandas all arguments of DataFrame.drop except for the argument 'labels' will be keyword-only\n",
            "  by='saliency', ascending=False).head(R).drop('saliency', 1)\n"
          ]
        },
        {
          "output_type": "execute_result",
          "data": {
            "text/plain": [
              "PreparedData(topic_coordinates=              x         y  topics  cluster       Freq\n",
              "topic                                                \n",
              "5      0.232897 -0.001894       1        1  37.013661\n",
              "6      0.197548  0.029810       2        1  24.577916\n",
              "2      0.198171  0.056525       3        1  20.247473\n",
              "3      0.099127  0.097038       4        1  10.441644\n",
              "4     -0.076448 -0.342725       5        1   4.900228\n",
              "0     -0.338564  0.079065       6        1   1.422900\n",
              "1     -0.312730  0.082182       7        1   1.396178, topic_info=         Term          Freq         Total Category  logprob  loglift\n",
              "47       room  62897.000000  62897.000000  Default  30.0000  30.0000\n",
              "26      hotel  49575.000000  49575.000000  Default  29.0000  29.0000\n",
              "195   service   9994.000000   9994.000000  Default  28.0000  28.0000\n",
              "3549    beach   8262.000000   8262.000000  Default  27.0000  27.0000\n",
              "3514   resort   7736.000000   7736.000000  Default  26.0000  26.0000\n",
              "...       ...           ...           ...      ...      ...      ...\n",
              "1051    black     65.997348    291.245512   Topic7  -5.6812   2.7869\n",
              "871       ice     78.249606    591.716175   Topic7  -5.5109   2.2483\n",
              "1177    style     73.562689    966.201281   Topic7  -5.5727   1.6962\n",
              "6        bath     64.753568   1221.858606   Topic7  -5.7002   1.3339\n",
              "248       tea     56.429595    995.083373   Topic7  -5.8378   1.4016\n",
              "\n",
              "[472 rows x 6 columns], token_table=      Topic      Freq        Term\n",
              "term                             \n",
              "0         1  0.198873           -\n",
              "0         2  0.066449           -\n",
              "0         3  0.501217           -\n",
              "0         4  0.189380           -\n",
              "0         5  0.031326           -\n",
              "...     ...       ...         ...\n",
              "587       1  0.245905        year\n",
              "587       2  0.280233        year\n",
              "587       3  0.080538        year\n",
              "587       4  0.393118        year\n",
              "5044      6  0.987958  you__ç_éèe\n",
              "\n",
              "[778 rows x 3 columns], R=30, lambda_step=0.01, plot_opts={'xlab': 'PC1', 'ylab': 'PC2'}, topic_order=[6, 7, 3, 4, 5, 1, 2])"
            ],
            "text/html": [
              "\n",
              "<link rel=\"stylesheet\" type=\"text/css\" href=\"https://cdn.jsdelivr.net/gh/bmabey/pyLDAvis@3.3.1/pyLDAvis/js/ldavis.v1.0.0.css\">\n",
              "\n",
              "\n",
              "<div id=\"ldavis_el771399820496898081250690845\"></div>\n",
              "<script type=\"text/javascript\">\n",
              "\n",
              "var ldavis_el771399820496898081250690845_data = {\"mdsDat\": {\"x\": [0.2328967889000587, 0.19754760456358686, 0.19817066069884087, 0.09912666454565387, -0.076447921265689, -0.3385636439761351, -0.3127301534663162], \"y\": [-0.001893942483550554, 0.02981030721390181, 0.056524656842904725, 0.09703781735294605, -0.34272495249566143, 0.07906456779145088, 0.08218154577800854], \"topics\": [1, 2, 3, 4, 5, 6, 7], \"cluster\": [1, 1, 1, 1, 1, 1, 1], \"Freq\": [37.01366081126777, 24.577916054170032, 20.247473016709435, 10.441643580640338, 4.900228485491531, 1.4228996933192848, 1.3961783584016245]}, \"tinfo\": {\"Term\": [\"room\", \"hotel\", \"service\", \"beach\", \"resort\", \"location\", \"great\", \"space\", \"food\", \"crime\", \"pool\", \"free\", \"staff\", \"police\", \"good\", \"bus\", \"car\", \"airport\", \"minute\", \"guest\", \"city\", \"bed\", \"parking\", \"taxi\", \"floor\", \"people\", \"area\", \"bathroom\", \"helpful\", \"walk\", \"location\", \"modern\", \"central\", \"florence\", \"euro\", \"square\", \"attraction\", \"barcelona\", \"rambla\", \"boutique\", \"museum\", \"continental\", \"district\", \"charming\", \"canal\", \"gem\", \"stylish\", \"sightseeing\", \"trendy\", \"silla\", \"doorman\", \"rooftop\", \"eiffel\", \"contemporary\", \"opera\", \"shinjuku\", \"euros\", \"triple\", \"duomo\", \"tapas\", \"centre\", \"kowloon\", \"station\", \"comfortable\", \"city\", \"value\", \"helpful\", \"train\", \"subway\", \"breakfast\", \"quiet\", \"hotel\", \"distance\", \"cafe\", \"spacious\", \"lovely\", \"excellent\", \"friendly\", \"great\", \"street\", \"clean\", \"good\", \"staff\", \"fantastic\", \"view\", \"nice\", \"room\", \"bathroom\", \"small\", \"night\", \"large\", \"price\", \"area\", \"walk\", \"bed\", \"restaurant\", \"drug\", \"place\", \"space\", \"floor\", \"little\", \"time\", \"day\", \"beach\", \"resort\", \"ocean\", \"entertainment\", \"activity\", \"sick\", \"inclusive\", \"island\", \"carte\", \"swim\", \"excursion\", \"dominican\", \"tropical\", \"wave\", \"palm\", \"chicken\", \"grill\", \"vendor\", \"bali\", \"seafood\", \"bavaro\", \"rum\", \"principe\", \"caribbean\", \"pasta\", \"dance\", \"rice\", \"animation\", \"lounger\", \"specialty\", \"casino\", \"vacation\", \"golf\", \"spanish\", \"pool\", \"bartender\", \"fun\", \"kid\", \"food\", \"drink\", \"tip\", \"lunch\", \"people\", \"water\", \"beautiful\", \"country\", \"buffet\", \"ground\", \"time\", \"bar\", \"day\", \"good\", \"restaurant\", \"drug\", \"crime\", \"great\", \"lot\", \"week\", \"space\", \"trip\", \"nice\", \"room\", \"little\", \"place\", \"police\", \"thing\", \"night\", \"staff\", \"phone\", \"dirty\", \"smoking\", \"paper\", \"smoke\", \"shampoo\", \"lock\", \"alarm\", \"cigarette\", \"clock\", \"fix\", \"damp\", \"mold\", \"confirmation\", \"blanket\", \"policy\", \"remote\", \"mate\", \"disgusting\", \"plug\", \"switch\", \"stain\", \"filthy\", \"stage\", \"ring\", \"weird\", \"cell\", \"unhelpful\", \"leak\", \"ear\", \"card\", \"credit\", \"noon\", \"shade\", \"smell\", \"sheet\", \"toilet\", \"key\", \"loud\", \"desk\", \"horrible\", \"call\", \"police\", \"room\", \"door\", \"space\", \"bad\", \"non\", \"rude\", \"tiny\", \"wall\", \"work\", \"crime\", \"check\", \"charge\", \"sleep\", \"bag\", \"bed\", \"floor\", \"luggage\", \"shower\", \"problem\", \"night\", \"air\", \"hotel\", \"bathroom\", \"day\", \"hour\", \"morning\", \"thing\", \"-\", \"drug\", \"time\", \"towel\", \"small\", \"people\", \"water\", \"place\", \"nice\", \"good\", \"wedding\", \"treatment\", \"secret\", \"stomach\", \"ubud\", \"vip\", \"oriental\", \"fry\", \"position\", \"ill\", \"memory\", \"gold\", \"presentation\", \"law\", \"balinese\", \"raffle\", \"omelet\", \"client\", \"souvenir\", \"oasis\", \"butler\", \"breathtaking\", \"brother\", \"starwood\", \"rule\", \"active\", \"appointment\", \"training\", \"greeting\", \"paradise\", \"princess\", \"sand\", \"anniversary\", \"property\", \"champagne\", \"spa\", \"season\", \"service\", \"dessert\", \"club\", \"member\", \"treat\", \"guest\", \"burger\", \"moment\", \"stunning\", \"experience\", \"birthday\", \"special\", \"class\", \"quality\", \"concierge\", \"year\", \"customer\", \"lounge\", \"world\", \"suite\", \"staff\", \"level\", \"wife\", \"hotel\", \"star\", \"high\", \"arrival\", \"wine\", \"food\", \"evening\", \"restaurant\", \"manager\", \"time\", \"dinner\", \"day\", \"reservation\", \"pool\", \"wonderful\", \"husband\", \"car\", \"parking\", \"valet\", \"waikiki\", \"garage\", \"ferry\", \"seattle\", \"terminal\", \"doubt\", \"rental\", \"wharf\", \"topless\", \"passport\", \"foreign\", \"cook\", \"benefit\", \"fisherman\", \"darling\", \"walkway\", \"church\", \"pier\", \"peninsula\", \"song\", \"informative\", \"cathedral\", \"needle\", \"hostel\", \"instruction\", \"t\", \"hollywood\", \"shuttle\", \"driver\", \"bike\", \"cable\", \"downtown\", \"taxi\", \"airport\", \"park\", \"bus\", \"cab\", \"cruise\", \"center\", \"ride\", \"free\", \"ticket\", \"mall\", \"chinese\", \"tour\", \"block\", \"store\", \"minute\", \"town\", \"local\", \"area\", \"access\", \"walk\", \"market\", \"way\", \"place\", \"lot\", \"hour\", \"view\", \"street\", \"right\", \"_\", \"royal\", \"crimen__\\u00e7_\\u00e9\", \"don__\\u00e7_\\u00e9\", \"waitress\", \"it__\\u00e7_\\u00e9\", \"cent\", \"you__\\u00e7_\\u00e9\\u00e8e\", \"royalty\", \"runner\", \"unhappy\", \"i__\\u00e7_\\u00e9\\u009de\", \"master\", \"laugh\", \"skill\", \"truth\", \"elite\", \"jacuzzi\", \"useless\", \"appreciated\", \"practical\", \"temp\", \"hell\", \"firework\", \"unlucky\", \"spoil\", \"jury\", \"escalator\", \"plaza\", \"eastern\", \"soda\", \"hole\", \"medical\", \"difficulty\", \"sand\", \"supply\", \"dog\", \"language\", \"hyatt\", \"orchard\", \"residence\", \"tidy\", \"blind\", \"century\", \"disco\", \"venice\", \"electronic\", \"mandarin\", \"collection\", \"rack\", \"midtown\", \"restraunt\", \"bucket\", \"inner\", \"delighted\", \"metal\", \"jam\", \"multi\", \"swift\", \"mouse\", \"rodeo\", \"granite\", \"focus\", \"posh\", \"competitive\", \"s\", \"shaving\", \"soundproof\", \"cushion\", \"ultra\", \"bahn\", \"wing\", \"marble\", \"architecture\", \"glass\", \"battery\", \"black\", \"ice\", \"style\", \"bath\", \"tea\"], \"Freq\": [62897.0, 49575.0, 9994.0, 8262.0, 7736.0, 10284.0, 19950.0, 19434.0, 9118.0, 12969.0, 7901.0, 3998.0, 15094.0, 11224.0, 20686.0, 2516.0, 1600.0, 2031.0, 5183.0, 2827.0, 3793.0, 6965.0, 1243.0, 1472.0, 5324.0, 6617.0, 6683.0, 5721.0, 5082.0, 3468.0, 10283.875859650492, 2450.1699229842193, 1387.9586578520734, 995.983863805396, 802.6007647872483, 727.8998138392504, 706.3875984008804, 671.2759798378991, 503.34812023336013, 485.62231542571766, 435.10520702265944, 429.6848260394407, 408.3471166393378, 393.4837246394652, 351.6048144853387, 324.45081464785864, 322.8296589291259, 307.7471337048904, 214.53656445316474, 201.42411741137292, 176.6316992466736, 167.01244967716522, 161.38089607540314, 157.7198687202022, 154.23052459932862, 150.29111500797032, 139.64552977108394, 122.70512908714375, 121.93948459101999, 121.88850982992739, 941.6560298255046, 122.80114175977305, 2472.126020608254, 3950.8453824726685, 3555.3218608740876, 2261.0622517745587, 4636.8762331811995, 1255.9962477926845, 558.3693782413815, 7718.022711605003, 2321.686163248768, 37654.70623038115, 1433.3007153116746, 698.5768849640127, 1573.019891888193, 2413.426036712393, 4687.73330276562, 4976.257440349957, 13840.652315875395, 2177.00064399469, 5615.05683682852, 12033.530154105534, 9080.285310515821, 2243.8541999900735, 3380.3761223529973, 7001.672616649724, 26495.314519083706, 3760.0974381419314, 4178.274125647497, 6901.563383407623, 2873.6911192824537, 3016.175269656672, 3932.9579460023992, 2468.630642557265, 3598.004807151466, 4291.592528038872, 4752.102552326459, 3797.6927657206334, 4976.050494469588, 2849.529829298091, 2895.9901353110254, 3062.2235956491027, 3091.8775542942954, 8261.240386875581, 7735.837919732609, 1363.1585356594064, 1189.404842153226, 1046.8641190509647, 822.5676255023772, 803.3699762178553, 768.5466414638709, 658.4409619900989, 627.6123142960294, 576.026669972395, 522.0770522174374, 471.5645203653293, 389.420856911477, 346.2703185375516, 339.42641492215154, 333.6885101868725, 329.59137541863953, 321.39202812547865, 318.107929478052, 312.061313003709, 302.51146094457255, 289.6576355809455, 274.2012020563193, 259.0460421505983, 252.6518175275086, 216.05850770057594, 203.51158909218765, 188.5468053925535, 183.14153339076853, 616.3209305354312, 2275.328969860584, 345.6997849689038, 1003.7167542749736, 6508.326417742469, 438.2988271474981, 1597.9467059591102, 1523.5056820517188, 6462.011564208151, 2114.4291413880046, 1232.590686804171, 1046.74542648822, 4088.805184414588, 3201.9372118243964, 2771.8601058354966, 695.4057612902344, 1894.7138157975994, 940.8017620254514, 5188.897364060162, 3255.9289987619068, 5356.288787107454, 7466.526399023665, 4029.143447407568, 4535.217751050968, 4792.228088806577, 6109.596207990317, 2362.1357594392734, 1838.468139607114, 4947.119344310052, 2251.392583480439, 3622.0717528447713, 8763.956071825058, 2334.4342164698155, 2418.254491712385, 2658.0805900529726, 1900.2814173337265, 2197.0469403732486, 2203.286868631768, 905.552407590684, 662.8650256382778, 496.9738635963935, 298.90977129467797, 264.0395948731366, 196.18723917827438, 189.1165515382914, 175.5250734224034, 160.42639046541976, 160.5238925121334, 159.6383347072658, 148.81314014999847, 146.43331895216616, 145.85768595373688, 144.72068496220444, 141.00565599780433, 137.90645695405829, 134.29504944587308, 132.51435847173803, 129.77804286245086, 129.3200430522722, 126.03012922082412, 115.86485047695989, 113.61715623567632, 107.00425598311226, 105.63809168436764, 104.95060176273104, 102.09325420103767, 102.20342808237949, 100.46469060329008, 1152.1545122418438, 408.5406673822103, 164.3387928540287, 344.22189893451883, 619.1724744794269, 498.0700630778465, 677.0906837332176, 791.4108612623089, 448.1038834941365, 2548.6294472520076, 419.70452917932795, 255.73077666777993, 6352.066411258984, 27634.577476686467, 2112.9171637453483, 9510.362251090617, 2243.305652428505, 538.374994105882, 467.5131471327268, 638.2290836564497, 814.6304990039911, 1135.7587432335567, 5875.463988361459, 1662.7942509406657, 812.7092168433429, 700.7178463693255, 694.4086289621063, 3107.2741152146386, 2474.332985697501, 831.1906505478805, 1480.0989126246052, 1955.2210430106697, 3909.219315255515, 987.9835497082098, 7712.727653309758, 1961.156592443321, 3060.1554790652503, 1437.941164925402, 1300.7527949404869, 1586.8263817517964, 1055.760789447191, 2364.106619593824, 2332.0722216537574, 1093.4644567204873, 1650.5209214097185, 1633.6277563394299, 1373.0622866809535, 1313.4965918635874, 1319.1538348005747, 1153.2034231489395, 869.8271270360724, 308.46424158284395, 266.7896978052333, 247.61081044680662, 242.72723785116946, 213.49749634338477, 199.3659790953639, 182.62135302288792, 182.4299160468351, 164.81407393068685, 139.36158502065132, 138.52709238316083, 134.39977926691597, 123.12036791680784, 122.33019953735231, 118.8831542352984, 117.22211530543667, 111.99158320403326, 106.07738734243355, 102.54779442978834, 101.74956173190326, 101.03023632531841, 99.2440529931607, 98.43891885661961, 96.42385887570012, 84.63306693184516, 84.10380495491393, 83.44335665686332, 79.94235541865014, 78.88214613178252, 284.6219366792404, 776.1244995237716, 325.58088806287253, 1008.5708858303728, 375.2679768401159, 982.2200301619524, 454.7605168796967, 5282.817333248028, 210.72385955019092, 1266.8994704033278, 507.49765391630547, 228.14457381100516, 1701.5800197800747, 214.3514208704244, 327.1445737316929, 223.0858108494847, 1450.7361339095455, 381.5564935888202, 715.4162429727962, 426.6797005881697, 814.8174532686853, 592.0353731333853, 1191.363384419932, 433.6133291045779, 596.4144750005968, 537.291678620868, 769.0310003184967, 2753.8681066969366, 458.4033641702867, 610.4568718393062, 4128.931035929789, 774.0629327785756, 748.7166029945332, 522.838532422148, 506.5647546846454, 1163.3282069461839, 637.5154999565614, 989.6611798595256, 502.38563443182284, 971.5015144892818, 599.2902598272316, 810.4234530577086, 554.6059809557382, 643.3359660230808, 561.0743564427501, 536.7252381978436, 1599.535279197678, 1242.9522096836376, 398.4954368042045, 249.36391537089668, 239.02905936949807, 210.26536081805546, 201.4702859393323, 161.91859683845726, 161.3405758400734, 153.88152497611452, 139.88701351755546, 137.87748850259445, 135.44241626948062, 124.04393740825793, 120.30544293038254, 117.10411837324327, 115.66209510530668, 112.72275527149826, 110.34639311570857, 103.98769549000475, 96.36307319149059, 97.60417875846188, 97.19200601703749, 92.09694730200651, 87.08616914523581, 85.23488372572466, 83.01968757365773, 75.89374897248493, 75.76232160418432, 72.91539299810802, 741.5205358818909, 496.75397627091587, 182.34600223625614, 289.73830483861843, 468.6760538159932, 909.1951879721178, 1150.882027153511, 587.011114419368, 1172.1333825735812, 325.5997772889098, 231.26445984499944, 459.3735555611676, 477.7684201383995, 1047.072803022097, 287.5513445717795, 266.3777841564998, 247.99054405920063, 527.7073716763932, 438.7299755933265, 326.98126345165457, 656.2069080459898, 325.97543320061504, 358.58432149372163, 576.1553102901191, 326.59598993870645, 379.1947144099055, 288.1457376380686, 360.7978567113634, 399.63689421487686, 344.1394437111707, 326.5330326147808, 328.7712762092999, 309.8866099792956, 308.54985831706887, 633.9554435075025, 392.60918479752, 256.34344025831865, 132.12563611617944, 110.83192024970624, 107.70873229678953, 81.66838623888374, 75.12382040920974, 74.78811272788785, 68.07727084277509, 66.185370860166, 60.271547065210115, 60.20869287894978, 57.288798073482354, 56.32656037796273, 53.94312173456171, 51.623800424251, 50.33588213660901, 48.8758038259311, 47.34021230112575, 46.72331435566435, 45.51153396567299, 45.010932800533524, 44.84529061514036, 42.002764701325155, 41.89938417149752, 41.424496082555464, 39.669360452175354, 39.24937561435649, 38.943092364281576, 88.13288693258113, 72.78122504439882, 52.237919446686426, 48.8752434480647, 63.60515690695845, 50.607330093743386, 49.565808116651155, 47.2129468130583, 178.47767910821466, 150.51242526070075, 139.62546426675766, 126.2697568257623, 117.6137077789446, 93.58169662137176, 82.88284888037444, 77.93526931560784, 74.12311174363221, 73.14494806752589, 62.33156388258993, 58.96308911668408, 56.446428730486026, 56.61961028553038, 54.01476138957168, 53.511635733027475, 50.460007720567894, 50.08963581038235, 49.93400452144971, 49.53266499995096, 45.17736860693709, 43.57610738583566, 41.402479435186876, 39.01721618772046, 39.20362128687672, 38.066639871364984, 36.89571847666622, 36.748481479113416, 35.864146825874776, 35.815863312558186, 35.8533863584013, 77.92963556300393, 79.20542362867197, 86.51275230211237, 110.36865686028892, 56.06123329044906, 139.23010103002113, 43.74096450803247, 65.99734754791167, 78.2496056688938, 73.56268856960516, 64.75356821103804, 56.42959507770553], \"Total\": [62897.0, 49575.0, 9994.0, 8262.0, 7736.0, 10284.0, 19950.0, 19434.0, 9118.0, 12969.0, 7901.0, 3998.0, 15094.0, 11224.0, 20686.0, 2516.0, 1600.0, 2031.0, 5183.0, 2827.0, 3793.0, 6965.0, 1243.0, 1472.0, 5324.0, 6617.0, 6683.0, 5721.0, 5082.0, 3468.0, 10284.647107635088, 2450.941032140619, 1388.7295504942836, 996.753851266333, 803.3715987087206, 728.6710219094648, 707.1588077049934, 672.0472557179584, 504.1181235575936, 486.3945575016958, 435.87661290494174, 430.4559311804491, 409.117646108931, 394.2559418343857, 352.37481778808115, 325.22223694581385, 323.60100077714867, 308.5176082105775, 215.3087031626704, 202.20408890840204, 177.40296450305178, 167.78388727852285, 162.15027139959813, 158.49147327702488, 155.00145089282762, 151.06551977919182, 140.41676149714738, 123.47597726246521, 122.70882229139696, 122.6597238745405, 959.7344437119016, 123.57908984084457, 2573.377548200029, 4204.911898473763, 3793.4888948020707, 2395.614072087844, 5082.128920461069, 1360.9046500795398, 585.9644911106224, 9061.676154859979, 2603.68693664972, 49575.949938506055, 1597.6557193430788, 748.4448737308481, 1808.6462594750164, 2898.7463744484353, 6014.391029805594, 6462.119230084697, 19950.891981336765, 2633.9259922873734, 7863.049596276104, 20686.98263437635, 15094.314454649437, 2964.950289224382, 4877.478340681451, 11943.40478413837, 62897.94208153458, 5721.888938609336, 6631.765382124858, 13068.348471128213, 4167.190348116535, 4503.200621284858, 6683.264449876808, 3468.5444719122333, 6965.269471890914, 9413.362338028584, 11678.642075266984, 7932.681966808996, 19434.038581507804, 5324.497864856449, 5758.826553692384, 11555.069452934058, 12519.799441473462, 8262.021077948155, 7736.618279934039, 1363.939616821002, 1190.18692606459, 1047.6457185305069, 823.3481400585797, 804.1510047070393, 769.3286801271342, 659.2217776899431, 628.3928825127243, 576.8070682530723, 522.8570080809513, 472.3451288716138, 390.2018508492682, 347.05172087892356, 340.2075334404153, 334.4693629333073, 330.3724841834535, 322.179534840706, 318.890019611271, 312.8410897823524, 303.29181702162856, 290.4397280342074, 274.98191049195424, 259.8272947170633, 253.43341649045584, 216.8433247386491, 204.29173818794945, 189.3290686347548, 183.9229689365693, 634.8439350583118, 2461.1895094744905, 352.81597577712677, 1087.9377763168977, 7901.798923071855, 456.090812594821, 1836.4054058154197, 1744.1975337080291, 9118.778154534244, 2829.077732549539, 1543.8442335475381, 1301.9612013321898, 6617.2559328299885, 5010.993525794376, 4347.480695805983, 814.946724091899, 2808.606811002488, 1197.9815043719493, 11555.069452934058, 6311.69448419885, 12519.799441473462, 20686.98263437635, 9413.362338028584, 11678.642075266984, 12969.240656890735, 19950.891981336765, 4785.662650982925, 3327.592151363579, 19434.038581507804, 4957.733041811687, 11943.40478413837, 62897.94208153458, 5758.826553692384, 7932.681966808996, 11224.795690714545, 4529.142440820277, 13068.348471128213, 15094.314454649437, 906.3252064361151, 663.6373768045399, 497.7461218888595, 299.6829792669335, 264.81180514926854, 196.96039413557511, 189.88987147248693, 176.29796173382894, 161.19910800284103, 161.29736556663084, 160.4112153446629, 149.58723808967252, 147.20500644407727, 146.63004440488112, 145.492795970635, 141.77836173583032, 138.6795699438728, 135.07508330061145, 133.28718631811412, 130.55126429348223, 130.09289337014792, 126.80192510333697, 116.63634282128771, 114.39341631243025, 107.77780113371328, 106.41134426446922, 105.72284435742404, 102.86475381411236, 102.97684229902468, 101.23787521407209, 1250.477710212979, 439.4598542115466, 169.30698115766802, 372.45913078452736, 705.2159045896523, 562.6319656115967, 794.1983133407791, 956.124293151487, 519.6079468107596, 3734.9380542830827, 490.5485703838235, 281.16724203827897, 11224.795690714545, 62897.94208153458, 3231.2220417751855, 19434.038581507804, 3597.5010972368495, 674.7366821932842, 573.3161744257343, 828.6890414447156, 1107.4786137416324, 1699.5644610301888, 12969.240656890735, 2798.950909080902, 1193.8527366576043, 997.8133798732188, 988.1198987597047, 6965.269471890914, 5324.497864856449, 1254.2648585694806, 2792.1025708019333, 4220.408361591595, 13068.348471128213, 1801.68956399299, 49575.949938506055, 5721.888938609336, 12519.799441473462, 3658.8353881845755, 3062.4579281022934, 4529.142440820277, 2106.871793707665, 11678.642075266984, 11555.069452934058, 2353.592433330682, 6631.765382124858, 6617.2559328299885, 5010.993525794376, 7932.681966808996, 11943.40478413837, 20686.98263437635, 870.6052326478548, 309.24204719498675, 267.56807875486527, 248.39029701389484, 243.50660420690164, 214.27578605855945, 200.14449018569832, 183.4018888457608, 183.20992218270226, 165.59277029898735, 140.139709131439, 139.3054569919936, 135.177790497128, 123.89794256691246, 123.1102277489518, 119.66786693951494, 118.00214855994643, 112.76904220349603, 106.85814435230665, 103.3258886787773, 102.52653602233235, 101.80869379023633, 100.02203329716146, 99.21632757637377, 97.20280006193677, 85.41256987178569, 84.88292304779652, 84.22118853857728, 80.71979154935633, 79.66039826401332, 295.390992906449, 840.3918315520168, 364.37654669215107, 1287.139187487664, 439.6287158997539, 1311.2688231064637, 560.691651872026, 9994.621573143571, 237.78121976004397, 1943.2849336194365, 670.4525306322572, 262.21444560008086, 2827.8535683983887, 250.21850718272603, 427.46651673717975, 266.2214809739317, 3081.4233177978435, 539.1828811769686, 1265.16294056474, 640.6368301702823, 1611.7202719169177, 1046.5067433093343, 3029.6232702843554, 695.5769477752356, 1128.5620214454887, 981.8529498608466, 1820.0125059259838, 15094.314454649437, 826.3782091384551, 1381.3300019354983, 49575.949938506055, 2211.448841666383, 2204.580586866356, 1126.7696134586006, 1073.673924579908, 9118.778154534244, 2042.4568746731427, 9413.362338028584, 1122.465419365924, 11555.069452934058, 2404.047534536663, 12519.799441473462, 2116.1802758807735, 7901.798923071855, 3534.029368680779, 2427.2507882291093, 1600.305263116159, 1243.721929969327, 399.2653926049909, 250.13417712398436, 239.79878904018852, 211.03518414604042, 202.23974259643853, 162.6888263841281, 162.11500755718865, 154.65127724540645, 140.65616552835223, 138.66184632112999, 136.21763513230783, 124.82335358018553, 121.083223227111, 117.87930394105558, 116.43123136284855, 113.4938447459568, 111.11953966959638, 104.75909142223776, 97.13242124744833, 98.38507996899126, 97.9738817163173, 92.86845943385067, 87.85811996875432, 86.00472088210412, 83.7910274510925, 76.6685273524041, 76.53958881697106, 73.68575503406174, 786.881807805901, 589.1511329238185, 200.78129762886718, 341.0203253168893, 615.0322207812702, 1472.5617726967212, 2031.3538285571992, 982.4214102858275, 2516.306733772439, 528.9881043555539, 337.3665715136539, 954.6036165602786, 1024.8221556424498, 3998.0257666144917, 507.4945145967069, 479.8786818866302, 423.70798125958447, 1680.3657302009417, 1515.9699964859492, 930.3915675274377, 5183.749545037797, 1003.5327038721578, 1532.9853569718284, 6683.264449876808, 1640.6394888741365, 3468.5444719122333, 1044.768565301704, 3895.551824804374, 7932.681966808996, 4785.662650982925, 3658.8353881845755, 4877.478340681451, 2633.9259922873734, 2485.668823157951, 634.7461792247732, 393.4005937667217, 257.1345141672498, 132.91616230316515, 111.6246437135592, 108.49906513268505, 82.46213278922755, 75.91414641612033, 75.57951682703069, 68.86977563600081, 66.9775699124348, 61.06183347094994, 61.001237471927766, 58.08243235695475, 57.11970387236431, 54.73546180513932, 52.426385883291424, 51.12900601224328, 49.66833945023863, 48.13328096070269, 47.51686879224463, 46.3052601629901, 45.80204172280235, 45.63967742256575, 42.79522304601433, 42.69297805655149, 42.22259664951908, 40.462800983820266, 40.04167891540117, 39.73868038522264, 152.91066133475377, 113.3703265320301, 97.58143979026227, 101.73256773805637, 840.3918315520168, 193.6526665655676, 257.159683180387, 545.3504228279998, 179.26965949341442, 151.3048080725734, 140.41762692642328, 127.0618584222059, 118.40717127971087, 94.37530484775976, 83.68738350872387, 78.72855767035585, 74.91538095405205, 73.93796441757061, 63.12411807699167, 59.75690232999328, 57.23695127584849, 57.41359000416479, 54.807726802497356, 54.30377657114551, 51.252585931513885, 50.881808054738585, 50.72594309665795, 50.3252306763046, 45.97143769213152, 44.36762968059061, 42.210728842170305, 39.80869100761537, 40.00268572786893, 38.85947884512411, 37.68774117898422, 37.538648906310705, 36.656274928442784, 36.607760733674084, 36.64794224980352, 92.90371502197311, 141.6728665442794, 202.15352284761025, 375.9426169477493, 99.51002423187177, 1006.786012950282, 56.750517691661784, 291.24551212119036, 591.7161748389866, 966.2012807417224, 1221.8586061249675, 995.0833734832361], \"Category\": [\"Default\", \"Default\", \"Default\", \"Default\", \"Default\", \"Default\", \"Default\", \"Default\", \"Default\", \"Default\", \"Default\", \"Default\", \"Default\", \"Default\", \"Default\", \"Default\", \"Default\", \"Default\", \"Default\", \"Default\", \"Default\", \"Default\", \"Default\", \"Default\", \"Default\", \"Default\", \"Default\", \"Default\", \"Default\", \"Default\", \"Topic1\", \"Topic1\", \"Topic1\", \"Topic1\", \"Topic1\", \"Topic1\", \"Topic1\", \"Topic1\", \"Topic1\", \"Topic1\", \"Topic1\", \"Topic1\", \"Topic1\", \"Topic1\", \"Topic1\", \"Topic1\", \"Topic1\", \"Topic1\", \"Topic1\", \"Topic1\", \"Topic1\", \"Topic1\", \"Topic1\", \"Topic1\", \"Topic1\", \"Topic1\", \"Topic1\", \"Topic1\", \"Topic1\", \"Topic1\", \"Topic1\", \"Topic1\", \"Topic1\", \"Topic1\", \"Topic1\", \"Topic1\", \"Topic1\", \"Topic1\", \"Topic1\", \"Topic1\", \"Topic1\", \"Topic1\", \"Topic1\", \"Topic1\", \"Topic1\", \"Topic1\", \"Topic1\", \"Topic1\", \"Topic1\", \"Topic1\", \"Topic1\", \"Topic1\", \"Topic1\", \"Topic1\", \"Topic1\", \"Topic1\", \"Topic1\", \"Topic1\", \"Topic1\", \"Topic1\", \"Topic1\", \"Topic1\", \"Topic1\", \"Topic1\", \"Topic1\", \"Topic1\", \"Topic1\", \"Topic1\", \"Topic1\", \"Topic1\", \"Topic1\", \"Topic1\", \"Topic1\", \"Topic2\", \"Topic2\", \"Topic2\", \"Topic2\", \"Topic2\", \"Topic2\", \"Topic2\", \"Topic2\", \"Topic2\", \"Topic2\", \"Topic2\", \"Topic2\", \"Topic2\", \"Topic2\", \"Topic2\", \"Topic2\", \"Topic2\", \"Topic2\", \"Topic2\", \"Topic2\", \"Topic2\", \"Topic2\", \"Topic2\", \"Topic2\", \"Topic2\", \"Topic2\", \"Topic2\", \"Topic2\", \"Topic2\", \"Topic2\", \"Topic2\", \"Topic2\", \"Topic2\", \"Topic2\", \"Topic2\", \"Topic2\", \"Topic2\", \"Topic2\", \"Topic2\", \"Topic2\", \"Topic2\", \"Topic2\", \"Topic2\", \"Topic2\", \"Topic2\", \"Topic2\", \"Topic2\", \"Topic2\", \"Topic2\", \"Topic2\", \"Topic2\", \"Topic2\", \"Topic2\", \"Topic2\", \"Topic2\", \"Topic2\", \"Topic2\", \"Topic2\", \"Topic2\", \"Topic2\", \"Topic2\", \"Topic2\", \"Topic2\", \"Topic2\", \"Topic2\", \"Topic2\", \"Topic2\", \"Topic2\", \"Topic3\", \"Topic3\", \"Topic3\", \"Topic3\", \"Topic3\", \"Topic3\", \"Topic3\", \"Topic3\", \"Topic3\", \"Topic3\", \"Topic3\", \"Topic3\", \"Topic3\", \"Topic3\", \"Topic3\", \"Topic3\", \"Topic3\", \"Topic3\", \"Topic3\", \"Topic3\", \"Topic3\", \"Topic3\", \"Topic3\", \"Topic3\", \"Topic3\", \"Topic3\", \"Topic3\", \"Topic3\", \"Topic3\", \"Topic3\", \"Topic3\", \"Topic3\", \"Topic3\", \"Topic3\", \"Topic3\", \"Topic3\", \"Topic3\", \"Topic3\", \"Topic3\", \"Topic3\", \"Topic3\", \"Topic3\", \"Topic3\", \"Topic3\", \"Topic3\", \"Topic3\", \"Topic3\", \"Topic3\", \"Topic3\", \"Topic3\", \"Topic3\", \"Topic3\", \"Topic3\", \"Topic3\", \"Topic3\", \"Topic3\", \"Topic3\", \"Topic3\", \"Topic3\", \"Topic3\", \"Topic3\", \"Topic3\", \"Topic3\", \"Topic3\", \"Topic3\", \"Topic3\", \"Topic3\", \"Topic3\", \"Topic3\", \"Topic3\", \"Topic3\", \"Topic3\", \"Topic3\", \"Topic3\", \"Topic3\", \"Topic3\", \"Topic3\", \"Topic3\", \"Topic3\", \"Topic3\", \"Topic4\", \"Topic4\", \"Topic4\", \"Topic4\", \"Topic4\", \"Topic4\", \"Topic4\", \"Topic4\", \"Topic4\", \"Topic4\", \"Topic4\", \"Topic4\", \"Topic4\", \"Topic4\", \"Topic4\", \"Topic4\", \"Topic4\", \"Topic4\", \"Topic4\", \"Topic4\", \"Topic4\", \"Topic4\", \"Topic4\", \"Topic4\", \"Topic4\", \"Topic4\", \"Topic4\", \"Topic4\", \"Topic4\", \"Topic4\", \"Topic4\", \"Topic4\", \"Topic4\", \"Topic4\", \"Topic4\", \"Topic4\", \"Topic4\", \"Topic4\", \"Topic4\", \"Topic4\", \"Topic4\", \"Topic4\", \"Topic4\", \"Topic4\", \"Topic4\", \"Topic4\", \"Topic4\", \"Topic4\", \"Topic4\", \"Topic4\", \"Topic4\", \"Topic4\", \"Topic4\", \"Topic4\", \"Topic4\", \"Topic4\", \"Topic4\", \"Topic4\", \"Topic4\", \"Topic4\", \"Topic4\", \"Topic4\", \"Topic4\", \"Topic4\", \"Topic4\", \"Topic4\", \"Topic4\", \"Topic4\", \"Topic4\", \"Topic4\", \"Topic4\", \"Topic4\", \"Topic4\", \"Topic4\", \"Topic4\", \"Topic4\", \"Topic5\", \"Topic5\", \"Topic5\", \"Topic5\", \"Topic5\", \"Topic5\", \"Topic5\", \"Topic5\", \"Topic5\", \"Topic5\", \"Topic5\", \"Topic5\", \"Topic5\", \"Topic5\", \"Topic5\", \"Topic5\", \"Topic5\", \"Topic5\", \"Topic5\", \"Topic5\", \"Topic5\", \"Topic5\", \"Topic5\", \"Topic5\", \"Topic5\", \"Topic5\", \"Topic5\", \"Topic5\", \"Topic5\", \"Topic5\", \"Topic5\", \"Topic5\", \"Topic5\", \"Topic5\", \"Topic5\", \"Topic5\", \"Topic5\", \"Topic5\", \"Topic5\", \"Topic5\", \"Topic5\", \"Topic5\", \"Topic5\", \"Topic5\", \"Topic5\", \"Topic5\", \"Topic5\", \"Topic5\", \"Topic5\", \"Topic5\", \"Topic5\", \"Topic5\", \"Topic5\", \"Topic5\", \"Topic5\", \"Topic5\", \"Topic5\", \"Topic5\", \"Topic5\", \"Topic5\", \"Topic5\", \"Topic5\", \"Topic5\", \"Topic5\", \"Topic6\", \"Topic6\", \"Topic6\", \"Topic6\", \"Topic6\", \"Topic6\", \"Topic6\", \"Topic6\", \"Topic6\", \"Topic6\", \"Topic6\", \"Topic6\", \"Topic6\", \"Topic6\", \"Topic6\", \"Topic6\", \"Topic6\", \"Topic6\", \"Topic6\", \"Topic6\", \"Topic6\", \"Topic6\", \"Topic6\", \"Topic6\", \"Topic6\", \"Topic6\", \"Topic6\", \"Topic6\", \"Topic6\", \"Topic6\", \"Topic6\", \"Topic6\", \"Topic6\", \"Topic6\", \"Topic6\", \"Topic6\", \"Topic6\", \"Topic6\", \"Topic7\", \"Topic7\", \"Topic7\", \"Topic7\", \"Topic7\", \"Topic7\", \"Topic7\", \"Topic7\", \"Topic7\", \"Topic7\", \"Topic7\", \"Topic7\", \"Topic7\", \"Topic7\", \"Topic7\", \"Topic7\", \"Topic7\", \"Topic7\", \"Topic7\", \"Topic7\", \"Topic7\", \"Topic7\", \"Topic7\", \"Topic7\", \"Topic7\", \"Topic7\", \"Topic7\", \"Topic7\", \"Topic7\", \"Topic7\", \"Topic7\", \"Topic7\", \"Topic7\", \"Topic7\", \"Topic7\", \"Topic7\", \"Topic7\", \"Topic7\", \"Topic7\", \"Topic7\", \"Topic7\", \"Topic7\", \"Topic7\"], \"logprob\": [30.0, 29.0, 28.0, 27.0, 26.0, 25.0, 24.0, 23.0, 22.0, 21.0, 20.0, 19.0, 18.0, 17.0, 16.0, 15.0, 14.0, 13.0, 12.0, 11.0, 10.0, 9.0, 8.0, 7.0, 6.0, 5.0, 4.0, 3.0, 2.0, 1.0, -3.91, -5.3445, -5.9128, -6.2446, -6.4605, -6.5582, -6.5882, -6.6392, -6.9271, -6.9629, -7.0728, -7.0853, -7.1363, -7.1733, -7.2859, -7.3662, -7.3713, -7.4191, -7.7799, -7.843, -7.9743, -8.0303, -8.0646, -8.0876, -8.1099, -8.1358, -8.2093, -8.3386, -8.3449, -8.3453, -6.3007, -8.3378, -5.3355, -4.8667, -4.9722, -5.4248, -4.7066, -6.0127, -6.8234, -4.1971, -5.3983, -2.6122, -5.8806, -6.5993, -5.7876, -5.3596, -4.6957, -4.6359, -3.613, -5.4627, -4.5152, -3.7529, -4.0345, -5.4324, -5.0226, -4.2945, -2.9637, -4.9162, -4.8107, -4.3089, -5.185, -5.1366, -4.8712, -5.337, -4.9602, -4.784, -4.682, -4.9062, -4.636, -5.1935, -5.1773, -5.1215, -5.1118, -3.7196, -3.7853, -5.5214, -5.6577, -5.7854, -6.0265, -6.0501, -6.0944, -6.2491, -6.297, -6.3828, -6.4811, -6.5829, -6.7743, -6.8917, -6.9117, -6.9287, -6.9411, -6.9663, -6.9766, -6.9957, -7.0268, -7.0702, -7.1251, -7.1819, -7.2069, -7.3634, -7.4232, -7.4996, -7.5287, -6.3152, -5.0091, -6.8934, -5.8275, -3.9581, -6.656, -5.3625, -5.4102, -3.9652, -5.0824, -5.6221, -5.7855, -4.4229, -4.6674, -4.8117, -6.1944, -5.1921, -5.8922, -4.1847, -4.6507, -4.1529, -3.8208, -4.4376, -4.3193, -4.2642, -4.0213, -4.9716, -5.2223, -4.2324, -5.0196, -4.5441, -3.6605, -4.9834, -4.9481, -4.8536, -5.1892, -5.0441, -5.0412, -5.7366, -6.0486, -6.3366, -6.845, -6.969, -7.2661, -7.3028, -7.3773, -7.4673, -7.4667, -7.4722, -7.5424, -7.5586, -7.5625, -7.5703, -7.5963, -7.6185, -7.6451, -7.6584, -7.6793, -7.6828, -7.7086, -7.7927, -7.8123, -7.8723, -7.8851, -7.8916, -7.9192, -7.9182, -7.9353, -5.4957, -6.5325, -7.4432, -6.7038, -6.1167, -6.3344, -6.0273, -5.8713, -6.4401, -4.7018, -6.5056, -7.001, -3.7886, -2.3183, -4.8893, -3.385, -4.8294, -6.2566, -6.3977, -6.0864, -5.8424, -5.5101, -3.8666, -5.1289, -5.8447, -5.993, -6.0021, -4.5036, -4.7314, -5.8223, -5.2453, -4.9669, -4.274, -5.6495, -3.5945, -4.9638, -4.5189, -5.2742, -5.3744, -5.1756, -5.5831, -4.777, -4.7906, -5.548, -5.1363, -5.1466, -5.3203, -5.3647, -5.3604, -5.4948, -5.1146, -6.1513, -6.2964, -6.371, -6.391, -6.5193, -6.5878, -6.6755, -6.6765, -6.7781, -6.9458, -6.9518, -6.9821, -7.0697, -7.0762, -7.1048, -7.1188, -7.1645, -7.2187, -7.2526, -7.2604, -7.2675, -7.2853, -7.2935, -7.3141, -7.4446, -7.4508, -7.4587, -7.5016, -7.5149, -6.2317, -5.2286, -6.0973, -4.9666, -5.9553, -4.9931, -5.7631, -3.3107, -6.5323, -4.7386, -5.6534, -6.4529, -4.4436, -6.5153, -6.0925, -6.4753, -4.6031, -5.9386, -5.31, -5.8269, -5.1799, -5.4993, -4.8, -5.8107, -5.492, -5.5964, -5.2378, -3.9621, -5.7551, -5.4687, -3.5571, -5.2312, -5.2645, -5.6236, -5.6552, -4.8239, -5.4253, -4.9855, -5.6635, -5.0041, -5.4871, -5.1853, -5.5646, -5.4162, -5.553, -5.5974, -3.7489, -4.0011, -5.1387, -5.6075, -5.6498, -5.778, -5.8207, -6.0393, -6.0429, -6.0902, -6.1855, -6.2, -6.2178, -6.3057, -6.3363, -6.3633, -6.3757, -6.4014, -6.4228, -6.4821, -6.5583, -6.5455, -6.5497, -6.6035, -6.6595, -6.681, -6.7073, -6.797, -6.7988, -6.8371, -4.5177, -4.9183, -5.9205, -5.4574, -4.9765, -4.3138, -4.0781, -4.7513, -4.0598, -5.3407, -5.6828, -4.9965, -4.9572, -4.1726, -5.465, -5.5415, -5.613, -4.8578, -5.0425, -5.3365, -4.6399, -5.3396, -5.2442, -4.77, -5.3377, -5.1883, -5.4629, -5.2381, -5.1358, -5.2853, -5.3378, -5.331, -5.3902, -5.3945, -3.4378, -3.917, -4.3433, -5.006, -5.1818, -5.2104, -5.4871, -5.5707, -5.5751, -5.6691, -5.6973, -5.7909, -5.792, -5.8417, -5.8586, -5.9019, -5.9458, -5.9711, -6.0005, -6.0324, -6.0455, -6.0718, -6.0829, -6.0866, -6.1521, -6.1545, -6.1659, -6.2092, -6.2199, -6.2277, -5.4109, -5.6023, -5.934, -6.0005, -5.7371, -5.9657, -5.9865, -6.0351, -4.6864, -4.8568, -4.9319, -5.0324, -5.1034, -5.332, -5.4534, -5.515, -5.5651, -5.5784, -5.7384, -5.7939, -5.8375, -5.8345, -5.8816, -5.8909, -5.9497, -5.957, -5.9601, -5.9682, -6.0602, -6.0963, -6.1475, -6.2068, -6.2021, -6.2315, -6.2627, -6.2667, -6.2911, -6.2924, -6.2914, -5.515, -5.4988, -5.4105, -5.167, -5.8444, -4.9347, -6.0925, -5.6812, -5.5109, -5.5727, -5.7002, -5.8378], \"loglift\": [30.0, 29.0, 28.0, 27.0, 26.0, 25.0, 24.0, 23.0, 22.0, 21.0, 20.0, 19.0, 18.0, 17.0, 16.0, 15.0, 14.0, 13.0, 12.0, 11.0, 10.0, 9.0, 8.0, 7.0, 6.0, 5.0, 4.0, 3.0, 2.0, 1.0, 0.9938, 0.9936, 0.9933, 0.9931, 0.9929, 0.9928, 0.9928, 0.9927, 0.9924, 0.9923, 0.9921, 0.9921, 0.992, 0.9919, 0.9917, 0.9915, 0.9915, 0.9914, 0.9903, 0.99, 0.9895, 0.9893, 0.9891, 0.989, 0.9889, 0.9887, 0.9884, 0.9876, 0.9876, 0.9876, 0.9749, 0.9876, 0.9537, 0.9316, 0.929, 0.9361, 0.9022, 0.9137, 0.9456, 0.8334, 0.8792, 0.7188, 0.8853, 0.9249, 0.8543, 0.8107, 0.7447, 0.7326, 0.6282, 0.8034, 0.6572, 0.4521, 0.4857, 0.7152, 0.6272, 0.4599, 0.1293, 0.574, 0.5319, 0.3554, 0.6222, 0.5931, 0.4637, 0.6538, 0.3333, 0.2084, 0.0947, 0.2573, -0.3685, 0.3687, 0.3065, -0.3341, -0.4046, 1.4032, 1.4032, 1.4027, 1.4027, 1.4026, 1.4024, 1.4024, 1.4023, 1.4021, 1.4021, 1.402, 1.4018, 1.4017, 1.4013, 1.4011, 1.401, 1.401, 1.401, 1.4009, 1.4009, 1.4008, 1.4007, 1.4006, 1.4005, 1.4003, 1.4002, 1.3997, 1.3995, 1.3992, 1.3991, 1.3737, 1.3248, 1.3829, 1.3227, 1.2093, 1.3635, 1.2642, 1.268, 1.0589, 1.1122, 1.1782, 1.1851, 0.9219, 0.9554, 0.9532, 1.2447, 1.0097, 1.1617, 0.6027, 0.7414, 0.5543, 0.3842, 0.5547, 0.4574, 0.4077, 0.2199, 0.6973, 0.81, 0.0351, 0.6139, 0.2102, -0.5675, 0.5004, 0.2154, -0.0372, 0.5348, -0.3798, -0.521, 1.5963, 1.596, 1.5956, 1.5946, 1.5942, 1.5932, 1.5931, 1.5927, 1.5923, 1.5923, 1.5923, 1.592, 1.5919, 1.5919, 1.5918, 1.5917, 1.5915, 1.5913, 1.5913, 1.5912, 1.5912, 1.591, 1.5905, 1.5903, 1.5899, 1.5898, 1.5898, 1.5896, 1.5896, 1.5895, 1.5152, 1.5242, 1.5674, 1.5183, 1.467, 1.4753, 1.4376, 1.4081, 1.4491, 1.215, 1.4412, 1.5023, 1.0278, 0.7747, 1.1723, 0.8825, 1.1249, 1.3714, 1.3931, 1.336, 1.29, 1.1941, 0.8053, 1.0764, 1.2126, 1.2437, 1.2444, 0.7899, 0.8308, 1.1857, 0.9625, 0.8277, 0.3903, 0.9963, -0.2635, 0.5264, 0.1883, 0.6632, 0.7409, 0.5483, 0.9062, -0.0002, -0.0032, 0.8305, 0.2064, 0.1983, 0.3025, -0.2012, -0.606, -1.2898, 2.2585, 2.2568, 2.2565, 2.2562, 2.2562, 2.2557, 2.2555, 2.2551, 2.2551, 2.2547, 2.2538, 2.2538, 2.2536, 2.2531, 2.253, 2.2528, 2.2527, 2.2525, 2.252, 2.2518, 2.2518, 2.2517, 2.2516, 2.2515, 2.2513, 2.2502, 2.2501, 2.2501, 2.2497, 2.2496, 2.2222, 2.1798, 2.1468, 2.0155, 2.1011, 1.9704, 2.05, 1.6218, 2.1386, 1.8316, 1.9809, 2.1202, 1.7514, 2.1047, 1.9919, 2.0826, 1.506, 1.9136, 1.6893, 1.8529, 1.5773, 1.6897, 1.326, 1.7868, 1.6216, 1.6565, 1.3979, 0.5581, 1.6701, 1.4428, -0.2261, 1.2096, 1.1794, 1.4915, 1.5082, 0.2003, 1.095, 0.0068, 1.4555, -0.2167, 0.8702, -0.4781, 0.9203, -0.2488, 0.419, 0.7503, 3.0154, 3.0153, 3.014, 3.0128, 3.0127, 3.0122, 3.0121, 3.0111, 3.0111, 3.0109, 3.0104, 3.0102, 3.0102, 3.0096, 3.0094, 3.0093, 3.0093, 3.0091, 3.0089, 3.0085, 3.0079, 3.0079, 3.0079, 3.0075, 3.0071, 3.0069, 3.0066, 3.0057, 3.0057, 3.0054, 2.9565, 2.8453, 2.9196, 2.8529, 2.7441, 2.5337, 2.4477, 2.5009, 2.2519, 2.5306, 2.6383, 2.2845, 2.2527, 1.6761, 2.4478, 2.4273, 2.4802, 1.8577, 1.776, 1.9702, 0.9491, 1.8914, 1.5631, 0.5649, 1.4018, 0.8024, 1.7278, 0.6366, 0.0277, 0.3836, 0.5995, 0.3189, 0.8759, 0.9295, 4.2512, 4.2505, 4.2494, 4.2465, 4.2453, 4.2452, 4.2428, 4.242, 4.2419, 4.2409, 4.2406, 4.2394, 4.2394, 4.2387, 4.2385, 4.2379, 4.237, 4.2368, 4.2364, 4.2359, 4.2356, 4.2352, 4.2351, 4.2349, 4.2338, 4.2337, 4.2334, 4.2327, 4.2325, 4.2322, 3.7015, 3.8093, 3.6276, 3.5194, 1.6713, 2.9105, 2.6061, 1.8057, 4.267, 4.2662, 4.2658, 4.2652, 4.2647, 4.263, 4.2618, 4.2613, 4.2608, 4.2606, 4.2588, 4.2581, 4.2575, 4.2575, 4.2569, 4.2567, 4.2558, 4.2557, 4.2557, 4.2556, 4.254, 4.2534, 4.2521, 4.2513, 4.2513, 4.2508, 4.2502, 4.2502, 4.2496, 4.2496, 4.2495, 4.0957, 3.69, 3.4227, 3.0458, 3.6976, 2.293, 4.0111, 2.7869, 2.2483, 1.6962, 1.3339, 1.4016]}, \"token.table\": {\"Topic\": [1, 2, 3, 4, 5, 7, 6, 1, 3, 4, 5, 4, 2, 1, 2, 3, 1, 2, 3, 5, 3, 2, 1, 4, 4, 6, 5, 7, 1, 2, 3, 4, 5, 1, 2, 3, 4, 1, 1, 2, 3, 4, 1, 2, 3, 5, 1, 7, 2, 4, 1, 2, 3, 1, 2, 4, 1, 3, 4, 7, 1, 3, 2, 7, 2, 2, 1, 2, 4, 1, 2, 3, 5, 2, 5, 1, 4, 2, 3, 7, 3, 7, 1, 2, 3, 5, 1, 1, 2, 3, 4, 4, 4, 7, 1, 2, 4, 5, 1, 2, 5, 4, 1, 3, 5, 1, 5, 1, 2, 3, 4, 1, 5, 3, 4, 5, 2, 2, 2, 5, 5, 3, 6, 1, 3, 5, 1, 1, 2, 7, 1, 4, 1, 3, 4, 5, 1, 1, 2, 3, 4, 5, 2, 4, 5, 5, 3, 1, 5, 1, 4, 1, 2, 3, 4, 3, 2, 4, 7, 1, 2, 7, 1, 4, 5, 3, 1, 1, 5, 2, 4, 3, 4, 1, 2, 3, 6, 3, 4, 5, 7, 3, 4, 3, 2, 5, 1, 2, 3, 4, 5, 7, 1, 3, 4, 5, 4, 5, 1, 6, 1, 2, 3, 4, 5, 3, 7, 3, 1, 2, 5, 1, 2, 3, 5, 6, 2, 6, 1, 3, 5, 1, 5, 1, 5, 1, 2, 3, 4, 2, 5, 1, 2, 3, 4, 1, 3, 6, 1, 7, 6, 2, 6, 1, 1, 1, 2, 3, 4, 1, 2, 4, 2, 1, 2, 3, 4, 1, 2, 4, 5, 3, 6, 5, 3, 1, 3, 1, 7, 1, 2, 4, 5, 1, 2, 3, 5, 1, 2, 4, 1, 2, 5, 5, 1, 1, 2, 3, 4, 7, 4, 2, 4, 1, 2, 3, 4, 7, 1, 2, 4, 2, 1, 2, 3, 1, 2, 3, 4, 6, 1, 2, 1, 3, 4, 5, 2, 6, 5, 2, 3, 5, 1, 3, 4, 5, 1, 2, 3, 4, 5, 1, 2, 3, 4, 7, 6, 2, 3, 7, 4, 2, 5, 7, 5, 2, 6, 6, 7, 6, 1, 2, 3, 5, 1, 2, 3, 5, 1, 2, 6, 1, 2, 3, 6, 4, 3, 1, 3, 4, 1, 2, 3, 1, 2, 4, 5, 1, 3, 1, 2, 3, 5, 2, 3, 1, 2, 4, 2, 1, 2, 4, 1, 2, 3, 5, 1, 2, 4, 1, 5, 3, 4, 7, 1, 2, 4, 7, 1, 2, 5, 6, 3, 3, 6, 1, 3, 4, 4, 7, 7, 1, 2, 3, 5, 1, 3, 1, 4, 1, 2, 3, 4, 5, 7, 7, 1, 5, 1, 2, 3, 1, 2, 3, 4, 2, 3, 4, 5, 3, 4, 4, 2, 4, 1, 7, 4, 2, 3, 4, 1, 5, 5, 5, 2, 5, 1, 2, 3, 4, 3, 5, 1, 2, 3, 4, 5, 6, 3, 1, 2, 3, 4, 3, 1, 2, 4, 5, 7, 4, 6, 4, 1, 2, 3, 5, 4, 5, 2, 1, 2, 3, 3, 4, 5, 1, 2, 3, 4, 1, 2, 7, 4, 1, 3, 5, 1, 2, 3, 4, 7, 2, 1, 2, 4, 5, 7, 2, 2, 5, 1, 2, 3, 5, 3, 7, 1, 1, 2, 3, 4, 6, 6, 2, 3, 4, 4, 2, 6, 7, 4, 6, 2, 1, 2, 4, 5, 4, 1, 2, 3, 4, 3, 5, 3, 7, 1, 3, 1, 1, 2, 3, 2, 5, 2, 1, 1, 6, 1, 3, 1, 2, 3, 2, 3, 3, 3, 5, 6, 5, 7, 4, 1, 2, 4, 1, 2, 3, 1, 2, 2, 3, 1, 2, 4, 2, 6, 1, 1, 2, 3, 4, 3, 3, 1, 2, 3, 4, 4, 1, 2, 4, 1, 2, 3, 5, 1, 3, 5, 4, 7, 1, 2, 4, 7, 1, 1, 5, 1, 2, 3, 4, 1, 3, 6, 7, 2, 3, 5, 1, 1, 4, 5, 1, 3, 4, 7, 6, 5, 1, 2, 3, 1, 3, 5, 7, 1, 2, 3, 4, 1, 3, 1, 2, 3, 5, 1, 3, 5, 1, 2, 5, 1, 2, 3, 1, 2, 3, 5, 1, 2, 3, 5, 4, 4, 7, 4, 1, 1, 2, 3, 4, 5, 1, 2, 6, 4, 5, 7, 6, 3, 6, 6, 2, 3, 4, 5, 1, 2, 4, 2, 7, 1, 2, 3, 4, 5, 4, 5, 6, 1, 2, 5, 5, 1, 3, 1, 2, 3, 2, 1, 2, 3, 4, 5, 4, 1, 2, 3, 4, 3, 5, 1, 2, 3, 4, 1, 2, 4, 2, 3, 4, 7, 1, 2, 4, 1, 2, 3, 4, 1, 2, 4, 1, 2, 3, 4, 6], \"Freq\": [0.19887304070963208, 0.0664492260127649, 0.5012170190677123, 0.18938029413637994, 0.03132606369173202, 0.012815207873890372, 0.998824444716336, 0.6601084560893947, 0.05912328738750812, 0.08167546917449575, 0.19931252552283665, 0.9951696820221543, 0.9993836480032462, 0.20314265415894034, 0.2481004546695255, 0.548374159314298, 0.1398082382337672, 0.25844832772087245, 0.03544434208743394, 0.5666171908699509, 0.9983098968876407, 0.9985719530778037, 0.1042877219869611, 0.8946788780986663, 0.9895983430342125, 0.9764553560845367, 0.43211726991246835, 0.5627573747697262, 0.5884848683598771, 0.210525860610818, 0.09860450756398653, 0.016159767552216306, 0.08618542694515363, 0.23873558248904936, 0.03638720773996663, 0.26092290428171194, 0.46415877190250115, 0.9983613189960058, 0.045309228710227835, 0.33022922520092435, 0.623488343540129, 0.0005559414565672126, 0.1184066833861551, 0.11537061458138191, 0.7023439168375355, 0.06274542196531296, 0.43762790654498473, 0.5576226551137708, 0.9963388896154152, 0.9909818398580514, 0.4163699631816978, 0.515867808264691, 0.06765219721407342, 0.998441693334735, 0.9603350646510558, 0.03727327876499532, 0.6154558278923216, 0.2708987753089873, 0.0597450471225259, 0.0531976446981395, 0.6571256520952049, 0.34271899036135556, 0.21145181556225928, 0.775323323728284, 0.997311447217699, 0.9998764130545635, 0.250489898908708, 0.6376106517676203, 0.11178888050471265, 0.5165629290467671, 0.03718449100142099, 0.44607032255372586, 0.992540641896772, 0.08964978418095483, 0.9064589289407655, 0.2911813514132509, 0.7084794664959353, 0.15450881859863655, 0.6180352743945462, 0.22661293394466692, 0.9966129184105139, 0.9965612616591523, 0.6141282493440358, 0.03562075774927812, 0.06068721690617754, 0.28958356762839066, 0.9991888118491243, 0.8517188065544214, 0.08927708143334115, 0.04977004168904432, 0.00915945334853809, 0.9920567315017071, 0.9897819184086667, 0.9852625377912855, 0.3250722017846702, 0.6747117441204273, 0.855252484756146, 0.1398777428339491, 0.36879446672574184, 0.1649242496672229, 0.4657619773734585, 0.9948643927439657, 0.2778890466338265, 0.10586249395574343, 0.6162709469566493, 0.14955120329736601, 0.8503891952203165, 0.9339365189524577, 0.06546908358894195, 0.9104901344273505, 0.08891505219017094, 0.9989363093809202, 0.9998092469460704, 0.9212479283647476, 0.0767706606970623, 0.0015993887645221311, 0.9964291815043486, 0.9981466363350063, 0.9703172165351459, 0.02835342515849452, 0.9902328894693, 0.9931628366431358, 0.9943958181337759, 0.4211171977836474, 0.09637508008978997, 0.48082784523058253, 0.9994746633755839, 0.9815215095924752, 0.017713233187974603, 0.996023272736812, 0.1455773876577106, 0.8529925058068981, 0.10889115215663644, 0.6809885131026571, 0.10637827941456021, 0.10386540667248399, 0.9968143997309411, 0.16041724724191006, 0.0739562810224396, 0.5941511852189231, 0.1382660906071697, 0.03322673495211055, 0.9964505975861149, 0.4130203058242284, 0.5853087762537637, 0.9927539327429045, 0.9925613235848681, 0.9371320435051612, 0.06273907914324287, 0.3324816650697155, 0.6665242769237958, 0.7140995273207017, 0.2158195721929173, 0.06994741585509989, 0.9931803783337251, 0.9981564139898614, 0.3478645814131468, 0.6519887938616227, 0.9821919400819098, 0.939615405838604, 0.06016772910077621, 0.9817515946175166, 0.3803128862231862, 0.5656915292565986, 0.05351136087562419, 0.9957031697873499, 0.9968990554074424, 0.9989408179852493, 0.9910538950133558, 0.8528164841382037, 0.1460218152697068, 0.9306879708814452, 0.06826562133604731, 0.17741979356188808, 0.3694896352666526, 0.45299490968104844, 0.9955878573091442, 0.0474261570380646, 0.2667721333391133, 0.6847151422370575, 0.9823198190668674, 0.3752280762535246, 0.6239424716246348, 0.9960742768088244, 0.9982898210644129, 0.9956487089933184, 0.24696881243619193, 0.42780238014496896, 0.24441286094914208, 0.06469752201594937, 0.016054570278031883, 0.9755605320444192, 0.18260008334486533, 0.6824745050528764, 0.08996133138398056, 0.04498066569199028, 0.8873703323287259, 0.10934421156657285, 0.5111440825310822, 0.4816550008465967, 0.1534911413767524, 0.5515697925896306, 0.013310884889040859, 0.24916312651673356, 0.032029316764254565, 0.999039570664918, 0.9917862946611037, 0.99784535688653, 0.8969391732213862, 0.022533014819239288, 0.08011738602396191, 0.9972681547238043, 0.4627474980847848, 0.27609304507579596, 0.06999541987837081, 0.19443172188436336, 0.998360913083872, 0.993107216704952, 0.32062172967563596, 0.6539321571473155, 0.025377395592087015, 0.997728535686083, 0.9931221200677839, 0.23738593697503757, 0.7625616742554289, 0.17355479291037906, 0.7472399841395954, 0.03251943166548854, 0.04630484291498912, 0.15615687530536626, 0.8435865981170331, 0.40689662114603037, 0.3883156937915084, 0.20242079385294945, 0.0023119126201478998, 0.9942235425443681, 0.9877726077176694, 0.9814115522190987, 0.9929061395354472, 0.9877811346295697, 0.9918669601936586, 0.9990027397893585, 0.9885623097618643, 0.9995374510260036, 0.997031967603413, 0.34908937801396783, 0.28788857541684865, 0.0504294613400262, 0.3123688964556963, 0.7794637855715764, 0.1468145312840661, 0.07365666745055638, 0.9986008003412361, 0.30992171522947265, 0.062308868402155757, 0.15707027243043428, 0.47088629193504167, 0.7568423687086574, 0.20843519779944308, 0.034739199633240514, 0.9950947319508388, 0.9945442148999585, 0.9859841817758013, 0.9962962569595726, 0.9974364925558393, 0.5352617415458082, 0.46464475388923837, 0.9992436936507693, 0.9749345397784034, 0.1637280757025125, 0.7086475721296958, 0.12753901677295515, 0.9934038498680728, 0.5004970244837709, 0.1400691322893112, 0.09729802225096795, 0.2618792526909086, 0.7700260275041043, 0.2298007738833591, 0.997808698436586, 0.10999749802539155, 0.870178226953345, 0.01960351449957473, 0.9966689196247165, 0.9962418407877273, 0.2602340483776052, 0.0943596740300477, 0.3684993585805021, 0.13806310200185928, 0.13806310200185928, 0.9978072862428415, 0.980681215576722, 0.017006032640058764, 0.58171847546305, 0.3609516250858064, 0.05573553284102515, 0.0015952060570284736, 0.9796855664643515, 0.6937534428509604, 0.3062519713763, 0.9910828368663934, 0.9985966937922476, 0.09098637967465455, 0.7854879199435773, 0.12270640194655245, 0.06259164264302677, 0.01060875299034352, 0.3249814666041898, 0.6018699196521557, 0.982488952617956, 0.9124129026579897, 0.08756172992943831, 0.45768342786426186, 0.18461561460927114, 0.33974716300330243, 0.017690439729143918, 0.3528260103290692, 0.6439074688505513, 0.990693519612512, 0.14269738865048448, 0.8561843319029068, 0.9905595208084277, 0.7595416738702377, 0.1555794696736461, 0.08328635165078241, 0.0015935145992762923, 0.09155918877405927, 0.3503847164428179, 0.3930212342002903, 0.07570715012064005, 0.0893727006839325, 0.2579049528115393, 0.39015333915739253, 0.13101242011832187, 0.2212379547281096, 0.9929175996819414, 0.9826105209982745, 0.530659821975364, 0.33630988717546956, 0.13181995577731973, 0.9964203129284143, 0.9985686709333172, 0.9906484996182232, 0.9944059770732976, 0.9912802896378687, 0.9995727702143121, 0.9954002817252413, 0.9779184830627662, 0.9856889186806311, 0.9710440203460815, 0.050202677982155344, 0.10040535596431069, 0.827298297580935, 0.020917782492564728, 0.06478623998496932, 0.8737542454610022, 0.02981313698423367, 0.031533125656401, 0.9953140143563901, 0.9113406338308658, 0.08618311828984043, 0.6896733194102774, 0.23301071438670126, 0.07727028839600186, 0.9813638597243571, 0.9927525627277667, 0.9905139614187419, 0.2928441206748401, 0.1512624590262604, 0.5542256498722181, 0.5028802262056622, 0.4052909005400606, 0.09168534510931962, 0.3450783124536534, 0.2876739807033292, 0.13372600010018704, 0.2341835806632544, 0.9999370802295581, 0.9953137496719204, 0.310719770373824, 0.493557563969719, 0.12370282721002272, 0.07188137256798617, 0.1366414821708993, 0.8621885072191956, 0.3978514175276874, 0.07265883349057987, 0.5281056678095806, 0.9982619222862728, 0.8324288117338787, 0.11867198973744479, 0.04864171672377824, 0.192144424962098, 0.04385038743948294, 0.6625394902220059, 0.1020518107682512, 0.11751502260086374, 0.8041714291706166, 0.07757527635743293, 0.4438621844225215, 0.5543067655229612, 0.5514646503316517, 0.44722981335458667, 0.987314170400021, 0.425596867146982, 0.13831898182276917, 0.14097896224243778, 0.2925978461635501, 0.4479460959517411, 0.2756591359703022, 0.2756591359703022, 0.9835866039211332, 0.9920408466584556, 0.46115326948158625, 0.5328882225120553, 0.08949179436077029, 0.1536275803193223, 0.7562056623485088, 0.9918673362567776, 0.9826694827001836, 0.978388938469362, 0.4992525154841619, 0.19078853856794284, 0.18326502693583996, 0.12654932386306422, 0.9996160527208616, 0.9918140933302085, 0.2339364513583253, 0.7649721959417237, 0.35918860791718193, 0.1991864098449827, 0.4248221626365943, 0.010775658237515457, 0.0058776317659175225, 0.9917140112456484, 0.9935374230394192, 0.9979888507917425, 0.9883178403255165, 0.5862649827710033, 0.30326360576929073, 0.11043751960510616, 0.5281463082537574, 0.1681161169564626, 0.29911966371543575, 0.004591245797627564, 0.04742590827577583, 0.7973480828864811, 0.08892357801707967, 0.06521062387919176, 0.9686546820374414, 0.023625723952132718, 0.9968460113632273, 0.9993111008658933, 0.9915073702286249, 0.9935390869759015, 0.9979854700160804, 0.9942816802769018, 0.9969695557876502, 0.9977209941365234, 0.9917098297472151, 0.4020677846231771, 0.59750326474381, 0.9994195406931959, 0.9910611050388215, 0.996815982254812, 0.9960859922143416, 0.13343899782071283, 0.6179298551403113, 0.2469301499875932, 0.0016623204711527081, 0.9996411812958464, 0.9883414699962698, 0.4787788059437085, 0.3048149428046043, 0.1655177915229303, 0.00037818231117196565, 0.05042430815626209, 0.9739851339000546, 0.9957774112991891, 0.1802259974917388, 0.23679718306131572, 0.5658900326581932, 0.017015899911479046, 0.9945100103689969, 0.09124504521303466, 0.8236099226718857, 0.08137387527320566, 0.0036700503622441125, 0.9778823887847391, 0.993395978949788, 0.989122414725926, 0.9912871005451667, 0.6697458660279434, 0.1156954894564186, 0.19341798717186295, 0.021096106522763468, 0.9648229189244782, 0.03385343575173608, 0.9984859921293012, 0.18126208045694994, 0.3554158440332352, 0.4632253167233165, 0.1227528471947128, 0.7839090051864886, 0.09323001052762997, 0.4039162448616011, 0.044052309347425, 0.04591367453111902, 0.5056708749035406, 0.8918122863833319, 0.10792388134096308, 0.9873336417973364, 0.994418995202342, 0.9977820207103388, 0.995099711196481, 0.995788736717816, 0.10065305041714721, 0.2783316746276982, 0.358665095148426, 0.2622649905235526, 0.9970258226437475, 0.9999200839550735, 0.4559476036167181, 0.4280085962189556, 0.10516964761895409, 0.0109418926310629, 0.9927963047749707, 0.9961109029311116, 0.5327753669198521, 0.4664223908199438, 0.5209865400953736, 0.2474183182692315, 0.10701345147904971, 0.12431261844746752, 0.9927832900139769, 0.9713170353751216, 0.995327994295295, 0.42123794711207785, 0.13933683217551426, 0.4393625464594177, 6.359508542926256e-05, 0.9989817153988353, 0.9923323560223737, 0.12384091565377096, 0.8163035003657015, 0.05930410045391849, 0.9876258702303806, 0.9990378341740498, 0.9873707206395175, 0.9856508179701654, 0.9233787988715937, 0.07615495248425515, 0.9972090076310449, 0.15694901057682484, 0.030319695225068437, 0.8114977251415375, 0.9938699358468213, 0.9978768814370202, 0.2503346406554396, 0.1162625309518868, 0.10475634243255205, 0.5285842951969173, 0.9235912656387759, 0.0751760332496678, 0.9951239225541251, 0.9820965188163853, 0.1137510911425557, 0.8851256779530116, 0.9929466381160357, 0.45091466666226254, 0.01898211066965839, 0.530066486624423, 0.057187749867385534, 0.9429624533688903, 0.9995771654277923, 0.9983222733587892, 0.9940451802191423, 0.9803972395433576, 0.29664865792600364, 0.7025361797504343, 0.6299981617656901, 0.12093310812256666, 0.24895331859146827, 0.12053046371587352, 0.8777453769426553, 0.9969344072526867, 0.998500999091609, 0.41854504742406723, 0.5754994402080924, 0.9900597822679195, 0.9833980357854822, 0.9919693126105822, 0.08770131491997121, 0.16243808763438147, 0.7488929674035802, 0.2560455964482259, 0.2545533692985075, 0.4893475928903996, 0.8697112504777933, 0.12993143284315412, 0.9228468960779536, 0.07721029807823516, 0.32881140180592633, 0.1051247991350678, 0.5651445968539358, 0.994981763605134, 0.9837683364314955, 0.9990791154179476, 0.6015510030137955, 0.1459489933523559, 0.06996011665006256, 0.18245280421806087, 0.9965608482978098, 0.993675765547854, 0.29030741652437986, 0.0578806064098452, 0.30161222246380276, 0.3499967918845327, 0.9877406510996138, 0.9606052565932509, 0.03924803030579221, 0.9984286946044716, 0.2880507620164953, 0.24183366214071436, 0.11930460665608575, 0.35146492231117155, 0.8265228432289525, 0.055810224140861744, 0.11769503050113701, 0.8376484090772377, 0.15776337749436764, 0.6872274061676549, 0.05795893786956126, 0.17801673774222385, 0.07658859647049165, 0.9981427721925911, 0.9522761335629414, 0.0460778774304649, 0.4977987772337017, 0.03571404030926116, 0.04395574191909066, 0.42252456919725895, 0.25819422415787296, 0.4750773724504863, 0.26335810864103043, 0.9788686684406698, 0.999374782045345, 0.9915991308838189, 0.9929501996899751, 0.9946215118239196, 0.35923790078513007, 0.023089014417191727, 0.617291591330214, 0.8481701357803048, 0.0351729321709842, 0.05929151423108765, 0.05627669147357472, 0.9934076568857271, 0.9957659883629518, 0.2300656280113112, 0.4195054637442335, 0.3503974584011045, 0.3921224649258333, 0.04137975760523869, 0.5674938185861306, 0.9916429805498553, 0.2649919165325742, 0.44906696763145904, 0.20181618202284882, 0.08411892321020971, 0.2292777996300745, 0.7698907166525659, 0.11205793709024012, 0.7986557019206131, 0.056352835415323065, 0.033034420760706625, 0.14605923741143234, 0.8524319286856871, 0.9952269038766641, 0.21542929226288807, 0.4701357483085126, 0.314217310261892, 0.07265489027682234, 0.4626969328155528, 0.46439646241267146, 0.5699864068135724, 0.08071485830751637, 0.023915513572597445, 0.3248523926944486, 0.9229155032474843, 0.04041429353392646, 0.014696106739609622, 0.022044160109414433, 0.9855002219777756, 0.869517312359429, 0.12585118994675945, 0.9959835759520644, 0.998566229984502, 0.37839875285307006, 0.4540381624052563, 0.04820751702125999, 0.10589517337306066, 0.013312536081184769, 0.9961451832735573, 0.9992693290339666, 0.9865633397274037, 0.9979195463361182, 0.15069365091254738, 0.8395789122270496, 0.9854045180541358, 0.9915932933094356, 0.9814179483266324, 0.9865439542043031, 0.9243497874675057, 0.033723530707605705, 0.0414433750864552, 0.9968306980058179, 0.9438081143134528, 0.038820944109310536, 0.017114609768620774, 0.9988725326675613, 0.9907459543028033, 0.6929810373135901, 0.08631509370089391, 0.048590682202165926, 0.1045622275236482, 0.06745288795152991, 0.9940460558702102, 0.9954657250879307, 0.9944040698113035, 0.7118259604262254, 0.17874932987616837, 0.10926773552107712, 0.9899249072402098, 0.2636619762917803, 0.7359058584856196, 0.08680913231294604, 0.638995038312766, 0.2739975601509768, 0.9969199252985284, 0.26517424140593354, 0.31779836482143825, 0.1902169534189707, 0.1339989874287486, 0.09266979781949855, 0.999304813909728, 0.20525351934134134, 0.5523513448746492, 0.09977184249095948, 0.14244534138769516, 0.9961343946238769, 0.9953349678921827, 0.3337363261161735, 0.17446953274186075, 0.04995185792194354, 0.44160338162877616, 0.41539613637772244, 0.11176577660387152, 0.4722104061513571, 0.049467354608201994, 0.19786941843280798, 0.32153780495331297, 0.4303659850913574, 0.5605499539862311, 0.28069942168316064, 0.15874231407686806, 0.08708113366308566, 0.17004356505832266, 0.6684065394680088, 0.07413664082127562, 0.2210106921110278, 0.23119551663227333, 0.5469250767908845, 0.2459051616440996, 0.2802328620615309, 0.08053806636397355, 0.393118184588084, 0.9879581545828168], \"Term\": [\"-\", \"-\", \"-\", \"-\", \"-\", \"-\", \"_\", \"access\", \"access\", \"access\", \"access\", \"active\", \"activity\", \"air\", \"air\", \"air\", \"airport\", \"airport\", \"airport\", \"airport\", \"alarm\", \"animation\", \"anniversary\", \"anniversary\", \"appointment\", \"appreciated\", \"architecture\", \"architecture\", \"area\", \"area\", \"area\", \"area\", \"area\", \"arrival\", \"arrival\", \"arrival\", \"arrival\", \"attraction\", \"bad\", \"bad\", \"bad\", \"bad\", \"bag\", \"bag\", \"bag\", \"bag\", \"bahn\", \"bahn\", \"bali\", \"balinese\", \"bar\", \"bar\", \"bar\", \"barcelona\", \"bartender\", \"bartender\", \"bath\", \"bath\", \"bath\", \"bath\", \"bathroom\", \"bathroom\", \"battery\", \"battery\", \"bavaro\", \"beach\", \"beautiful\", \"beautiful\", \"beautiful\", \"bed\", \"bed\", \"bed\", \"benefit\", \"bike\", \"bike\", \"birthday\", \"birthday\", \"black\", \"black\", \"black\", \"blanket\", \"blind\", \"block\", \"block\", \"block\", \"block\", \"boutique\", \"breakfast\", \"breakfast\", \"breakfast\", \"breakfast\", \"breathtaking\", \"brother\", \"bucket\", \"buffet\", \"buffet\", \"burger\", \"burger\", \"bus\", \"bus\", \"bus\", \"butler\", \"cab\", \"cab\", \"cab\", \"cable\", \"cable\", \"cafe\", \"cafe\", \"call\", \"call\", \"canal\", \"car\", \"card\", \"card\", \"card\", \"caribbean\", \"carte\", \"casino\", \"casino\", \"cathedral\", \"cell\", \"cent\", \"center\", \"center\", \"center\", \"central\", \"centre\", \"centre\", \"century\", \"champagne\", \"champagne\", \"charge\", \"charge\", \"charge\", \"charge\", \"charming\", \"check\", \"check\", \"check\", \"check\", \"check\", \"chicken\", \"chinese\", \"chinese\", \"church\", \"cigarette\", \"city\", \"city\", \"class\", \"class\", \"clean\", \"clean\", \"clean\", \"client\", \"clock\", \"club\", \"club\", \"collection\", \"comfortable\", \"comfortable\", \"competitive\", \"concierge\", \"concierge\", \"concierge\", \"confirmation\", \"contemporary\", \"continental\", \"cook\", \"country\", \"country\", \"credit\", \"credit\", \"crime\", \"crime\", \"crime\", \"crimen__\\u00e7_\\u00e9\", \"cruise\", \"cruise\", \"cruise\", \"cushion\", \"customer\", \"customer\", \"damp\", \"dance\", \"darling\", \"day\", \"day\", \"day\", \"day\", \"day\", \"delighted\", \"desk\", \"desk\", \"desk\", \"desk\", \"dessert\", \"dessert\", \"difficulty\", \"difficulty\", \"dinner\", \"dinner\", \"dinner\", \"dinner\", \"dinner\", \"dirty\", \"disco\", \"disgusting\", \"distance\", \"distance\", \"distance\", \"district\", \"dog\", \"dog\", \"dog\", \"dog\", \"dominican\", \"don__\\u00e7_\\u00e9\", \"door\", \"door\", \"door\", \"doorman\", \"doubt\", \"downtown\", \"downtown\", \"drink\", \"drink\", \"drink\", \"drink\", \"driver\", \"driver\", \"drug\", \"drug\", \"drug\", \"drug\", \"duomo\", \"ear\", \"eastern\", \"eiffel\", \"electronic\", \"elite\", \"entertainment\", \"escalator\", \"euro\", \"euros\", \"evening\", \"evening\", \"evening\", \"evening\", \"excellent\", \"excellent\", \"excellent\", \"excursion\", \"experience\", \"experience\", \"experience\", \"experience\", \"fantastic\", \"fantastic\", \"fantastic\", \"ferry\", \"filthy\", \"firework\", \"fisherman\", \"fix\", \"floor\", \"floor\", \"florence\", \"focus\", \"food\", \"food\", \"food\", \"foreign\", \"free\", \"free\", \"free\", \"free\", \"friendly\", \"friendly\", \"fry\", \"fun\", \"fun\", \"fun\", \"garage\", \"gem\", \"glass\", \"glass\", \"glass\", \"glass\", \"glass\", \"gold\", \"golf\", \"golf\", \"good\", \"good\", \"good\", \"good\", \"granite\", \"great\", \"great\", \"greeting\", \"grill\", \"ground\", \"ground\", \"ground\", \"guest\", \"guest\", \"guest\", \"guest\", \"hell\", \"helpful\", \"helpful\", \"high\", \"high\", \"high\", \"high\", \"hole\", \"hole\", \"hollywood\", \"horrible\", \"horrible\", \"hostel\", \"hotel\", \"hotel\", \"hotel\", \"hotel\", \"hour\", \"hour\", \"hour\", \"hour\", \"hour\", \"husband\", \"husband\", \"husband\", \"husband\", \"hyatt\", \"i__\\u00e7_\\u00e9\\u009de\", \"ice\", \"ice\", \"ice\", \"ill\", \"inclusive\", \"informative\", \"inner\", \"instruction\", \"island\", \"it__\\u00e7_\\u00e9\", \"jacuzzi\", \"jam\", \"jury\", \"key\", \"key\", \"key\", \"key\", \"kid\", \"kid\", \"kid\", \"kid\", \"kowloon\", \"language\", \"language\", \"large\", \"large\", \"large\", \"laugh\", \"law\", \"leak\", \"level\", \"level\", \"level\", \"little\", \"little\", \"little\", \"local\", \"local\", \"local\", \"local\", \"location\", \"lock\", \"lot\", \"lot\", \"lot\", \"lot\", \"loud\", \"loud\", \"lounge\", \"lounge\", \"lounge\", \"lounger\", \"lovely\", \"lovely\", \"lovely\", \"luggage\", \"luggage\", \"luggage\", \"luggage\", \"lunch\", \"lunch\", \"lunch\", \"mall\", \"mall\", \"manager\", \"manager\", \"mandarin\", \"marble\", \"marble\", \"marble\", \"marble\", \"market\", \"market\", \"market\", \"master\", \"mate\", \"medical\", \"medical\", \"member\", \"member\", \"member\", \"memory\", \"metal\", \"midtown\", \"minute\", \"minute\", \"minute\", \"minute\", \"modern\", \"mold\", \"moment\", \"moment\", \"morning\", \"morning\", \"morning\", \"morning\", \"morning\", \"mouse\", \"multi\", \"museum\", \"needle\", \"nice\", \"nice\", \"nice\", \"night\", \"night\", \"night\", \"night\", \"non\", \"non\", \"non\", \"non\", \"noon\", \"noon\", \"oasis\", \"ocean\", \"omelet\", \"opera\", \"orchard\", \"oriental\", \"palm\", \"paper\", \"paradise\", \"park\", \"park\", \"parking\", \"passport\", \"pasta\", \"peninsula\", \"people\", \"people\", \"people\", \"people\", \"phone\", \"pier\", \"place\", \"place\", \"place\", \"place\", \"place\", \"plaza\", \"plug\", \"police\", \"police\", \"police\", \"police\", \"policy\", \"pool\", \"pool\", \"pool\", \"pool\", \"posh\", \"position\", \"practical\", \"presentation\", \"price\", \"price\", \"price\", \"price\", \"princess\", \"princess\", \"principe\", \"problem\", \"problem\", \"problem\", \"property\", \"property\", \"property\", \"quality\", \"quality\", \"quality\", \"quality\", \"quiet\", \"quiet\", \"rack\", \"raffle\", \"rambla\", \"remote\", \"rental\", \"reservation\", \"reservation\", \"reservation\", \"reservation\", \"residence\", \"resort\", \"restaurant\", \"restaurant\", \"restaurant\", \"restaurant\", \"restraunt\", \"rice\", \"ride\", \"ride\", \"right\", \"right\", \"right\", \"right\", \"ring\", \"rodeo\", \"rooftop\", \"room\", \"room\", \"room\", \"room\", \"royal\", \"royalty\", \"rude\", \"rude\", \"rude\", \"rule\", \"rum\", \"runner\", \"s\", \"sand\", \"sand\", \"seafood\", \"season\", \"season\", \"season\", \"seattle\", \"secret\", \"service\", \"service\", \"service\", \"service\", \"shade\", \"shade\", \"shampoo\", \"shaving\", \"sheet\", \"sheet\", \"shinjuku\", \"shower\", \"shower\", \"shower\", \"shuttle\", \"shuttle\", \"sick\", \"sightseeing\", \"silla\", \"skill\", \"sleep\", \"sleep\", \"small\", \"small\", \"small\", \"smell\", \"smell\", \"smoke\", \"smoking\", \"soda\", \"soda\", \"song\", \"soundproof\", \"souvenir\", \"spa\", \"spa\", \"spa\", \"space\", \"space\", \"space\", \"spacious\", \"spacious\", \"spanish\", \"spanish\", \"special\", \"special\", \"special\", \"specialty\", \"spoil\", \"square\", \"staff\", \"staff\", \"staff\", \"staff\", \"stage\", \"stain\", \"star\", \"star\", \"star\", \"star\", \"starwood\", \"station\", \"station\", \"stomach\", \"store\", \"store\", \"store\", \"store\", \"street\", \"street\", \"street\", \"stunning\", \"stunning\", \"style\", \"style\", \"style\", \"style\", \"stylish\", \"subway\", \"subway\", \"suite\", \"suite\", \"suite\", \"suite\", \"supply\", \"supply\", \"supply\", \"swift\", \"swim\", \"switch\", \"t\", \"tapas\", \"taxi\", \"taxi\", \"taxi\", \"tea\", \"tea\", \"tea\", \"tea\", \"temp\", \"terminal\", \"thing\", \"thing\", \"thing\", \"ticket\", \"ticket\", \"ticket\", \"tidy\", \"time\", \"time\", \"time\", \"time\", \"tiny\", \"tiny\", \"tip\", \"tip\", \"tip\", \"tip\", \"toilet\", \"toilet\", \"topless\", \"tour\", \"tour\", \"tour\", \"towel\", \"towel\", \"towel\", \"town\", \"town\", \"town\", \"town\", \"train\", \"train\", \"train\", \"train\", \"training\", \"treat\", \"treat\", \"treatment\", \"trendy\", \"trip\", \"trip\", \"trip\", \"trip\", \"trip\", \"triple\", \"tropical\", \"truth\", \"ubud\", \"ultra\", \"ultra\", \"unhappy\", \"unhelpful\", \"unlucky\", \"useless\", \"vacation\", \"vacation\", \"vacation\", \"valet\", \"value\", \"value\", \"value\", \"vendor\", \"venice\", \"view\", \"view\", \"view\", \"view\", \"view\", \"vip\", \"waikiki\", \"waitress\", \"walk\", \"walk\", \"walk\", \"walkway\", \"wall\", \"wall\", \"water\", \"water\", \"water\", \"wave\", \"way\", \"way\", \"way\", \"way\", \"way\", \"wedding\", \"week\", \"week\", \"week\", \"week\", \"weird\", \"wharf\", \"wife\", \"wife\", \"wife\", \"wife\", \"wine\", \"wine\", \"wine\", \"wing\", \"wing\", \"wing\", \"wing\", \"wonderful\", \"wonderful\", \"wonderful\", \"work\", \"work\", \"work\", \"work\", \"world\", \"world\", \"world\", \"year\", \"year\", \"year\", \"year\", \"you__\\u00e7_\\u00e9\\u00e8e\"]}, \"R\": 30, \"lambda.step\": 0.01, \"plot.opts\": {\"xlab\": \"PC1\", \"ylab\": \"PC2\"}, \"topic.order\": [6, 7, 3, 4, 5, 1, 2]};\n",
              "\n",
              "function LDAvis_load_lib(url, callback){\n",
              "  var s = document.createElement('script');\n",
              "  s.src = url;\n",
              "  s.async = true;\n",
              "  s.onreadystatechange = s.onload = callback;\n",
              "  s.onerror = function(){console.warn(\"failed to load library \" + url);};\n",
              "  document.getElementsByTagName(\"head\")[0].appendChild(s);\n",
              "}\n",
              "\n",
              "if(typeof(LDAvis) !== \"undefined\"){\n",
              "   // already loaded: just create the visualization\n",
              "   !function(LDAvis){\n",
              "       new LDAvis(\"#\" + \"ldavis_el771399820496898081250690845\", ldavis_el771399820496898081250690845_data);\n",
              "   }(LDAvis);\n",
              "}else if(typeof define === \"function\" && define.amd){\n",
              "   // require.js is available: use it to load d3/LDAvis\n",
              "   require.config({paths: {d3: \"https://d3js.org/d3.v5\"}});\n",
              "   require([\"d3\"], function(d3){\n",
              "      window.d3 = d3;\n",
              "      LDAvis_load_lib(\"https://cdn.jsdelivr.net/gh/bmabey/pyLDAvis@3.3.1/pyLDAvis/js/ldavis.v3.0.0.js\", function(){\n",
              "        new LDAvis(\"#\" + \"ldavis_el771399820496898081250690845\", ldavis_el771399820496898081250690845_data);\n",
              "      });\n",
              "    });\n",
              "}else{\n",
              "    // require.js not available: dynamically load d3 & LDAvis\n",
              "    LDAvis_load_lib(\"https://d3js.org/d3.v5.js\", function(){\n",
              "         LDAvis_load_lib(\"https://cdn.jsdelivr.net/gh/bmabey/pyLDAvis@3.3.1/pyLDAvis/js/ldavis.v3.0.0.js\", function(){\n",
              "                 new LDAvis(\"#\" + \"ldavis_el771399820496898081250690845\", ldavis_el771399820496898081250690845_data);\n",
              "            })\n",
              "         });\n",
              "}\n",
              "</script>"
            ]
          },
          "metadata": {},
          "execution_count": 33
        }
      ],
      "source": [
        "# Visualize the topics\n",
        "pyLDAvis.enable_notebook()\n",
        "vis = pyLDAvis.gensim_models.prepare(lda_model, doc_term_matrix, dictionary)\n",
        "vis"
      ]
    },
    {
      "cell_type": "code",
      "execution_count": 34,
      "metadata": {
        "colab": {
          "base_uri": "https://localhost:8080/"
        },
        "id": "e9nPKx2_cYcl",
        "outputId": "50b3d7bb-8e25-423f-9ec7-89fe0a63d015"
      },
      "outputs": [
        {
          "output_type": "stream",
          "name": "stdout",
          "text": [
            "Please preview the corpora dictionary\n",
            "Dictionary(36544 unique tokens: ['-', 'advantage', 'advice', 'anniversary', 'aveda']...)\n"
          ]
        },
        {
          "output_type": "execute_result",
          "data": {
            "text/plain": [
              "['special',\n",
              " 'charge',\n",
              " 'diamond',\n",
              " 'member',\n",
              " 'chain',\n",
              " '20th',\n",
              " 'anniversary',\n",
              " 'seattle',\n",
              " 'suite',\n",
              " 'extra',\n",
              " 'website',\n",
              " 'description',\n",
              " 'bedroom',\n",
              " 'bathroom',\n",
              " 'standard',\n",
              " 'hotel',\n",
              " 'room',\n",
              " 'reservation',\n",
              " 'desk',\n",
              " 'thing',\n",
              " 'couch',\n",
              " 'ect',\n",
              " 'desk',\n",
              " 'clerk',\n",
              " 'mixed',\n",
              " 'suite',\n",
              " 'website',\n",
              " 'free',\n",
              " 'breakfast',\n",
              " 'embassy',\n",
              " 'suit',\n",
              " 'room',\n",
              " 'bathroom',\n",
              " 'bedroom',\n",
              " 'call',\n",
              " 'suite',\n",
              " 'day',\n",
              " 'stay',\n",
              " 'offer',\n",
              " 'false',\n",
              " 'advertising',\n",
              " 'guest',\n",
              " 'website',\n",
              " 'email',\n",
              " 'failure',\n",
              " 'suite',\n",
              " 'advertised',\n",
              " 'website',\n",
              " 'reservation',\n",
              " 'description',\n",
              " 'hard',\n",
              " 'copy',\n",
              " 'reservation',\n",
              " 'printout',\n",
              " 'website',\n",
              " 'desk',\n",
              " 'manager',\n",
              " 'duty',\n",
              " 'crime',\n",
              " 'reply',\n",
              " 'solution',\n",
              " 'email',\n",
              " 'trip',\n",
              " 'guest',\n",
              " 'survey',\n",
              " 'crime',\n",
              " 'follow',\n",
              " 'email',\n",
              " 'mail',\n",
              " 'staff',\n",
              " 'helpful',\n",
              " 'desk',\n",
              " 'good',\n",
              " 'breakfast',\n",
              " 'spot',\n",
              " 'neighborhood',\n",
              " 'hood',\n",
              " 'police',\n",
              " 'hotel',\n",
              " 'good',\n",
              " 'breakfast',\n",
              " 'spot',\n",
              " 'seattle',\n",
              " 'block',\n",
              " 'convenient',\n",
              " 'hotel',\n",
              " 'know',\n",
              " 'late',\n",
              " 'night',\n",
              " 'run',\n",
              " 'bellman',\n",
              " 'busy',\n",
              " 'cell',\n",
              " 'phone',\n",
              " 'help',\n",
              " 'arrival',\n",
              " 'hotel',\n",
              " 'inform',\n",
              " '20th',\n",
              " 'anniversary',\n",
              " 'half',\n",
              " 'picky',\n",
              " 'sure',\n",
              " 'good',\n",
              " 'nice',\n",
              " 'email',\n",
              " 'bottle',\n",
              " 'champagne',\n",
              " 'chocolate',\n",
              " 'strawberry',\n",
              " 'room',\n",
              " 'arrival',\n",
              " 'celebrate',\n",
              " 'needed',\n",
              " 'foam',\n",
              " 'pillow',\n",
              " 'arrival',\n",
              " 'police',\n",
              " 'champagne',\n",
              " 'strawberry',\n",
              " 'police',\n",
              " 'foam',\n",
              " 'great',\n",
              " 'room',\n",
              " 'view',\n",
              " 'alley',\n",
              " 'high',\n",
              " 'rise',\n",
              " 'good',\n",
              " 'well',\n",
              " 'housekeeping',\n",
              " 'staff',\n",
              " 'clean',\n",
              " 'room',\n",
              " 'property',\n",
              " 'impressed',\n",
              " 'left',\n",
              " 'morning',\n",
              " 'shopping',\n",
              " 'room',\n",
              " 'short',\n",
              " 'trip',\n",
              " 'hour',\n",
              " 'bed',\n",
              " 'good',\n",
              " 'ac',\n",
              " 'heat',\n",
              " 'control',\n",
              " 'inch',\n",
              " 'screen',\n",
              " 'green',\n",
              " 'shine',\n",
              " 'eye',\n",
              " 'night',\n",
              " 'light',\n",
              " 'sensitive',\n",
              " 'tape',\n",
              " 'controls.this',\n",
              " 'hotel',\n",
              " 'clean',\n",
              " 'business',\n",
              " 'hotel',\n",
              " 'super',\n",
              " 'high',\n",
              " 'rate',\n",
              " 'well',\n",
              " 'chain',\n",
              " 'hotel',\n",
              " 'seattle']"
            ]
          },
          "metadata": {},
          "execution_count": 34
        }
      ],
      "source": [
        "#The two main inputs to the LDA topic model are the dictionary(id2word) and the corpus. Let’s create them.\n",
        "\n",
        "# Gensim\n",
        "import gensim\n",
        "import gensim.corpora as corpora\n",
        "from gensim.utils import simple_preprocess\n",
        "from gensim.models import CoherenceModel\n",
        "\n",
        "# Plotting tools\n",
        "import pyLDAvis\n",
        "import pyLDAvis.gensim_models  # don't skip this\n",
        "import matplotlib.pyplot as plt\n",
        "%matplotlib inline\n",
        "\n",
        "\n",
        "# Create Dictionary\n",
        "id2word = corpora.Dictionary(reviews_2)\n",
        "print (\"Please preview the corpora dictionary\")\n",
        "print (id2word)\n",
        "\n",
        "# Create Corpus\n",
        "texts = reviews_2\n",
        "reviews_2[1]"
      ]
    },
    {
      "cell_type": "code",
      "execution_count": 35,
      "metadata": {
        "colab": {
          "base_uri": "https://localhost:8080/"
        },
        "id": "RzcoEQ3Oc-r2",
        "outputId": "f7cab411-c4da-4dc7-a101-13577ac9c695"
      },
      "outputs": [
        {
          "output_type": "stream",
          "name": "stdout",
          "text": [
            "Please preview the document frequency\n",
            "[(11, 1), (26, 1), (35, 1), (47, 1), (64, 1), (115, 1), (121, 1), (132, 1), (198, 1), (214, 1), (376, 1), (386, 1), (416, 1), (769, 1), (889, 1), (1151, 1), (1400, 1)]\n"
          ]
        }
      ],
      "source": [
        "# Term Document Frequency\n",
        "corpus = [id2word.doc2bow(text) for text in texts]\n",
        "print (\"Please preview the document frequency\")\n",
        "print (corpus[200])"
      ]
    },
    {
      "cell_type": "code",
      "execution_count": 37,
      "metadata": {
        "colab": {
          "base_uri": "https://localhost:8080/"
        },
        "id": "nK52DQWYdAHB",
        "outputId": "01001022-e11a-46f3-a412-209789b75aff"
      },
      "outputs": [
        {
          "output_type": "stream",
          "name": "stdout",
          "text": [
            "Coherence Score:0.42680251890807525 RS : 1 \n",
            "Coherence Score:0.43341907765466314 RS : 2 \n",
            "Coherence Score:0.42332441072991484 RS : 3 \n",
            "Coherence Score:0.4015678338795065 RS : 4 \n",
            "The ideal coherence score 0.43341907765466314 corresponds to random state 2 \n"
          ]
        }
      ],
      "source": [
        "# Build LDA model with 12 Topics choosing Random State as 42\n",
        "\n",
        "lda_model = gensim.models.ldamodel.LdaModel(corpus=corpus,\n",
        "                                       id2word=id2word,\n",
        "                                       num_topics=12, \n",
        "                                       random_state=4,\n",
        "                                       passes=10,\n",
        "                                       per_word_topics=True)\n",
        "\n",
        "# Build LDA model and find the ideal random state when the no of topics is 12 by running random state over 1 to 100.\n",
        "maxv = 0\n",
        "maxrs = 0\n",
        "for rs in range(1,5):\n",
        "    lda_model = gensim.models.ldamodel.LdaModel(corpus=corpus,\n",
        "                                           id2word=id2word,\n",
        "                                           num_topics=12, \n",
        "                                           random_state=rs,\n",
        "                                           passes=10,\n",
        "                                           per_word_topics=True)\n",
        "    coherence_model_lda = CoherenceModel(model=lda_model, texts=reviews_2, dictionary=id2word, coherence='c_v')\n",
        "    coherence_lda = coherence_model_lda.get_coherence()\n",
        "    print ('Coherence Score:{} RS : {} '.format(coherence_lda,rs))\n",
        "    if coherence_lda > maxv:\n",
        "        maxv = coherence_lda\n",
        "        maxrs = rs \n",
        "print (\"The ideal coherence score {} corresponds to random state {} \".format(maxv,maxrs))"
      ]
    },
    {
      "cell_type": "code",
      "source": [
        "topics = lda_model.show_topics(formatted=False)\n",
        "topic_id = [t[0] for t in topics]\n",
        "print (topic_id)\n",
        "top_terms = []\n",
        "for topic in topics:\n",
        "    top_terms.append([term[0] for term in topic[1]])\n",
        "    \n",
        "topic_df = pd.DataFrame({'Topic ID': topic_id, 'Top Terms':top_terms})\n",
        "topic_df=topic_df.sort_values(by=[topic_df.columns[0]])\n",
        "topic_df.style.hide_index()"
      ],
      "metadata": {
        "colab": {
          "base_uri": "https://localhost:8080/",
          "height": 380
        },
        "id": "1dCECBD2by9c",
        "outputId": "e45d3010-a6aa-413c-88e8-86a9bda14daa"
      },
      "execution_count": 44,
      "outputs": [
        {
          "output_type": "stream",
          "name": "stdout",
          "text": [
            "[1, 2, 5, 6, 4, 11, 0, 9, 3, 10]\n"
          ]
        },
        {
          "output_type": "execute_result",
          "data": {
            "text/plain": [
              "<pandas.io.formats.style.Styler at 0x7f5028c41450>"
            ],
            "text/html": [
              "<style type=\"text/css\">\n",
              "</style>\n",
              "<table id=\"T_7c87f_\" class=\"dataframe\">\n",
              "  <thead>\n",
              "    <tr>\n",
              "      <th class=\"col_heading level0 col0\" >Topic ID</th>\n",
              "      <th class=\"col_heading level0 col1\" >Top Terms</th>\n",
              "    </tr>\n",
              "  </thead>\n",
              "  <tbody>\n",
              "    <tr>\n",
              "      <td id=\"T_7c87f_row0_col0\" class=\"data row0 col0\" >0</td>\n",
              "      <td id=\"T_7c87f_row0_col1\" class=\"data row0 col1\" >['room', 'space', 'crime', 'police', 'day', 'time', 'hotel', 'drug', 'service', 'staff']</td>\n",
              "    </tr>\n",
              "    <tr>\n",
              "      <td id=\"T_7c87f_row1_col0\" class=\"data row1 col0\" >1</td>\n",
              "      <td id=\"T_7c87f_row1_col1\" class=\"data row1 col1\" >['apartment', 'taxi', 'executive', 'hyatt', 'driver', 'bahn', 'road', 'lounge', 'min', 'bus']</td>\n",
              "    </tr>\n",
              "    <tr>\n",
              "      <td id=\"T_7c87f_row2_col0\" class=\"data row2 col0\" >2</td>\n",
              "      <td id=\"T_7c87f_row2_col1\" class=\"data row2 col1\" >['hotel', 'service', 'property', 'star', 'high', 'quality', 'business', 'rate', 'villa', 'guest']</td>\n",
              "    </tr>\n",
              "    <tr>\n",
              "      <td id=\"T_7c87f_row3_col0\" class=\"data row3 col0\" >3</td>\n",
              "      <td id=\"T_7c87f_row3_col1\" class=\"data row3 col1\" >['room', 'hotel', 'space', 'bed', 'night', 'floor', 'bathroom', 'nice', 'crime', 'police']</td>\n",
              "    </tr>\n",
              "    <tr>\n",
              "      <td id=\"T_7c87f_row4_col0\" class=\"data row4 col0\" >4</td>\n",
              "      <td id=\"T_7c87f_row4_col1\" class=\"data row4 col1\" >['breakfast', 'hotel', 'free', 'internet', 'coffee', 'room', 'good', 'day', 'minute', 'access']</td>\n",
              "    </tr>\n",
              "    <tr>\n",
              "      <td id=\"T_7c87f_row5_col0\" class=\"data row5 col0\" >5</td>\n",
              "      <td id=\"T_7c87f_row5_col1\" class=\"data row5 col1\" >['rice', 'animation', 'palace', 'pork', 'ubud', 'bean', 'golf', 'soup', 'flea', 'latin']</td>\n",
              "    </tr>\n",
              "    <tr>\n",
              "      <td id=\"T_7c87f_row6_col0\" class=\"data row6 col0\" >6</td>\n",
              "      <td id=\"T_7c87f_row6_col1\" class=\"data row6 col1\" >['hotel', 'room', 'great', 'good', 'staff', 'location', 'clean', 'excellent', 'nice', 'night']</td>\n",
              "    </tr>\n",
              "    <tr>\n",
              "      <td id=\"T_7c87f_row7_col0\" class=\"data row7 col0\" >9</td>\n",
              "      <td id=\"T_7c87f_row7_col1\" class=\"data row7 col1\" >['pool', 'area', 'beach', 'restaurant', 'food', 'bar', '_', 'nice', 'spa', 'club']</td>\n",
              "    </tr>\n",
              "    <tr>\n",
              "      <td id=\"T_7c87f_row8_col0\" class=\"data row8 col0\" >10</td>\n",
              "      <td id=\"T_7c87f_row8_col1\" class=\"data row8 col1\" >['resort', 'beach', 'good', 'food', 'pool', 'water', 'great', 'nice', 'bar', 'people']</td>\n",
              "    </tr>\n",
              "    <tr>\n",
              "      <td id=\"T_7c87f_row9_col0\" class=\"data row9 col0\" >11</td>\n",
              "      <td id=\"T_7c87f_row9_col1\" class=\"data row9 col1\" >['great', 'time', 'staff', 'food', 'day', 'service', 'drug', 'good', 'amazing', 'wonderful']</td>\n",
              "    </tr>\n",
              "  </tbody>\n",
              "</table>\n"
            ]
          },
          "metadata": {},
          "execution_count": 44
        }
      ]
    },
    {
      "cell_type": "code",
      "source": [
        "topics = lda_model.show_topics(formatted=False)\n",
        "topics[0]"
      ],
      "metadata": {
        "colab": {
          "base_uri": "https://localhost:8080/"
        },
        "id": "9hs6sxLzczjp",
        "outputId": "871eec95-a806-44a6-f1ab-e084a1571fdd"
      },
      "execution_count": 49,
      "outputs": [
        {
          "output_type": "execute_result",
          "data": {
            "text/plain": [
              "(7,\n",
              " [('florence', 0.02062972),\n",
              "  ('terrace', 0.010266499),\n",
              "  ('mate', 0.008745587),\n",
              "  ('ponte', 0.007344755),\n",
              "  ('elegant', 0.006409),\n",
              "  ('barcelona', 0.006161775),\n",
              "  ('street', 0.0049961046),\n",
              "  ('gay', 0.004860801),\n",
              "  ('eiffel', 0.004691986),\n",
              "  ('rambla', 0.0046285116)])"
            ]
          },
          "metadata": {},
          "execution_count": 49
        }
      ]
    },
    {
      "cell_type": "code",
      "source": [
        "maxrs = [39,22]\n",
        "no_t = [6,12]\n",
        "coherence_lda = [0.622733, 0.565889]\n",
        "result_df = pd.DataFrame({'No of topics': no_t, 'Best Random State': maxrs , 'Coherence Score': coherence_lda})\n",
        "result_df.style.hide_index()\n",
        "result_df"
      ],
      "metadata": {
        "colab": {
          "base_uri": "https://localhost:8080/",
          "height": 112
        },
        "id": "to2p9DpQdSuH",
        "outputId": "b75914c8-1400-4983-e6f4-e2bd560c7240"
      },
      "execution_count": 50,
      "outputs": [
        {
          "output_type": "execute_result",
          "data": {
            "text/plain": [
              "   No of topics  Best Random State  Coherence Score\n",
              "0             6                 39         0.622733\n",
              "1            12                 22         0.565889"
            ],
            "text/html": [
              "\n",
              "  <div id=\"df-4d34749b-6db0-4523-959f-221e7e50084d\">\n",
              "    <div class=\"colab-df-container\">\n",
              "      <div>\n",
              "<style scoped>\n",
              "    .dataframe tbody tr th:only-of-type {\n",
              "        vertical-align: middle;\n",
              "    }\n",
              "\n",
              "    .dataframe tbody tr th {\n",
              "        vertical-align: top;\n",
              "    }\n",
              "\n",
              "    .dataframe thead th {\n",
              "        text-align: right;\n",
              "    }\n",
              "</style>\n",
              "<table border=\"1\" class=\"dataframe\">\n",
              "  <thead>\n",
              "    <tr style=\"text-align: right;\">\n",
              "      <th></th>\n",
              "      <th>No of topics</th>\n",
              "      <th>Best Random State</th>\n",
              "      <th>Coherence Score</th>\n",
              "    </tr>\n",
              "  </thead>\n",
              "  <tbody>\n",
              "    <tr>\n",
              "      <th>0</th>\n",
              "      <td>6</td>\n",
              "      <td>39</td>\n",
              "      <td>0.622733</td>\n",
              "    </tr>\n",
              "    <tr>\n",
              "      <th>1</th>\n",
              "      <td>12</td>\n",
              "      <td>22</td>\n",
              "      <td>0.565889</td>\n",
              "    </tr>\n",
              "  </tbody>\n",
              "</table>\n",
              "</div>\n",
              "      <button class=\"colab-df-convert\" onclick=\"convertToInteractive('df-4d34749b-6db0-4523-959f-221e7e50084d')\"\n",
              "              title=\"Convert this dataframe to an interactive table.\"\n",
              "              style=\"display:none;\">\n",
              "        \n",
              "  <svg xmlns=\"http://www.w3.org/2000/svg\" height=\"24px\"viewBox=\"0 0 24 24\"\n",
              "       width=\"24px\">\n",
              "    <path d=\"M0 0h24v24H0V0z\" fill=\"none\"/>\n",
              "    <path d=\"M18.56 5.44l.94 2.06.94-2.06 2.06-.94-2.06-.94-.94-2.06-.94 2.06-2.06.94zm-11 1L8.5 8.5l.94-2.06 2.06-.94-2.06-.94L8.5 2.5l-.94 2.06-2.06.94zm10 10l.94 2.06.94-2.06 2.06-.94-2.06-.94-.94-2.06-.94 2.06-2.06.94z\"/><path d=\"M17.41 7.96l-1.37-1.37c-.4-.4-.92-.59-1.43-.59-.52 0-1.04.2-1.43.59L10.3 9.45l-7.72 7.72c-.78.78-.78 2.05 0 2.83L4 21.41c.39.39.9.59 1.41.59.51 0 1.02-.2 1.41-.59l7.78-7.78 2.81-2.81c.8-.78.8-2.07 0-2.86zM5.41 20L4 18.59l7.72-7.72 1.47 1.35L5.41 20z\"/>\n",
              "  </svg>\n",
              "      </button>\n",
              "      \n",
              "  <style>\n",
              "    .colab-df-container {\n",
              "      display:flex;\n",
              "      flex-wrap:wrap;\n",
              "      gap: 12px;\n",
              "    }\n",
              "\n",
              "    .colab-df-convert {\n",
              "      background-color: #E8F0FE;\n",
              "      border: none;\n",
              "      border-radius: 50%;\n",
              "      cursor: pointer;\n",
              "      display: none;\n",
              "      fill: #1967D2;\n",
              "      height: 32px;\n",
              "      padding: 0 0 0 0;\n",
              "      width: 32px;\n",
              "    }\n",
              "\n",
              "    .colab-df-convert:hover {\n",
              "      background-color: #E2EBFA;\n",
              "      box-shadow: 0px 1px 2px rgba(60, 64, 67, 0.3), 0px 1px 3px 1px rgba(60, 64, 67, 0.15);\n",
              "      fill: #174EA6;\n",
              "    }\n",
              "\n",
              "    [theme=dark] .colab-df-convert {\n",
              "      background-color: #3B4455;\n",
              "      fill: #D2E3FC;\n",
              "    }\n",
              "\n",
              "    [theme=dark] .colab-df-convert:hover {\n",
              "      background-color: #434B5C;\n",
              "      box-shadow: 0px 1px 3px 1px rgba(0, 0, 0, 0.15);\n",
              "      filter: drop-shadow(0px 1px 2px rgba(0, 0, 0, 0.3));\n",
              "      fill: #FFFFFF;\n",
              "    }\n",
              "  </style>\n",
              "\n",
              "      <script>\n",
              "        const buttonEl =\n",
              "          document.querySelector('#df-4d34749b-6db0-4523-959f-221e7e50084d button.colab-df-convert');\n",
              "        buttonEl.style.display =\n",
              "          google.colab.kernel.accessAllowed ? 'block' : 'none';\n",
              "\n",
              "        async function convertToInteractive(key) {\n",
              "          const element = document.querySelector('#df-4d34749b-6db0-4523-959f-221e7e50084d');\n",
              "          const dataTable =\n",
              "            await google.colab.kernel.invokeFunction('convertToInteractive',\n",
              "                                                     [key], {});\n",
              "          if (!dataTable) return;\n",
              "\n",
              "          const docLinkHtml = 'Like what you see? Visit the ' +\n",
              "            '<a target=\"_blank\" href=https://colab.research.google.com/notebooks/data_table.ipynb>data table notebook</a>'\n",
              "            + ' to learn more about interactive tables.';\n",
              "          element.innerHTML = '';\n",
              "          dataTable['output_type'] = 'display_data';\n",
              "          await google.colab.output.renderOutput(dataTable, element);\n",
              "          const docLink = document.createElement('div');\n",
              "          docLink.innerHTML = docLinkHtml;\n",
              "          element.appendChild(docLink);\n",
              "        }\n",
              "      </script>\n",
              "    </div>\n",
              "  </div>\n",
              "  "
            ]
          },
          "metadata": {},
          "execution_count": 50
        }
      ]
    }
  ],
  "metadata": {
    "colab": {
      "provenance": []
    },
    "kernelspec": {
      "display_name": "Python 3",
      "name": "python3"
    },
    "language_info": {
      "name": "python"
    }
  },
  "nbformat": 4,
  "nbformat_minor": 0
}