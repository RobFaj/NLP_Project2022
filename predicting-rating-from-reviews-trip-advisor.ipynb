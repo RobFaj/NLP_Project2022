{
 "cells": [
  {
   "cell_type": "code",
   "execution_count": 1,
   "metadata": {},
   "outputs": [],
   "source": [
    "#!pip install wordcloud"
   ]
  },
  {
   "cell_type": "code",
   "execution_count": 2,
   "metadata": {},
   "outputs": [],
   "source": [
    "#!pip install spacy"
   ]
  },
  {
   "cell_type": "code",
   "execution_count": 3,
   "metadata": {},
   "outputs": [],
   "source": [
    "import spacy"
   ]
  },
  {
   "cell_type": "code",
   "execution_count": 4,
   "metadata": {
    "_cell_guid": "b1076dfc-b9ad-4769-8c92-a6c4dae69d19",
    "_uuid": "8f2839f25d086af736a60e9eeb907d3b93b6e0e5",
    "papermill": {
     "duration": 0.044663,
     "end_time": "2022-06-29T00:54:51.629441",
     "exception": false,
     "start_time": "2022-06-29T00:54:51.584778",
     "status": "completed"
    },
    "tags": []
   },
   "outputs": [],
   "source": [
    "# This Python 3 environment comes with many helpful analytics libraries installed\n",
    "# It is defined by the kaggle/python Docker image: https://github.com/kaggle/docker-python\n",
    "# For example, here's several helpful packages to load\n",
    "\n",
    "import numpy as np # linear algebra\n",
    "import pandas as pd # data processing, CSV file I/O (e.g. pd.read_csv)\n",
    "\n",
    "# Input data files are available in the read-only \"../input/\" directory\n",
    "# For example, running this (by clicking run or pressing Shift+Enter) will list all files under the input directory\n",
    "\n",
    "import os\n",
    "for dirname, _, filenames in os.walk('/Documents/UNT NLP Course/'):\n",
    "    for filename in filenames:\n",
    "        print(os.path.join(dirname, filename))\n",
    "\n",
    "# You can write up to 20GB to the current directory (/kaggle/working/) that gets preserved as output when you create a version using \"Save & Run All\" \n",
    "# You can also write temporary files to /kaggle/temp/, but they won't be saved outside of the current session"
   ]
  },
  {
   "cell_type": "code",
   "execution_count": 35,
   "metadata": {
    "_cell_guid": "79c7e3d0-c299-4dcb-8224-4455121ee9b0",
    "_uuid": "d629ff2d2480ee46fbb7e2d37f6b5fab8052498a",
    "papermill": {
     "duration": 0.314615,
     "end_time": "2022-06-29T00:54:51.965224",
     "exception": false,
     "start_time": "2022-06-29T00:54:51.650609",
     "status": "completed"
    },
    "tags": []
   },
   "outputs": [
    {
     "data": {
      "text/html": [
       "<div>\n",
       "<style scoped>\n",
       "    .dataframe tbody tr th:only-of-type {\n",
       "        vertical-align: middle;\n",
       "    }\n",
       "\n",
       "    .dataframe tbody tr th {\n",
       "        vertical-align: top;\n",
       "    }\n",
       "\n",
       "    .dataframe thead th {\n",
       "        text-align: right;\n",
       "    }\n",
       "</style>\n",
       "<table border=\"1\" class=\"dataframe\">\n",
       "  <thead>\n",
       "    <tr style=\"text-align: right;\">\n",
       "      <th></th>\n",
       "      <th>Review</th>\n",
       "      <th>Rating</th>\n",
       "    </tr>\n",
       "  </thead>\n",
       "  <tbody>\n",
       "    <tr>\n",
       "      <th>0</th>\n",
       "      <td>nice hotel expensive parking got good deal stay hotel anniversary, arrived late evening took advice previous reviews did valet parking, check quick easy, little disappointed non-existent view room room clean nice size, bed comfortable woke stiff neck high pillows, not soundproof like heard music room night morning loud bangs doors opening closing hear people talking hallway, maybe just noisy n...</td>\n",
       "      <td>4</td>\n",
       "    </tr>\n",
       "    <tr>\n",
       "      <th>1</th>\n",
       "      <td>ok nothing special charge diamond member hilton decided chain shot 20th anniversary seattle, start booked suite paid extra website description not, suite bedroom bathroom standard hotel room, took printed reservation desk showed said things like tv couch ect desk clerk told oh mixed suites description kimpton website sorry free breakfast, got kidding, embassy suits sitting room bathroom bedroo...</td>\n",
       "      <td>2</td>\n",
       "    </tr>\n",
       "    <tr>\n",
       "      <th>2</th>\n",
       "      <td>nice rooms not 4* experience hotel monaco seattle good hotel n't 4* level.positives large bathroom mediterranean suite comfortable bed pillowsattentive housekeeping staffnegatives ac unit malfunctioned stay desk disorganized, missed 3 separate wakeup calls, concierge busy hard touch, did n't provide guidance special requests.tv hard use ipod sound dock suite non functioning. decided book medit...</td>\n",
       "      <td>3</td>\n",
       "    </tr>\n",
       "    <tr>\n",
       "      <th>3</th>\n",
       "      <td>unique, great stay, wonderful time hotel monaco, location excellent short stroll main downtown shopping area, pet friendly room showed no signs animal hair smells, monaco suite sleeping area big striped curtains pulled closed nice touch felt cosy, goldfish named brandi enjoyed, did n't partake free wine coffee/tea service lobby thought great feature, great staff friendly, free wireless interne...</td>\n",
       "      <td>5</td>\n",
       "    </tr>\n",
       "    <tr>\n",
       "      <th>4</th>\n",
       "      <td>great stay great stay, went seahawk game awesome, downfall view building did n't complain, room huge staff helpful, booked hotels website seahawk package, no charge parking got voucher taxi, problem taxi driver did n't want accept voucher barely spoke english, funny thing speak arabic called started making comments girlfriend cell phone buddy, took second realize just said fact speak language ...</td>\n",
       "      <td>5</td>\n",
       "    </tr>\n",
       "  </tbody>\n",
       "</table>\n",
       "</div>"
      ],
      "text/plain": [
       "                                                                                                                                                                                                                                                                                                                                                                                                            Review  \\\n",
       "0  nice hotel expensive parking got good deal stay hotel anniversary, arrived late evening took advice previous reviews did valet parking, check quick easy, little disappointed non-existent view room room clean nice size, bed comfortable woke stiff neck high pillows, not soundproof like heard music room night morning loud bangs doors opening closing hear people talking hallway, maybe just noisy n...   \n",
       "1  ok nothing special charge diamond member hilton decided chain shot 20th anniversary seattle, start booked suite paid extra website description not, suite bedroom bathroom standard hotel room, took printed reservation desk showed said things like tv couch ect desk clerk told oh mixed suites description kimpton website sorry free breakfast, got kidding, embassy suits sitting room bathroom bedroo...   \n",
       "2  nice rooms not 4* experience hotel monaco seattle good hotel n't 4* level.positives large bathroom mediterranean suite comfortable bed pillowsattentive housekeeping staffnegatives ac unit malfunctioned stay desk disorganized, missed 3 separate wakeup calls, concierge busy hard touch, did n't provide guidance special requests.tv hard use ipod sound dock suite non functioning. decided book medit...   \n",
       "3  unique, great stay, wonderful time hotel monaco, location excellent short stroll main downtown shopping area, pet friendly room showed no signs animal hair smells, monaco suite sleeping area big striped curtains pulled closed nice touch felt cosy, goldfish named brandi enjoyed, did n't partake free wine coffee/tea service lobby thought great feature, great staff friendly, free wireless interne...   \n",
       "4  great stay great stay, went seahawk game awesome, downfall view building did n't complain, room huge staff helpful, booked hotels website seahawk package, no charge parking got voucher taxi, problem taxi driver did n't want accept voucher barely spoke english, funny thing speak arabic called started making comments girlfriend cell phone buddy, took second realize just said fact speak language ...   \n",
       "\n",
       "   Rating  \n",
       "0       4  \n",
       "1       2  \n",
       "2       3  \n",
       "3       5  \n",
       "4       5  "
      ]
     },
     "execution_count": 35,
     "metadata": {},
     "output_type": "execute_result"
    }
   ],
   "source": [
    "hotel=pd.read_csv(\"tripadvisor_hotel_reviews.csv\")\n",
    "hotel.head()"
   ]
  },
  {
   "cell_type": "code",
   "execution_count": 5,
   "metadata": {},
   "outputs": [],
   "source": [
    "#!pip install --upgrade xarray"
   ]
  },
  {
   "cell_type": "code",
   "execution_count": 4,
   "metadata": {},
   "outputs": [],
   "source": [
    "#!pip install plotly"
   ]
  },
  {
   "cell_type": "code",
   "execution_count": 36,
   "metadata": {
    "papermill": {
     "duration": 7.451711,
     "end_time": "2022-06-29T00:54:59.438372",
     "exception": false,
     "start_time": "2022-06-29T00:54:51.986661",
     "status": "completed"
    },
    "tags": []
   },
   "outputs": [],
   "source": [
    "from wordcloud import WordCloud,STOPWORDS\n",
    "from sklearn.metrics import accuracy_score,classification_report\n",
    "from sklearn.model_selection import train_test_split\n",
    "from tensorflow.keras.preprocessing.text import Tokenizer\n",
    "from tensorflow.keras.preprocessing.sequence import pad_sequences\n",
    "from tensorflow.keras.models import Sequential\n",
    "from tensorflow.keras.layers import Dense,LSTM,Flatten,Dropout,Embedding\n",
    "from tensorflow.keras.utils import to_categorical\n",
    "import matplotlib.pyplot as plt\n",
    "import seaborn as sns\n",
    "import plotly.express as px\n",
    "from nltk.stem import WordNetLemmatizer\n",
    "from collections import Counter\n",
    "import re\n",
    "\n",
    "pd.set_option('max_colwidth', 400)"
   ]
  },
  {
   "cell_type": "code",
   "execution_count": 130,
   "metadata": {
    "papermill": {
     "duration": 0.038639,
     "end_time": "2022-06-29T00:54:59.498235",
     "exception": false,
     "start_time": "2022-06-29T00:54:59.459596",
     "status": "completed"
    },
    "tags": []
   },
   "outputs": [],
   "source": [
    "def unique_words(word,rating=None):\n",
    "    words=[]\n",
    "    stopwords=set(STOPWORDS)\n",
    "    some_more_common_words=set([' t ',' n '])\n",
    "    stopwords.update(some_more_common_words)\n",
    "    copy=hotel['Review']\n",
    "    if rating!=None:\n",
    "        copy=hotel[hotel['Rating']==rating]['Review']\n",
    "    for y in copy:\n",
    "        s=y.split(\" \")\n",
    "        for x in s:\n",
    "            if x.isalpha() and x not in stopwords:\n",
    "                words.append(x)\n",
    "    return np.array(Counter(words).most_common(word))"
   ]
  },
  {
   "cell_type": "code",
   "execution_count": 131,
   "metadata": {
    "papermill": {
     "duration": 2.073658,
     "end_time": "2022-06-29T00:55:01.592599",
     "exception": false,
     "start_time": "2022-06-29T00:54:59.518941",
     "status": "completed"
    },
    "tags": []
   },
   "outputs": [
    {
     "data": {
      "image/png": "[encoded data removed]",
      "text/plain": [
       "<Figure size 1440x720 with 5 Axes>"
      ]
     },
     "metadata": {
      "needs_background": "light"
     },
     "output_type": "display_data"
    }
   ],
   "source": [
    "fig=plt.figure(figsize=(20,10))\n",
    "counts=Counter(hotel['Rating'])\n",
    "for rating in range(1,6):\n",
    "    rated=unique_words(word=10,rating=rating)\n",
    "    plt.subplot(2,3,rating)\n",
    "    plt.xlabel('Word Frequency')\n",
    "    plt.xlim([0,1.2])\n",
    "    sns.barplot(y=rated[:,0],x=rated[:,1].astype(int)/counts[rating])\n",
    "plt.show()"
   ]
  },
  {
   "cell_type": "code",
   "execution_count": 132,
   "metadata": {
    "papermill": {
     "duration": 19.387906,
     "end_time": "2022-06-29T00:55:21.002461",
     "exception": false,
     "start_time": "2022-06-29T00:55:01.614555",
     "status": "completed"
    },
    "tags": []
   },
   "outputs": [
    {
     "data": {
      "text/plain": [
       "44760"
      ]
     },
     "execution_count": 132,
     "metadata": {},
     "output_type": "execute_result"
    }
   ],
   "source": [
    "s=set()\n",
    "stop=set(STOPWORDS)\n",
    "lemma=WordNetLemmatizer()\n",
    "for x in hotel['Review']:\n",
    "    x=re.sub('[^A-Za-z]',\" \",x)\n",
    "    x=x.split(\" \")\n",
    "    for w in x:\n",
    "        w=lemma.lemmatize(w)\n",
    "        if w not in stop:\n",
    "            s.add(w)\n",
    "len(s)#number of distinct words"
   ]
  },
  {
   "cell_type": "code",
   "execution_count": 133,
   "metadata": {
    "papermill": {
     "duration": 0.03306,
     "end_time": "2022-06-29T00:55:21.058428",
     "exception": false,
     "start_time": "2022-06-29T00:55:21.025368",
     "status": "completed"
    },
    "tags": []
   },
   "outputs": [],
   "source": [
    "def lemmatizer(x):\n",
    "    x=re.sub('[^A-Za-z]',' ',x)\n",
    "    s=x.split(\" \")\n",
    "    h=[]\n",
    "    for y in s:\n",
    "        y=lemma.lemmatize(y)\n",
    "        if y not in stop:\n",
    "            h.append(y)\n",
    "    return \" \".join(h)      "
   ]
  },
  {
   "cell_type": "code",
   "execution_count": 134,
   "metadata": {
    "papermill": {
     "duration": 16.539846,
     "end_time": "2022-06-29T00:55:37.620976",
     "exception": false,
     "start_time": "2022-06-29T00:55:21.081130",
     "status": "completed"
    },
    "tags": []
   },
   "outputs": [],
   "source": [
    "hotel['lemm_text']=hotel['Review'].apply(lambda x: lemmatizer(x))"
   ]
  },
  {
   "cell_type": "code",
   "execution_count": 135,
   "metadata": {
    "papermill": {
     "duration": 0.03631,
     "end_time": "2022-06-29T00:55:37.679851",
     "exception": false,
     "start_time": "2022-06-29T00:55:37.643541",
     "status": "completed"
    },
    "tags": []
   },
   "outputs": [
    {
     "data": {
      "text/plain": [
       "0        nice hotel expensive parking got good deal stay hotel anniversary  arrived late evening took advice previous review valet parking  check quick easy  little disappointed non existent view room room clean nice size  bed comfortable woke stiff neck high pillow  soundproof heard music room night morning loud bang door opening closing hear people talking hallway  maybe noisy neighbor  aveda bath pr...\n",
       "1        ok nothing special charge diamond member hilton decided chain shot   th anniversary seattle  start booked suite paid extra website description  suite bedroom bathroom standard hotel room  took printed reservation desk showed said thing tv couch ect desk clerk told oh mixed suite description kimpton website sorry free breakfast  got kidding  embassy suit sitting room bathroom bedroom unlike kim...\n",
       "2        nice room    experience hotel monaco seattle good hotel n t    level positive large bathroom mediterranean suite comfortable bed pillowsattentive housekeeping staffnegatives ac unit malfunctioned stay desk disorganized  missed   separate wakeup call  concierge busy hard touch  n t provide guidance special request tv hard use ipod sound dock suite non functioning  decided book mediterranean sui...\n",
       "3        unique  great stay  wonderful time hotel monaco  location excellent short stroll main downtown shopping area  pet friendly room showed sign animal hair smell  monaco suite sleeping area big striped curtain pulled closed nice touch felt cosy  goldfish named brandi enjoyed  n t partake free wine coffee tea service lobby thought great feature  great staff friendly  free wireless internet hotel wo...\n",
       "4        great stay great stay  went seahawk game awesome  downfall view building n t complain  room huge staff helpful  booked hotel website seahawk package  charge parking got voucher taxi  problem taxi driver n t want accept voucher barely spoke english  funny thing speak arabic called started making comment girlfriend cell phone buddy  took second realize said fact speak language face priceless  to...\n",
       "                                                                                                                                                                                                              ...                                                                                                                                                                                                       \n",
       "20486    best kept secret  rd time staying charm    star ca n t beat  time stayed increased esteem  bw caters business crowd stayed leisure usually weekend  rate perfect  clean green request available drop dead view space needle practically street  ask check make sure  mere walk belltown   short block choice restaurant wine spirit bar younger folk club live music pub jazz club weather permit nice hoof ...\n",
       "20487                                                                                                               great location price view hotel great quick place sight directly street space needle downtown tram science center downtown mall amenity nice indoor pool kid secure underground parking garage great restaurant room great size couple family recommend hotel visiting tostay downtown near sight   \n",
       "20488    ok look nice modern outside  desk staff n t particularly friendly  corridor dark smelt steam cleaned carpet maybe good thing  hotel right space needle thrilling pulled min walk away  unfortunately room rear view building parking lot  room space needle view hotel laundry suprising larger hotel hotel restaurant mistake menu ordering new guy think numerous item left tray room service breakfast  p...\n",
       "20489    hotel theft ruined vacation hotel opened sept         guest week  happy stumble scouting hotel apt stay booked gobcn  commented post unexpectedly cancelled arrival stuck place stay la merce festival barcelona biggest year  trying hotel time square new year eve  vacancy hotel    new    ready guest  new  hotel towel straight factory washed pilling shower  ready  entire week sept       slept prop...\n",
       "20490    people talking  ca n t believe excellent rating hotel  n t  yes patricia extremely helpful fluent language go way make welcome  said place bit dump  inexpensive hotel expensive city place bit dated institutional odor charm funeral home  walking step hotel girlfriend step condom yes condom step  lot guy hanging desk hallway  girlfriend swears house prostitution  patricia arrange taxi following ...\n",
       "Name: lemm_text, Length: 20491, dtype: object"
      ]
     },
     "metadata": {},
     "output_type": "display_data"
    }
   ],
   "source": [
    "hotel.head()\n",
    "\n",
    "display(hotel['lemm_text'])"
   ]
  },
  {
   "cell_type": "code",
   "execution_count": 136,
   "metadata": {
    "papermill": {
     "duration": 3.515364,
     "end_time": "2022-06-29T00:55:41.218031",
     "exception": false,
     "start_time": "2022-06-29T00:55:37.702667",
     "status": "completed"
    },
    "tags": []
   },
   "outputs": [
    {
     "data": {
      "text/plain": [
       "99.82797325655166"
      ]
     },
     "execution_count": 136,
     "metadata": {},
     "output_type": "execute_result"
    }
   ],
   "source": [
    "num_words=20000\n",
    "tokenizer=Tokenizer(num_words=num_words,oov_token='OOV')\n",
    "tokenizer.fit_on_texts(hotel['lemm_text'])\n",
    "tokenized_text=tokenizer.texts_to_sequences(hotel['lemm_text'])\n",
    "np.mean([len(x) for x in tokenized_text])"
   ]
  },
  {
   "cell_type": "code",
   "execution_count": 137,
   "metadata": {
    "papermill": {
     "duration": 0.495326,
     "end_time": "2022-06-29T00:55:41.736696",
     "exception": false,
     "start_time": "2022-06-29T00:55:41.241370",
     "status": "completed"
    },
    "tags": []
   },
   "outputs": [],
   "source": [
    "length=100\n",
    "tokenized_text=pad_sequences(tokenized_text,length,padding='post',truncating='post')\n",
    "output=to_categorical(hotel['Rating'])\n",
    "output=output[:,1:]"
   ]
  },
  {
   "cell_type": "markdown",
   "metadata": {},
   "source": [
    "## Explore NlP Text get word frequency"
   ]
  },
  {
   "cell_type": "code",
   "execution_count": 138,
   "metadata": {},
   "outputs": [
    {
     "data": {
      "text/html": [
       "<div>\n",
       "<style scoped>\n",
       "    .dataframe tbody tr th:only-of-type {\n",
       "        vertical-align: middle;\n",
       "    }\n",
       "\n",
       "    .dataframe tbody tr th {\n",
       "        vertical-align: top;\n",
       "    }\n",
       "\n",
       "    .dataframe thead th {\n",
       "        text-align: right;\n",
       "    }\n",
       "</style>\n",
       "<table border=\"1\" class=\"dataframe\">\n",
       "  <thead>\n",
       "    <tr style=\"text-align: right;\">\n",
       "      <th></th>\n",
       "      <th>lemmatized</th>\n",
       "    </tr>\n",
       "  </thead>\n",
       "  <tbody>\n",
       "    <tr>\n",
       "      <th>0</th>\n",
       "      <td>se be me</td>\n",
       "    </tr>\n",
       "    <tr>\n",
       "      <th>1</th>\n",
       "      <td>se me lo</td>\n",
       "    </tr>\n",
       "    <tr>\n",
       "      <th>2</th>\n",
       "      <td>caca</td>\n",
       "    </tr>\n",
       "  </tbody>\n",
       "</table>\n",
       "</div>"
      ],
      "text/plain": [
       "  lemmatized\n",
       "0   se be me\n",
       "1   se me lo\n",
       "2       caca"
      ]
     },
     "execution_count": 138,
     "metadata": {},
     "output_type": "execute_result"
    }
   ],
   "source": [
    "import pandas as pd\n",
    "import matplotlib.pyplot as plt\n",
    "\n",
    "# test dataframe\n",
    "df = pd.DataFrame({'lemmatized': ['se be me','se me lo', 'caca']})\n",
    "df"
   ]
  },
  {
   "cell_type": "code",
   "execution_count": 139,
   "metadata": {},
   "outputs": [
    {
     "data": {
      "text/html": [
       "<div>\n",
       "<style scoped>\n",
       "    .dataframe tbody tr th:only-of-type {\n",
       "        vertical-align: middle;\n",
       "    }\n",
       "\n",
       "    .dataframe tbody tr th {\n",
       "        vertical-align: top;\n",
       "    }\n",
       "\n",
       "    .dataframe thead th {\n",
       "        text-align: right;\n",
       "    }\n",
       "</style>\n",
       "<table border=\"1\" class=\"dataframe\">\n",
       "  <thead>\n",
       "    <tr style=\"text-align: right;\">\n",
       "      <th></th>\n",
       "      <th>lemmatized</th>\n",
       "      <th>count</th>\n",
       "    </tr>\n",
       "  </thead>\n",
       "  <tbody>\n",
       "    <tr>\n",
       "      <th>0</th>\n",
       "      <td>caca</td>\n",
       "      <td>1</td>\n",
       "    </tr>\n",
       "    <tr>\n",
       "      <th>1</th>\n",
       "      <td>se be me</td>\n",
       "      <td>1</td>\n",
       "    </tr>\n",
       "    <tr>\n",
       "      <th>2</th>\n",
       "      <td>se me lo</td>\n",
       "      <td>1</td>\n",
       "    </tr>\n",
       "  </tbody>\n",
       "</table>\n",
       "</div>"
      ],
      "text/plain": [
       "  lemmatized  count\n",
       "0       caca      1\n",
       "1   se be me      1\n",
       "2   se me lo      1"
      ]
     },
     "metadata": {},
     "output_type": "display_data"
    }
   ],
   "source": [
    "\n",
    "# use explode to expand the lists into separate rows\n",
    "dfe = df.lemmatized.explode().to_frame().reset_index(drop=True)\n",
    "\n",
    "# groupby the values in the column, get the count and sort\n",
    "dfg = dfe.groupby('lemmatized').lemmatized.count() \\\n",
    "                               .reset_index(name='count') \\\n",
    "                               .sort_values(['count'], ascending=False) \\\n",
    "                               .head(10).reset_index(drop=True)\n",
    "\n",
    "display(dfg)"
   ]
  },
  {
   "cell_type": "code",
   "execution_count": 140,
   "metadata": {},
   "outputs": [
    {
     "data": {
      "image/png": "[encoded data removed]",
      "text/plain": [
       "<Figure size 1440x720 with 5 Axes>"
      ]
     },
     "metadata": {
      "needs_background": "light"
     },
     "output_type": "display_data"
    }
   ],
   "source": [
    "'''\n",
    "# use explode to expand the lists into separate rows\n",
    "hotel_dfe = hotel.lemm_text.explode().to_frame().reset_index(drop=True)\n",
    "\n",
    "# groupby the values in the column, get the count and sort\n",
    "hotel_dfg = hotel_dfe.groupby('lemm_text').lemm_text.count() \\\n",
    "                               .reset_index(name='count') \\\n",
    "                               .sort_values(['count'], ascending=False) \\\n",
    "                               .head(10).reset_index(drop=True)\n",
    "\n",
    "display(hotel_dfg)\n",
    "\n",
    "'''\n",
    "\n",
    "\n",
    "fig=plt.figure(figsize=(20,10))\n",
    "counts=Counter(hotel['Rating'])\n",
    "for rating in range(1,6):\n",
    "    rated=unique_words(word=10,rating=rating)\n",
    "    plt.subplot(2,3,rating)\n",
    "    plt.xlabel('Word Frequency')\n",
    "    plt.xlim([0,1.2])\n",
    "    sns.barplot(y=rated[:,0],x=rated[:,1].astype(int)/counts[rating])\n",
    "plt.show()"
   ]
  },
  {
   "cell_type": "code",
   "execution_count": 141,
   "metadata": {},
   "outputs": [
    {
     "data": {
      "text/html": [
       "<div>\n",
       "<style scoped>\n",
       "    .dataframe tbody tr th:only-of-type {\n",
       "        vertical-align: middle;\n",
       "    }\n",
       "\n",
       "    .dataframe tbody tr th {\n",
       "        vertical-align: top;\n",
       "    }\n",
       "\n",
       "    .dataframe thead th {\n",
       "        text-align: right;\n",
       "    }\n",
       "</style>\n",
       "<table border=\"1\" class=\"dataframe\">\n",
       "  <thead>\n",
       "    <tr style=\"text-align: right;\">\n",
       "      <th></th>\n",
       "      <th>Review</th>\n",
       "      <th>Rating</th>\n",
       "      <th>lemm_text</th>\n",
       "      <th>count</th>\n",
       "    </tr>\n",
       "  </thead>\n",
       "  <tbody>\n",
       "    <tr>\n",
       "      <th>0</th>\n",
       "      <td>nice hotel expensive parking got good deal stay hotel anniversary, arrived late evening took advice previous reviews did valet parking, check quick easy, little disappointed non-existent view room room clean nice size, bed comfortable woke stiff neck high pillows, not soundproof like heard music room night morning loud bangs doors opening closing hear people talking hallway, maybe just noisy n...</td>\n",
       "      <td>4</td>\n",
       "      <td>nice hotel expensive parking got good deal stay hotel anniversary  arrived late evening took advice previous review valet parking  check quick easy  little disappointed non existent view room room clean nice size  bed comfortable woke stiff neck high pillow  soundproof heard music room night morning loud bang door opening closing hear people talking hallway  maybe noisy neighbor  aveda bath pr...</td>\n",
       "      <td>96</td>\n",
       "    </tr>\n",
       "    <tr>\n",
       "      <th>1</th>\n",
       "      <td>ok nothing special charge diamond member hilton decided chain shot 20th anniversary seattle, start booked suite paid extra website description not, suite bedroom bathroom standard hotel room, took printed reservation desk showed said things like tv couch ect desk clerk told oh mixed suites description kimpton website sorry free breakfast, got kidding, embassy suits sitting room bathroom bedroo...</td>\n",
       "      <td>2</td>\n",
       "      <td>ok nothing special charge diamond member hilton decided chain shot   th anniversary seattle  start booked suite paid extra website description  suite bedroom bathroom standard hotel room  took printed reservation desk showed said thing tv couch ect desk clerk told oh mixed suite description kimpton website sorry free breakfast  got kidding  embassy suit sitting room bathroom bedroom unlike kim...</td>\n",
       "      <td>274</td>\n",
       "    </tr>\n",
       "    <tr>\n",
       "      <th>2</th>\n",
       "      <td>nice rooms not 4* experience hotel monaco seattle good hotel n't 4* level.positives large bathroom mediterranean suite comfortable bed pillowsattentive housekeeping staffnegatives ac unit malfunctioned stay desk disorganized, missed 3 separate wakeup calls, concierge busy hard touch, did n't provide guidance special requests.tv hard use ipod sound dock suite non functioning. decided book medit...</td>\n",
       "      <td>3</td>\n",
       "      <td>nice room    experience hotel monaco seattle good hotel n t    level positive large bathroom mediterranean suite comfortable bed pillowsattentive housekeeping staffnegatives ac unit malfunctioned stay desk disorganized  missed   separate wakeup call  concierge busy hard touch  n t provide guidance special request tv hard use ipod sound dock suite non functioning  decided book mediterranean sui...</td>\n",
       "      <td>263</td>\n",
       "    </tr>\n",
       "    <tr>\n",
       "      <th>3</th>\n",
       "      <td>unique, great stay, wonderful time hotel monaco, location excellent short stroll main downtown shopping area, pet friendly room showed no signs animal hair smells, monaco suite sleeping area big striped curtains pulled closed nice touch felt cosy, goldfish named brandi enjoyed, did n't partake free wine coffee/tea service lobby thought great feature, great staff friendly, free wireless interne...</td>\n",
       "      <td>5</td>\n",
       "      <td>unique  great stay  wonderful time hotel monaco  location excellent short stroll main downtown shopping area  pet friendly room showed sign animal hair smell  monaco suite sleeping area big striped curtain pulled closed nice touch felt cosy  goldfish named brandi enjoyed  n t partake free wine coffee tea service lobby thought great feature  great staff friendly  free wireless internet hotel wo...</td>\n",
       "      <td>103</td>\n",
       "    </tr>\n",
       "    <tr>\n",
       "      <th>4</th>\n",
       "      <td>great stay great stay, went seahawk game awesome, downfall view building did n't complain, room huge staff helpful, booked hotels website seahawk package, no charge parking got voucher taxi, problem taxi driver did n't want accept voucher barely spoke english, funny thing speak arabic called started making comments girlfriend cell phone buddy, took second realize just said fact speak language ...</td>\n",
       "      <td>5</td>\n",
       "      <td>great stay great stay  went seahawk game awesome  downfall view building n t complain  room huge staff helpful  booked hotel website seahawk package  charge parking got voucher taxi  problem taxi driver n t want accept voucher barely spoke english  funny thing speak arabic called started making comment girlfriend cell phone buddy  took second realize said fact speak language face priceless  to...</td>\n",
       "      <td>223</td>\n",
       "    </tr>\n",
       "  </tbody>\n",
       "</table>\n",
       "</div>"
      ],
      "text/plain": [
       "                                                                                                                                                                                                                                                                                                                                                                                                            Review  \\\n",
       "0  nice hotel expensive parking got good deal stay hotel anniversary, arrived late evening took advice previous reviews did valet parking, check quick easy, little disappointed non-existent view room room clean nice size, bed comfortable woke stiff neck high pillows, not soundproof like heard music room night morning loud bangs doors opening closing hear people talking hallway, maybe just noisy n...   \n",
       "1  ok nothing special charge diamond member hilton decided chain shot 20th anniversary seattle, start booked suite paid extra website description not, suite bedroom bathroom standard hotel room, took printed reservation desk showed said things like tv couch ect desk clerk told oh mixed suites description kimpton website sorry free breakfast, got kidding, embassy suits sitting room bathroom bedroo...   \n",
       "2  nice rooms not 4* experience hotel monaco seattle good hotel n't 4* level.positives large bathroom mediterranean suite comfortable bed pillowsattentive housekeeping staffnegatives ac unit malfunctioned stay desk disorganized, missed 3 separate wakeup calls, concierge busy hard touch, did n't provide guidance special requests.tv hard use ipod sound dock suite non functioning. decided book medit...   \n",
       "3  unique, great stay, wonderful time hotel monaco, location excellent short stroll main downtown shopping area, pet friendly room showed no signs animal hair smells, monaco suite sleeping area big striped curtains pulled closed nice touch felt cosy, goldfish named brandi enjoyed, did n't partake free wine coffee/tea service lobby thought great feature, great staff friendly, free wireless interne...   \n",
       "4  great stay great stay, went seahawk game awesome, downfall view building did n't complain, room huge staff helpful, booked hotels website seahawk package, no charge parking got voucher taxi, problem taxi driver did n't want accept voucher barely spoke english, funny thing speak arabic called started making comments girlfriend cell phone buddy, took second realize just said fact speak language ...   \n",
       "\n",
       "   Rating  \\\n",
       "0       4   \n",
       "1       2   \n",
       "2       3   \n",
       "3       5   \n",
       "4       5   \n",
       "\n",
       "                                                                                                                                                                                                                                                                                                                                                                                                         lemm_text  \\\n",
       "0  nice hotel expensive parking got good deal stay hotel anniversary  arrived late evening took advice previous review valet parking  check quick easy  little disappointed non existent view room room clean nice size  bed comfortable woke stiff neck high pillow  soundproof heard music room night morning loud bang door opening closing hear people talking hallway  maybe noisy neighbor  aveda bath pr...   \n",
       "1  ok nothing special charge diamond member hilton decided chain shot   th anniversary seattle  start booked suite paid extra website description  suite bedroom bathroom standard hotel room  took printed reservation desk showed said thing tv couch ect desk clerk told oh mixed suite description kimpton website sorry free breakfast  got kidding  embassy suit sitting room bathroom bedroom unlike kim...   \n",
       "2  nice room    experience hotel monaco seattle good hotel n t    level positive large bathroom mediterranean suite comfortable bed pillowsattentive housekeeping staffnegatives ac unit malfunctioned stay desk disorganized  missed   separate wakeup call  concierge busy hard touch  n t provide guidance special request tv hard use ipod sound dock suite non functioning  decided book mediterranean sui...   \n",
       "3  unique  great stay  wonderful time hotel monaco  location excellent short stroll main downtown shopping area  pet friendly room showed sign animal hair smell  monaco suite sleeping area big striped curtain pulled closed nice touch felt cosy  goldfish named brandi enjoyed  n t partake free wine coffee tea service lobby thought great feature  great staff friendly  free wireless internet hotel wo...   \n",
       "4  great stay great stay  went seahawk game awesome  downfall view building n t complain  room huge staff helpful  booked hotel website seahawk package  charge parking got voucher taxi  problem taxi driver n t want accept voucher barely spoke english  funny thing speak arabic called started making comment girlfriend cell phone buddy  took second realize said fact speak language face priceless  to...   \n",
       "\n",
       "   count  \n",
       "0     96  \n",
       "1    274  \n",
       "2    263  \n",
       "3    103  \n",
       "4    223  "
      ]
     },
     "execution_count": 141,
     "metadata": {},
     "output_type": "execute_result"
    }
   ],
   "source": [
    "h=hotel\n",
    "\n",
    "h['count']=hotel['lemm_text'].str.count(' ') + 1\n",
    "h.head()"
   ]
  },
  {
   "cell_type": "code",
   "execution_count": 142,
   "metadata": {},
   "outputs": [],
   "source": [
    "#Get unique words\n",
    "\n",
    "unique = set(df['lemmatized'].str.lower().str.findall(\"\\w+\").sum())"
   ]
  },
  {
   "cell_type": "code",
   "execution_count": 143,
   "metadata": {},
   "outputs": [
    {
     "data": {
      "text/plain": [
       "{'be', 'caca', 'lo', 'me', 'se'}"
      ]
     },
     "execution_count": 143,
     "metadata": {},
     "output_type": "execute_result"
    }
   ],
   "source": [
    "unique"
   ]
  },
  {
   "cell_type": "markdown",
   "metadata": {},
   "source": [
    "https://pandas.pydata.org/pandas-docs/stable/reference/api/pandas.Series.html"
   ]
  },
  {
   "cell_type": "code",
   "execution_count": 144,
   "metadata": {},
   "outputs": [],
   "source": [
    "from collections import Counter\n",
    "from itertools import chain\n",
    "\n",
    "counter = Counter(chain.from_iterable(map(str.split, hotel.lemm_text.tolist()))) "
   ]
  },
  {
   "cell_type": "code",
   "execution_count": 145,
   "metadata": {},
   "outputs": [
    {
     "data": {
      "text/plain": [
       "hotel       54050\n",
       "room        47779\n",
       "great       21485\n",
       "t           19565\n",
       "n           19112\n",
       "            ...  \n",
       "moyen           1\n",
       "appeard         1\n",
       "gorgeors        1\n",
       "seem            1\n",
       "swears          1\n",
       "Length: 44759, dtype: int64"
      ]
     },
     "execution_count": 145,
     "metadata": {},
     "output_type": "execute_result"
    }
   ],
   "source": [
    "series = pd.Series(counter).sort_values(ascending=False)\n",
    "series"
   ]
  },
  {
   "cell_type": "code",
   "execution_count": 146,
   "metadata": {},
   "outputs": [
    {
     "data": {
      "text/plain": [
       "hotel         54050\n",
       "room          47779\n",
       "great         21485\n",
       "t             19565\n",
       "n             19112\n",
       "good          17491\n",
       "staff         16706\n",
       "stay          15601\n",
       "night         14577\n",
       "day           13484\n",
       "time          12981\n",
       "nice          12647\n",
       "location      11560\n",
       "service       10946\n",
       "beach         10529\n",
       "stayed        10502\n",
       "restaurant    10485\n",
       "breakfast     10135\n",
       "food           9688\n",
       "clean          9608\n",
       "dtype: int64"
      ]
     },
     "execution_count": 146,
     "metadata": {},
     "output_type": "execute_result"
    }
   ],
   "source": [
    "series.iloc[0:20]"
   ]
  },
  {
   "cell_type": "markdown",
   "metadata": {},
   "source": [
    "https://sparkbyexamples.com/pandas/pandas-series-filter/#:~:text=By%20using%20Series.filter%20%28%29%20function%20you%20can%20filter,object%20whose%20index%20label%20name%20has%20a%20space."
   ]
  },
  {
   "cell_type": "code",
   "execution_count": 154,
   "metadata": {},
   "outputs": [
    {
     "name": "stdout",
     "output_type": "stream",
     "text": [
      "cost             1460\n",
      "price            4934\n",
      "criminal           10\n",
      "hooker              8\n",
      "inside            661\n",
      "drug               56\n",
      "food             9688\n",
      "parking          1694\n",
      "space            1301\n",
      "ac                330\n",
      "location        11560\n",
      "smoking           683\n",
      "neighborhood      513\n",
      "dtype: int64\n"
     ]
    }
   ],
   "source": [
    "# filter() index by labels\n",
    "ser2 = series.filter(items = ['cost', 'price', 'criminal', 'hooker', 'drugs', 'inside','drug', 'food', 'pool'\n",
    "                                'service', 'parking', 'space', 'ac', 'location', 'smoking' , 'neighborhood'])\n",
    "#cost, crime history, amenities, flexibility, parking, indoor facility, room space, air-conditioning, and neighborhood \n",
    "print(ser2)"
   ]
  },
  {
   "cell_type": "code",
   "execution_count": null,
   "metadata": {},
   "outputs": [],
   "source": []
  },
  {
   "cell_type": "code",
   "execution_count": 165,
   "metadata": {},
   "outputs": [
    {
     "data": {
      "text/plain": [
       "<AxesSubplot:title={'center':'Count of Words in Hotel Review'}, ylabel='Count of Words'>"
      ]
     },
     "execution_count": 165,
     "metadata": {},
     "output_type": "execute_result"
    },
    {
     "data": {
      "image/png": "[encoded data removed]",
      "text/plain": [
       "<Figure size 432x288 with 1 Axes>"
      ]
     },
     "metadata": {
      "needs_background": "light"
     },
     "output_type": "display_data"
    }
   ],
   "source": [
    "# create the bar plot\n",
    "ax = ser2.plot(kind='bar')\n",
    "# rotate xtick labels\n",
    "ax.set_xticklabels(ax.get_xticklabels(), rotation=0)\n",
    "# set the y-axis label\n",
    "ax.set_ylabel(\"Count of Words\")\n",
    "# set the title\n",
    "ax.set_title(\"Count of Words in Hotel Review\")\n",
    "ser2.plot.bar(x='bar')"
   ]
  },
  {
   "cell_type": "code",
   "execution_count": null,
   "metadata": {},
   "outputs": [],
   "source": []
  },
  {
   "cell_type": "code",
   "execution_count": 71,
   "metadata": {},
   "outputs": [
    {
     "data": {
      "text/plain": [
       "<AxesSubplot:xlabel='lemmatized'>"
      ]
     },
     "execution_count": 71,
     "metadata": {},
     "output_type": "execute_result"
    },
    {
     "data": {
      "image/png": "[encoded data removed]",
      "text/plain": [
       "<Figure size 432x288 with 1 Axes>"
      ]
     },
     "metadata": {
      "needs_background": "light"
     },
     "output_type": "display_data"
    }
   ],
   "source": [
    "\n",
    "\n",
    "# plot the dataframe\n",
    "dfg.plot.bar(x='lemmatized')"
   ]
  },
  {
   "cell_type": "markdown",
   "metadata": {},
   "source": [
    "## Now find most popular word groupings\n",
    "\n",
    "# bigrams, # trigrams\n",
    "\n",
    "\n",
    "\n",
    "\n",
    "\n"
   ]
  },
  {
   "cell_type": "code",
   "execution_count": 164,
   "metadata": {},
   "outputs": [],
   "source": [
    "# Creating a corpus to identify word groupings perform an overall training on the model. \n",
    "corpus_hotel = hotel['lemm_text'].str.cat(sep=',')\n"
   ]
  },
  {
   "cell_type": "code",
   "execution_count": null,
   "metadata": {},
   "outputs": [],
   "source": []
  },
  {
   "cell_type": "code",
   "execution_count": null,
   "metadata": {},
   "outputs": [],
   "source": []
  },
  {
   "cell_type": "code",
   "execution_count": null,
   "metadata": {},
   "outputs": [],
   "source": []
  },
  {
   "cell_type": "markdown",
   "metadata": {},
   "source": [
    "## We need to generate a TAG column \n",
    "Exploring these documents: \n",
    "\n",
    "https://www.kaggle.com/code/matleonard/text-classification/notebook\n",
    "\n",
    "https://www.kaggle.com/code/mihirprajapati01/nlp-assignment\n",
    "\n",
    "https://stackoverflow.com/questions/2661778/tag-generation-from-a-text-content"
   ]
  },
  {
   "cell_type": "code",
   "execution_count": 57,
   "metadata": {},
   "outputs": [
    {
     "ename": "SyntaxError",
     "evalue": "invalid syntax (Temp/ipykernel_21952/3959575968.py, line 1)",
     "output_type": "error",
     "traceback": [
      "\u001b[1;36m  File \u001b[1;32m\"C:\\Users\\bobby\\AppData\\Local\\Temp/ipykernel_21952/3959575968.py\"\u001b[1;36m, line \u001b[1;32m1\u001b[0m\n\u001b[1;33m    https://www.kaggle.com/code/matleonard/text-classification/notebook\u001b[0m\n\u001b[1;37m          ^\u001b[0m\n\u001b[1;31mSyntaxError\u001b[0m\u001b[1;31m:\u001b[0m invalid syntax\n"
     ]
    }
   ],
   "source": []
  },
  {
   "cell_type": "code",
   "execution_count": 7,
   "metadata": {
    "tags": []
   },
   "outputs": [
    {
     "data": {
      "text/plain": [
       "\"import nltk\\nfrom nltk.collocations import *\\nbigram_measures = nltk.collocations.BigramAssocMeasures()\\n\\n# change this to read in your data\\nfinder = BigramCollocationFinder.from_words(\\n   nltk.corpus.genesis.words('english-web.txt'))\\n\\n# only bigrams that appear 3+ times\\nfinder.apply_freq_filter(3) \\n\\n# return the 5 n-grams with the highest PMI\\nfinder.nbest(bigram_measures.pmi, 6)  \""
      ]
     },
     "execution_count": 7,
     "metadata": {},
     "output_type": "execute_result"
    }
   ],
   "source": [
    "'''import nltk\n",
    "from nltk.collocations import *\n",
    "bigram_measures = nltk.collocations.BigramAssocMeasures()\n",
    "\n",
    "# change this to read in your data\n",
    "finder = BigramCollocationFinder.from_words(\n",
    "   nltk.corpus.genesis.words('english-web.txt'))\n",
    "\n",
    "# only bigrams that appear 3+ times\n",
    "finder.apply_freq_filter(3) \n",
    "\n",
    "# return the 5 n-grams with the highest PMI\n",
    "finder.nbest(bigram_measures.pmi, 6)  '''\n"
   ]
  },
  {
   "cell_type": "code",
   "execution_count": 15,
   "metadata": {
    "tags": []
   },
   "outputs": [],
   "source": [
    "import spacy\n",
    "\n",
    "# Create an empty model\n",
    "nlp = spacy.blank(\"en\")\n",
    "\n",
    "# Add the TextCategorizer to the empty model\n",
    "textcat = nlp.add_pipe(\"textcat\")"
   ]
  },
  {
   "cell_type": "code",
   "execution_count": 16,
   "metadata": {},
   "outputs": [
    {
     "data": {
      "text/plain": [
       "1"
      ]
     },
     "execution_count": 16,
     "metadata": {},
     "output_type": "execute_result"
    }
   ],
   "source": [
    "# Add labels to text classifier\n",
    "textcat.add_label(\"ham\")\n",
    "textcat.add_label(\"spam\")"
   ]
  },
  {
   "cell_type": "code",
   "execution_count": 17,
   "metadata": {},
   "outputs": [
    {
     "ename": "NameError",
     "evalue": "name 'spam' is not defined",
     "output_type": "error",
     "traceback": [
      "\u001b[1;31m---------------------------------------------------------------------------\u001b[0m",
      "\u001b[1;31mNameError\u001b[0m                                 Traceback (most recent call last)",
      "\u001b[1;32m~\\AppData\\Local\\Temp/ipykernel_18192/993471173.py\u001b[0m in \u001b[0;36m<module>\u001b[1;34m\u001b[0m\n\u001b[1;32m----> 1\u001b[1;33m \u001b[0mtrain_texts\u001b[0m \u001b[1;33m=\u001b[0m \u001b[0mspam\u001b[0m\u001b[1;33m[\u001b[0m\u001b[1;34m'text'\u001b[0m\u001b[1;33m]\u001b[0m\u001b[1;33m.\u001b[0m\u001b[0mvalues\u001b[0m\u001b[1;33m\u001b[0m\u001b[1;33m\u001b[0m\u001b[0m\n\u001b[0m\u001b[0;32m      2\u001b[0m train_labels = [{'cats': {'ham': label == 'ham',\n\u001b[0;32m      3\u001b[0m                           'spam': label == 'spam'}} \n\u001b[0;32m      4\u001b[0m                 for label in spam['label']]\n",
      "\u001b[1;31mNameError\u001b[0m: name 'spam' is not defined"
     ]
    }
   ],
   "source": [
    "train_texts = spam['text'].values\n",
    "train_labels = [{'cats': {'ham': label == 'ham',\n",
    "                          'spam': label == 'spam'}} \n",
    "                for label in spam['label']]"
   ]
  },
  {
   "cell_type": "code",
   "execution_count": null,
   "metadata": {},
   "outputs": [],
   "source": []
  },
  {
   "cell_type": "code",
   "execution_count": null,
   "metadata": {},
   "outputs": [],
   "source": []
  },
  {
   "cell_type": "markdown",
   "metadata": {},
   "source": [
    "##  Not part of our objective.\n",
    "\n",
    "## These are the Preparation for Predictions: Keeping for reference to source. "
   ]
  },
  {
   "cell_type": "code",
   "execution_count": 25,
   "metadata": {
    "papermill": {
     "duration": 0.03911,
     "end_time": "2022-06-29T00:55:41.799719",
     "exception": false,
     "start_time": "2022-06-29T00:55:41.760609",
     "status": "completed"
    },
    "tags": []
   },
   "outputs": [],
   "source": [
    "train,test,y_train,y_test=train_test_split(tokenized_text,output,test_size=0.2,random_state=21)"
   ]
  },
  {
   "cell_type": "code",
   "execution_count": 26,
   "metadata": {
    "papermill": {
     "duration": 0.793729,
     "end_time": "2022-06-29T00:55:42.617166",
     "exception": false,
     "start_time": "2022-06-29T00:55:41.823437",
     "status": "completed"
    },
    "tags": []
   },
   "outputs": [],
   "source": [
    "vector_space=32\n",
    "model=Sequential()\n",
    "model.add(Embedding(num_words,vector_space,input_length=length))\n",
    "model.add(LSTM(16,return_sequences=True,recurrent_dropout=0.2))\n",
    "model.add(LSTM(16,return_sequences=True,recurrent_dropout=0.2))\n",
    "model.add(LSTM(32))\n",
    "model.add(Flatten())\n",
    "model.add(Dropout(0.5))\n",
    "model.add(Dense(64,activation='relu'))\n",
    "model.add(Dropout(0.25))\n",
    "model.add(Dense(64,activation='relu'))\n",
    "model.add(Dropout(0.25))\n",
    "model.add(Dense(5,activation='softmax'))"
   ]
  },
  {
   "cell_type": "code",
   "execution_count": 27,
   "metadata": {
    "papermill": {
     "duration": 0.040675,
     "end_time": "2022-06-29T00:55:42.681415",
     "exception": false,
     "start_time": "2022-06-29T00:55:42.640740",
     "status": "completed"
    },
    "tags": []
   },
   "outputs": [
    {
     "name": "stdout",
     "output_type": "stream",
     "text": [
      "Model: \"sequential\"\n",
      "_________________________________________________________________\n",
      " Layer (type)                Output Shape              Param #   \n",
      "=================================================================\n",
      " embedding (Embedding)       (None, 100, 32)           640000    \n",
      "                                                                 \n",
      " lstm (LSTM)                 (None, 100, 16)           3136      \n",
      "                                                                 \n",
      " lstm_1 (LSTM)               (None, 100, 16)           2112      \n",
      "                                                                 \n",
      " lstm_2 (LSTM)               (None, 32)                6272      \n",
      "                                                                 \n",
      " flatten (Flatten)           (None, 32)                0         \n",
      "                                                                 \n",
      " dropout (Dropout)           (None, 32)                0         \n",
      "                                                                 \n",
      " dense (Dense)               (None, 64)                2112      \n",
      "                                                                 \n",
      " dropout_1 (Dropout)         (None, 64)                0         \n",
      "                                                                 \n",
      " dense_1 (Dense)             (None, 64)                4160      \n",
      "                                                                 \n",
      " dropout_2 (Dropout)         (None, 64)                0         \n",
      "                                                                 \n",
      " dense_2 (Dense)             (None, 5)                 325       \n",
      "                                                                 \n",
      "=================================================================\n",
      "Total params: 658,117\n",
      "Trainable params: 658,117\n",
      "Non-trainable params: 0\n",
      "_________________________________________________________________\n"
     ]
    }
   ],
   "source": [
    "model.summary()"
   ]
  },
  {
   "cell_type": "code",
   "execution_count": 28,
   "metadata": {
    "papermill": {
     "duration": 167.673066,
     "end_time": "2022-06-29T00:58:30.379889",
     "exception": false,
     "start_time": "2022-06-29T00:55:42.706823",
     "status": "completed"
    },
    "tags": []
   },
   "outputs": [
    {
     "name": "stdout",
     "output_type": "stream",
     "text": [
      "Epoch 1/20\n",
      "14/14 [==============================] - 10s 468ms/step - loss: 1.5676 - accuracy: 0.3965 - val_loss: 1.4449 - val_accuracy: 0.4440\n",
      "Epoch 2/20\n",
      "14/14 [==============================] - 6s 416ms/step - loss: 1.3984 - accuracy: 0.4219 - val_loss: 1.3639 - val_accuracy: 0.4440\n",
      "Epoch 3/20\n",
      "14/14 [==============================] - 6s 430ms/step - loss: 1.3699 - accuracy: 0.4216 - val_loss: 1.3366 - val_accuracy: 0.4440\n",
      "Epoch 4/20\n",
      "14/14 [==============================] - 6s 446ms/step - loss: 1.3450 - accuracy: 0.4338 - val_loss: 1.3186 - val_accuracy: 0.4440\n",
      "Epoch 5/20\n",
      "14/14 [==============================] - 6s 461ms/step - loss: 1.2570 - accuracy: 0.4391 - val_loss: 1.1613 - val_accuracy: 0.4474\n",
      "Epoch 6/20\n",
      "14/14 [==============================] - 7s 473ms/step - loss: 1.1432 - accuracy: 0.4363 - val_loss: 1.0909 - val_accuracy: 0.4791\n",
      "Epoch 7/20\n",
      "14/14 [==============================] - 7s 484ms/step - loss: 1.0674 - accuracy: 0.4804 - val_loss: 1.0535 - val_accuracy: 0.4977\n",
      "Epoch 8/20\n",
      "14/14 [==============================] - 7s 490ms/step - loss: 1.0035 - accuracy: 0.5048 - val_loss: 1.0357 - val_accuracy: 0.4962\n",
      "Epoch 9/20\n",
      "14/14 [==============================] - 7s 495ms/step - loss: 0.9539 - accuracy: 0.5178 - val_loss: 1.0409 - val_accuracy: 0.5023\n",
      "Epoch 10/20\n",
      "14/14 [==============================] - 7s 503ms/step - loss: 0.9281 - accuracy: 0.5315 - val_loss: 1.0313 - val_accuracy: 0.5050\n",
      "Epoch 11/20\n",
      "14/14 [==============================] - 7s 507ms/step - loss: 0.8968 - accuracy: 0.5367 - val_loss: 1.0441 - val_accuracy: 0.5197\n",
      "Epoch 12/20\n",
      "14/14 [==============================] - 7s 508ms/step - loss: 0.8623 - accuracy: 0.5621 - val_loss: 1.0548 - val_accuracy: 0.5483\n",
      "Epoch 13/20\n",
      "14/14 [==============================] - 7s 504ms/step - loss: 0.8372 - accuracy: 0.5887 - val_loss: 1.0791 - val_accuracy: 0.5483\n",
      "Epoch 14/20\n",
      "14/14 [==============================] - 7s 504ms/step - loss: 0.8099 - accuracy: 0.6126 - val_loss: 1.0602 - val_accuracy: 0.5352\n",
      "Epoch 15/20\n",
      "14/14 [==============================] - 7s 519ms/step - loss: 0.7708 - accuracy: 0.6442 - val_loss: 1.0838 - val_accuracy: 0.5358\n",
      "Epoch 16/20\n",
      "14/14 [==============================] - 7s 518ms/step - loss: 0.7485 - accuracy: 0.6625 - val_loss: 1.1785 - val_accuracy: 0.5419\n",
      "Epoch 17/20\n",
      "14/14 [==============================] - 8s 554ms/step - loss: 0.7073 - accuracy: 0.6918 - val_loss: 1.1580 - val_accuracy: 0.5310\n",
      "Epoch 18/20\n",
      "14/14 [==============================] - 8s 603ms/step - loss: 0.6707 - accuracy: 0.7133 - val_loss: 1.2799 - val_accuracy: 0.5401\n",
      "Epoch 19/20\n",
      "14/14 [==============================] - 9s 615ms/step - loss: 0.6566 - accuracy: 0.7206 - val_loss: 1.3097 - val_accuracy: 0.5462\n",
      "Epoch 20/20\n",
      "14/14 [==============================] - 9s 624ms/step - loss: 0.6173 - accuracy: 0.7427 - val_loss: 1.4061 - val_accuracy: 0.5422\n"
     ]
    }
   ],
   "source": [
    "epoch=20\n",
    "model.compile(optimizer='Adam',loss='categorical_crossentropy',metrics=['accuracy'])\n",
    "history=model.fit(train,y_train,validation_split=0.2,epochs=epoch,batch_size=1000)"
   ]
  },
  {
   "cell_type": "code",
   "execution_count": 29,
   "metadata": {
    "papermill": {
     "duration": 0.475037,
     "end_time": "2022-06-29T00:58:30.983426",
     "exception": false,
     "start_time": "2022-06-29T00:58:30.508389",
     "status": "completed"
    },
    "tags": []
   },
   "outputs": [
    {
     "data": {
      "image/png": "[encoded data removed]",
      "text/plain": [
       "<Figure size 864x360 with 2 Axes>"
      ]
     },
     "metadata": {
      "needs_background": "light"
     },
     "output_type": "display_data"
    }
   ],
   "source": [
    "h=history.history\n",
    "fig=plt.figure(figsize=(12,5))\n",
    "plt.subplot(1,2,1)\n",
    "plt.title('Accuracy')\n",
    "plt.plot(range(1,epoch+1),h['accuracy'],label='train')\n",
    "plt.plot(range(1,epoch+1),h['val_accuracy'],label='validation')\n",
    "plt.legend()\n",
    "plt.subplot(1,2,2)\n",
    "plt.title('Loss')\n",
    "plt.plot(range(1,epoch+1),h['loss'],label='train')\n",
    "plt.plot(range(1,epoch+1),h['val_loss'],label='validation')\n",
    "plt.legend()\n",
    "plt.show()"
   ]
  },
  {
   "cell_type": "code",
   "execution_count": 30,
   "metadata": {
    "papermill": {
     "duration": 0.14615,
     "end_time": "2022-06-29T00:58:31.259267",
     "exception": false,
     "start_time": "2022-06-29T00:58:31.113117",
     "status": "completed"
    },
    "tags": []
   },
   "outputs": [],
   "source": [
    "train,test,y_train,y_test=train_test_split(tokenized_text,df['Rating'],test_size=0.2,random_state=21)"
   ]
  },
  {
   "cell_type": "code",
   "execution_count": 31,
   "metadata": {
    "papermill": {
     "duration": 0.393578,
     "end_time": "2022-06-29T00:58:31.780618",
     "exception": false,
     "start_time": "2022-06-29T00:58:31.387040",
     "status": "completed"
    },
    "tags": []
   },
   "outputs": [],
   "source": [
    "model=Sequential()\n",
    "model.add(Embedding(num_words,vector_space,input_length=length))\n",
    "model.add(LSTM(32))\n",
    "model.add(Flatten())\n",
    "model.add(Dense(256,activation='relu'))\n",
    "model.add(Dense(1,activation='relu'))"
   ]
  },
  {
   "cell_type": "code",
   "execution_count": 32,
   "metadata": {
    "papermill": {
     "duration": 0.14147,
     "end_time": "2022-06-29T00:58:32.050339",
     "exception": false,
     "start_time": "2022-06-29T00:58:31.908869",
     "status": "completed"
    },
    "tags": []
   },
   "outputs": [
    {
     "name": "stdout",
     "output_type": "stream",
     "text": [
      "Model: \"sequential_1\"\n",
      "_________________________________________________________________\n",
      " Layer (type)                Output Shape              Param #   \n",
      "=================================================================\n",
      " embedding_1 (Embedding)     (None, 100, 32)           640000    \n",
      "                                                                 \n",
      " lstm_3 (LSTM)               (None, 32)                8320      \n",
      "                                                                 \n",
      " flatten_1 (Flatten)         (None, 32)                0         \n",
      "                                                                 \n",
      " dense_3 (Dense)             (None, 256)               8448      \n",
      "                                                                 \n",
      " dense_4 (Dense)             (None, 1)                 257       \n",
      "                                                                 \n",
      "=================================================================\n",
      "Total params: 657,025\n",
      "Trainable params: 657,025\n",
      "Non-trainable params: 0\n",
      "_________________________________________________________________\n"
     ]
    }
   ],
   "source": [
    "model.summary()"
   ]
  },
  {
   "cell_type": "code",
   "execution_count": 33,
   "metadata": {
    "papermill": {
     "duration": 92.583643,
     "end_time": "2022-06-29T01:00:04.763323",
     "exception": false,
     "start_time": "2022-06-29T00:58:32.179680",
     "status": "completed"
    },
    "tags": []
   },
   "outputs": [
    {
     "name": "stdout",
     "output_type": "stream",
     "text": [
      "Epoch 1/20\n",
      "53/53 [==============================] - 5s 68ms/step - loss: 6.4083 - mae: 2.0110 - val_loss: 1.5137 - val_mae: 0.9320\n",
      "Epoch 2/20\n",
      "53/53 [==============================] - 3s 63ms/step - loss: 1.4959 - mae: 0.9594 - val_loss: 1.4439 - val_mae: 0.9512\n",
      "Epoch 3/20\n",
      "53/53 [==============================] - 3s 63ms/step - loss: 1.4527 - mae: 0.9472 - val_loss: 1.4236 - val_mae: 0.9388\n",
      "Epoch 4/20\n",
      "53/53 [==============================] - 3s 62ms/step - loss: 1.3517 - mae: 0.9110 - val_loss: 1.0869 - val_mae: 0.8455\n",
      "Epoch 5/20\n",
      "53/53 [==============================] - 3s 63ms/step - loss: 0.8298 - mae: 0.7273 - val_loss: 0.7460 - val_mae: 0.6950\n",
      "Epoch 6/20\n",
      "53/53 [==============================] - 3s 63ms/step - loss: 0.5783 - mae: 0.6212 - val_loss: 0.6705 - val_mae: 0.6749\n",
      "Epoch 7/20\n",
      "53/53 [==============================] - 3s 63ms/step - loss: 0.4651 - mae: 0.5596 - val_loss: 0.7052 - val_mae: 0.6500\n",
      "Epoch 8/20\n",
      "53/53 [==============================] - 3s 63ms/step - loss: 0.4046 - mae: 0.5182 - val_loss: 0.6627 - val_mae: 0.6519\n",
      "Epoch 9/20\n",
      "53/53 [==============================] - 3s 62ms/step - loss: 0.3382 - mae: 0.4729 - val_loss: 0.6466 - val_mae: 0.6382\n",
      "Epoch 10/20\n",
      "53/53 [==============================] - 3s 62ms/step - loss: 0.2929 - mae: 0.4361 - val_loss: 0.6546 - val_mae: 0.6219\n",
      "Epoch 11/20\n",
      "53/53 [==============================] - 3s 62ms/step - loss: 0.2668 - mae: 0.4153 - val_loss: 0.6572 - val_mae: 0.6362\n",
      "Epoch 12/20\n",
      "53/53 [==============================] - 3s 63ms/step - loss: 0.2219 - mae: 0.3715 - val_loss: 0.6707 - val_mae: 0.6429\n",
      "Epoch 13/20\n",
      "53/53 [==============================] - 3s 63ms/step - loss: 0.1983 - mae: 0.3490 - val_loss: 0.6685 - val_mae: 0.6207\n",
      "Epoch 14/20\n",
      "53/53 [==============================] - 3s 63ms/step - loss: 0.1824 - mae: 0.3354 - val_loss: 0.7358 - val_mae: 0.6519\n",
      "Epoch 15/20\n",
      "53/53 [==============================] - 3s 62ms/step - loss: 0.1587 - mae: 0.3059 - val_loss: 0.7790 - val_mae: 0.6837\n",
      "Epoch 16/20\n",
      "53/53 [==============================] - 3s 62ms/step - loss: 0.1710 - mae: 0.3236 - val_loss: 0.7217 - val_mae: 0.6116\n",
      "Epoch 17/20\n",
      "53/53 [==============================] - 3s 62ms/step - loss: 0.1297 - mae: 0.2716 - val_loss: 0.7137 - val_mae: 0.6256\n",
      "Epoch 18/20\n",
      "53/53 [==============================] - 3s 62ms/step - loss: 0.1073 - mae: 0.2390 - val_loss: 0.7101 - val_mae: 0.6294\n",
      "Epoch 19/20\n",
      "53/53 [==============================] - 3s 62ms/step - loss: 0.1043 - mae: 0.2352 - val_loss: 0.7761 - val_mae: 0.6646\n",
      "Epoch 20/20\n",
      "53/53 [==============================] - 3s 63ms/step - loss: 0.1002 - mae: 0.2308 - val_loss: 0.7241 - val_mae: 0.6197\n"
     ]
    }
   ],
   "source": [
    "epoch=20\n",
    "model.compile(optimizer='Adam',loss='mse',metrics='mae')\n",
    "history=model.fit(train,y_train,epochs=epoch,batch_size=250,validation_split=0.2)"
   ]
  },
  {
   "cell_type": "code",
   "execution_count": 34,
   "metadata": {
    "papermill": {
     "duration": 0.884181,
     "end_time": "2022-06-29T01:00:06.148710",
     "exception": false,
     "start_time": "2022-06-29T01:00:05.264529",
     "status": "completed"
    },
    "tags": []
   },
   "outputs": [
    {
     "data": {
      "image/png": "[encoded data removed]",
      "text/plain": [
       "<Figure size 864x360 with 2 Axes>"
      ]
     },
     "metadata": {
      "needs_background": "light"
     },
     "output_type": "display_data"
    }
   ],
   "source": [
    "h=history.history\n",
    "fig=plt.figure(figsize=(12,5))\n",
    "plt.subplot(1,2,1)\n",
    "plt.title('Mean Absolute Error')\n",
    "plt.plot(range(1,epoch+1),h['mae'],label='train')\n",
    "plt.plot(range(1,epoch+1),h['val_mae'],label='validation')\n",
    "plt.legend()\n",
    "plt.subplot(1,2,2)\n",
    "plt.title('Loss')\n",
    "plt.plot(range(1,epoch+1),h['loss'],label='train')\n",
    "plt.plot(range(1,epoch+1),h['val_loss'],label='validation')\n",
    "plt.legend()\n",
    "plt.show()"
   ]
  },
  {
   "cell_type": "code",
   "execution_count": 35,
   "metadata": {
    "papermill": {
     "duration": 0.556194,
     "end_time": "2022-06-29T01:00:07.194294",
     "exception": false,
     "start_time": "2022-06-29T01:00:06.638100",
     "status": "completed"
    },
    "tags": []
   },
   "outputs": [],
   "source": [
    "def get_preds(data,true_labels):\n",
    "    pred=model.predict(data)\n",
    "    h=[]\n",
    "    for x in pred:\n",
    "        if x-int(x)>=0.5:\n",
    "            h.append(np.ceil(x))\n",
    "        else :\n",
    "            h.append(np.floor(x))\n",
    "    print(pred[0:5])\n",
    "    print(true_labels[:5])\n",
    "    return accuracy_score(h,true_labels)"
   ]
  },
  {
   "cell_type": "code",
   "execution_count": 36,
   "metadata": {
    "papermill": {
     "duration": 5.589041,
     "end_time": "2022-06-29T01:00:13.267997",
     "exception": false,
     "start_time": "2022-06-29T01:00:07.678956",
     "status": "completed"
    },
    "tags": []
   },
   "outputs": [
    {
     "name": "stdout",
     "output_type": "stream",
     "text": [
      "[[4.075413 ]\n",
      " [4.7228527]\n",
      " [2.112603 ]\n",
      " [4.053693 ]\n",
      " [3.9605172]]\n",
      "10294    4\n",
      "11753    5\n",
      "16362    2\n",
      "7074     4\n",
      "14058    4\n",
      "Name: Rating, dtype: int64\n"
     ]
    },
    {
     "data": {
      "text/plain": [
       "0.835285505124451"
      ]
     },
     "execution_count": 36,
     "metadata": {},
     "output_type": "execute_result"
    }
   ],
   "source": [
    "get_preds(train,y_train)"
   ]
  },
  {
   "cell_type": "code",
   "execution_count": 37,
   "metadata": {
    "papermill": {
     "duration": 1.689104,
     "end_time": "2022-06-29T01:00:15.444354",
     "exception": false,
     "start_time": "2022-06-29T01:00:13.755250",
     "status": "completed"
    },
    "tags": []
   },
   "outputs": [
    {
     "name": "stdout",
     "output_type": "stream",
     "text": [
      "[[3.7904174]\n",
      " [4.4888306]\n",
      " [4.9037666]\n",
      " [4.790903 ]\n",
      " [4.300141 ]]\n",
      "955      3\n",
      "19500    5\n",
      "19157    5\n",
      "17671    5\n",
      "17723    5\n",
      "Name: Rating, dtype: int64\n"
     ]
    },
    {
     "data": {
      "text/plain": [
       "0.5279336423517931"
      ]
     },
     "execution_count": 37,
     "metadata": {},
     "output_type": "execute_result"
    }
   ],
   "source": [
    "get_preds(test,y_test)"
   ]
  },
  {
   "cell_type": "code",
   "execution_count": null,
   "metadata": {
    "papermill": {
     "duration": 0.507818,
     "end_time": "2022-06-29T01:00:16.440999",
     "exception": false,
     "start_time": "2022-06-29T01:00:15.933181",
     "status": "completed"
    },
    "tags": []
   },
   "outputs": [],
   "source": []
  },
  {
   "cell_type": "code",
   "execution_count": null,
   "metadata": {},
   "outputs": [],
   "source": []
  }
 ],
 "metadata": {
  "kernelspec": {
   "display_name": "Python 3 (ipykernel)",
   "language": "python",
   "name": "python3"
  },
  "language_info": {
   "codemirror_mode": {
    "name": "ipython",
    "version": 3
   },
   "file_extension": ".py",
   "mimetype": "text/x-python",
   "name": "python",
   "nbconvert_exporter": "python",
   "pygments_lexer": "ipython3",
   "version": "3.9.7"
  },
  "papermill": {
   "duration": 329.739315,
   "end_time": "2022-06-29T01:00:17.030430",
   "environment_variables": {},
   "exception": null,
   "input_path": "__notebook__.ipynb",
   "output_path": "__notebook__.ipynb",
   "parameters": {},
   "start_time": "2022-06-29T00:54:47.291115",
   "version": "2.1.0"
  }
 },
 "nbformat": 4,
 "nbformat_minor": 4
}
